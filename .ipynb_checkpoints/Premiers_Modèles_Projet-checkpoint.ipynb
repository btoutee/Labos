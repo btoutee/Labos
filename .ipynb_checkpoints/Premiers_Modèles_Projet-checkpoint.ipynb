{
 "cells": [
  {
   "cell_type": "markdown",
   "id": "dd49fc30",
   "metadata": {},
   "source": [
    "# Projet MTH 8408 : Local Warming"
   ]
  },
  {
   "cell_type": "markdown",
   "id": "6cbcb048",
   "metadata": {},
   "source": [
    "### Bertrand Toutée et Jean-Charles Layoun\n",
    "#### 2022-04-24"
   ]
  },
  {
   "cell_type": "code",
   "execution_count": 2,
   "id": "8d1f5ca3",
   "metadata": {},
   "outputs": [],
   "source": [
    "using DataFrames, LsqFit, CSV, Statistics, QuadraticModels, LinearAlgebra, SparseMatricesCOO, Krylov, Dates"
   ]
  },
  {
   "cell_type": "markdown",
   "id": "c673139a",
   "metadata": {},
   "source": [
    "## Exploration des données"
   ]
  },
  {
   "cell_type": "code",
   "execution_count": 3,
   "id": "be40a9de",
   "metadata": {
    "scrolled": true
   },
   "outputs": [
    {
     "data": {
      "text/html": [
       "<div class=\"data-frame\"><p>5 rows × 70 columns (omitted printing of 65 columns)</p><table class=\"data-frame\"><thead><tr><th></th><th>date</th><th>max_temperature</th><th>avg_hourly_temperature</th><th>avg_temperature</th><th>min_temperature</th></tr><tr><th></th><th title=\"Date\">Date</th><th title=\"Float64\">Float64</th><th title=\"Float64\">Float64</th><th title=\"Float64\">Float64</th><th title=\"Float64\">Float64</th></tr></thead><tbody><tr><th>1</th><td>2022-04-18</td><td>10.6</td><td>4.98</td><td>3.75</td><td>-3.1</td></tr><tr><th>2</th><td>2022-04-17</td><td>7.6</td><td>3.8</td><td>3.5</td><td>-0.6</td></tr><tr><th>3</th><td>2022-04-16</td><td>8.3</td><td>5.02</td><td>4.85</td><td>1.4</td></tr><tr><th>4</th><td>2022-04-15</td><td>14.6</td><td>9.32</td><td>9.0</td><td>3.4</td></tr><tr><th>5</th><td>2022-04-14</td><td>11.4</td><td>8.38</td><td>8.85</td><td>6.3</td></tr></tbody></table></div>"
      ],
      "text/latex": [
       "\\begin{tabular}{r|cccccc}\n",
       "\t& date & max\\_temperature & avg\\_hourly\\_temperature & avg\\_temperature & min\\_temperature & \\\\\n",
       "\t\\hline\n",
       "\t& Date & Float64 & Float64 & Float64 & Float64 & \\\\\n",
       "\t\\hline\n",
       "\t1 & 2022-04-18 & 10.6 & 4.98 & 3.75 & -3.1 & $\\dots$ \\\\\n",
       "\t2 & 2022-04-17 & 7.6 & 3.8 & 3.5 & -0.6 & $\\dots$ \\\\\n",
       "\t3 & 2022-04-16 & 8.3 & 5.02 & 4.85 & 1.4 & $\\dots$ \\\\\n",
       "\t4 & 2022-04-15 & 14.6 & 9.32 & 9.0 & 3.4 & $\\dots$ \\\\\n",
       "\t5 & 2022-04-14 & 11.4 & 8.38 & 8.85 & 6.3 & $\\dots$ \\\\\n",
       "\\end{tabular}\n"
      ],
      "text/plain": [
       "\u001b[1m5×70 DataFrame\u001b[0m\n",
       "\u001b[1m Row \u001b[0m│\u001b[1m date       \u001b[0m\u001b[1m max_temperature \u001b[0m\u001b[1m avg_hourly_temperature \u001b[0m\u001b[1m avg_temperature \u001b[0m\u001b[1m m\u001b[0m ⋯\n",
       "\u001b[1m     \u001b[0m│\u001b[90m Date       \u001b[0m\u001b[90m Float64         \u001b[0m\u001b[90m Float64                \u001b[0m\u001b[90m Float64         \u001b[0m\u001b[90m F\u001b[0m ⋯\n",
       "─────┼──────────────────────────────────────────────────────────────────────────\n",
       "   1 │ 2022-04-18             10.6                    4.98             3.75    ⋯\n",
       "   2 │ 2022-04-17              7.6                    3.8              3.5\n",
       "   3 │ 2022-04-16              8.3                    5.02             4.85\n",
       "   4 │ 2022-04-15             14.6                    9.32             9.0\n",
       "   5 │ 2022-04-14             11.4                    8.38             8.85    ⋯\n",
       "\u001b[36m                                                              66 columns omitted\u001b[0m"
      ]
     },
     "execution_count": 3,
     "metadata": {},
     "output_type": "execute_result"
    }
   ],
   "source": [
    "data_folder = \"Data/\"\n",
    "file_name   = \"weatherstats_montreal_daily.csv\"\n",
    "df = DataFrame(CSV.File(data_folder * file_name))\n",
    "first(df, 5)"
   ]
  },
  {
   "cell_type": "code",
   "execution_count": 5,
   "id": "c20e102d",
   "metadata": {},
   "outputs": [
    {
     "data": {
      "text/plain": [
       "1967-07-17"
      ]
     },
     "execution_count": 5,
     "metadata": {},
     "output_type": "execute_result"
    }
   ],
   "source": [
    "last(df.date)"
   ]
  },
  {
   "cell_type": "code",
   "execution_count": 6,
   "id": "785af97a",
   "metadata": {},
   "outputs": [
    {
     "data": {
      "text/plain": [
       "20000"
      ]
     },
     "execution_count": 6,
     "metadata": {},
     "output_type": "execute_result"
    }
   ],
   "source": [
    "nrow(df)"
   ]
  },
  {
   "cell_type": "code",
   "execution_count": 7,
   "id": "5f6ec5a1",
   "metadata": {},
   "outputs": [
    {
     "data": {
      "text/plain": [
       "70"
      ]
     },
     "execution_count": 7,
     "metadata": {},
     "output_type": "execute_result"
    }
   ],
   "source": [
    "ncol(df)"
   ]
  },
  {
   "cell_type": "markdown",
   "id": "4229ecb2",
   "metadata": {},
   "source": [
    "#### Train Test split"
   ]
  },
  {
   "cell_type": "code",
   "execution_count": 4,
   "id": "056a1c7d",
   "metadata": {},
   "outputs": [
    {
     "data": {
      "text/html": [
       "<p>DataFrameRow (70 columns)</p><div class=\"data-frame\"><table class=\"data-frame\"><thead><tr><th></th><th>date</th><th>max_temperature</th><th>avg_hourly_temperature</th><th>avg_temperature</th><th>min_temperature</th></tr><tr><th></th><th title=\"Date\">Date</th><th title=\"Float64\">Float64</th><th title=\"Float64\">Float64</th><th title=\"Float64\">Float64</th><th title=\"Float64\">Float64</th></tr></thead><tbody><tr><th>2665</th><td>2015-01-01</td><td>-3.0</td><td>-4.9</td><td>-5.3</td><td>-7.6</td></tr></tbody></table></div>"
      ],
      "text/latex": [
       "\\begin{tabular}{r|cccccc}\n",
       "\t& date & max\\_temperature & avg\\_hourly\\_temperature & avg\\_temperature & min\\_temperature & \\\\\n",
       "\t\\hline\n",
       "\t& Date & Float64 & Float64 & Float64 & Float64 & \\\\\n",
       "\t\\hline\n",
       "\t2665 & 2015-01-01 & -3.0 & -4.9 & -5.3 & -7.6 & $\\dots$ \\\\\n",
       "\\end{tabular}\n"
      ],
      "text/plain": [
       "\u001b[1mDataFrameRow\u001b[0m\n",
       "\u001b[1m  Row \u001b[0m│\u001b[1m date       \u001b[0m\u001b[1m max_temperature \u001b[0m\u001b[1m avg_hourly_temperature \u001b[0m\u001b[1m avg_temperature \u001b[0m\u001b[1m \u001b[0m ⋯\n",
       "\u001b[1m      \u001b[0m│\u001b[90m Date       \u001b[0m\u001b[90m Float64         \u001b[0m\u001b[90m Float64                \u001b[0m\u001b[90m Float64         \u001b[0m\u001b[90m \u001b[0m ⋯\n",
       "──────┼─────────────────────────────────────────────────────────────────────────\n",
       " 2665 │ 2015-01-01             -3.0                    -4.9             -5.3   ⋯\n",
       "\u001b[36m                                                              66 columns omitted\u001b[0m"
      ]
     },
     "execution_count": 4,
     "metadata": {},
     "output_type": "execute_result"
    }
   ],
   "source": [
    "date1, date2 = Date(\"1980-01-01\"), Date(\"2015-01-01\")\n",
    "train_df = df[date2 .> df.date .>= date1, :]\n",
    "test_df  = df[df.date .>= Date(\"2015-01-01\"), :]\n",
    "last(test_df)"
   ]
  },
  {
   "cell_type": "code",
   "execution_count": 9,
   "id": "39550ed0",
   "metadata": {},
   "outputs": [
    {
     "data": {
      "text/html": [
       "<div class=\"data-frame\"><p>5 rows × 70 columns (omitted printing of 65 columns)</p><table class=\"data-frame\"><thead><tr><th></th><th>date</th><th>max_temperature</th><th>avg_hourly_temperature</th><th>avg_temperature</th><th>min_temperature</th></tr><tr><th></th><th title=\"Date\">Date</th><th title=\"Float64\">Float64</th><th title=\"Float64\">Float64</th><th title=\"Float64\">Float64</th><th title=\"Float64\">Float64</th></tr></thead><tbody><tr><th>1</th><td>2022-04-18</td><td>10.6</td><td>4.98</td><td>3.75</td><td>-3.1</td></tr><tr><th>2</th><td>2022-04-17</td><td>7.6</td><td>3.8</td><td>3.5</td><td>-0.6</td></tr><tr><th>3</th><td>2022-04-16</td><td>8.3</td><td>5.02</td><td>4.85</td><td>1.4</td></tr><tr><th>4</th><td>2022-04-15</td><td>14.6</td><td>9.32</td><td>9.0</td><td>3.4</td></tr><tr><th>5</th><td>2022-04-14</td><td>11.4</td><td>8.38</td><td>8.85</td><td>6.3</td></tr></tbody></table></div>"
      ],
      "text/latex": [
       "\\begin{tabular}{r|cccccc}\n",
       "\t& date & max\\_temperature & avg\\_hourly\\_temperature & avg\\_temperature & min\\_temperature & \\\\\n",
       "\t\\hline\n",
       "\t& Date & Float64 & Float64 & Float64 & Float64 & \\\\\n",
       "\t\\hline\n",
       "\t1 & 2022-04-18 & 10.6 & 4.98 & 3.75 & -3.1 & $\\dots$ \\\\\n",
       "\t2 & 2022-04-17 & 7.6 & 3.8 & 3.5 & -0.6 & $\\dots$ \\\\\n",
       "\t3 & 2022-04-16 & 8.3 & 5.02 & 4.85 & 1.4 & $\\dots$ \\\\\n",
       "\t4 & 2022-04-15 & 14.6 & 9.32 & 9.0 & 3.4 & $\\dots$ \\\\\n",
       "\t5 & 2022-04-14 & 11.4 & 8.38 & 8.85 & 6.3 & $\\dots$ \\\\\n",
       "\\end{tabular}\n"
      ],
      "text/plain": [
       "\u001b[1m5×70 DataFrame\u001b[0m\n",
       "\u001b[1m Row \u001b[0m│\u001b[1m date       \u001b[0m\u001b[1m max_temperature \u001b[0m\u001b[1m avg_hourly_temperature \u001b[0m\u001b[1m avg_temperature \u001b[0m\u001b[1m m\u001b[0m ⋯\n",
       "\u001b[1m     \u001b[0m│\u001b[90m Date       \u001b[0m\u001b[90m Float64         \u001b[0m\u001b[90m Float64                \u001b[0m\u001b[90m Float64         \u001b[0m\u001b[90m F\u001b[0m ⋯\n",
       "─────┼──────────────────────────────────────────────────────────────────────────\n",
       "   1 │ 2022-04-18             10.6                    4.98             3.75    ⋯\n",
       "   2 │ 2022-04-17              7.6                    3.8              3.5\n",
       "   3 │ 2022-04-16              8.3                    5.02             4.85\n",
       "   4 │ 2022-04-15             14.6                    9.32             9.0\n",
       "   5 │ 2022-04-14             11.4                    8.38             8.85    ⋯\n",
       "\u001b[36m                                                              66 columns omitted\u001b[0m"
      ]
     },
     "execution_count": 9,
     "metadata": {},
     "output_type": "execute_result"
    }
   ],
   "source": [
    "first(test_df, 5)"
   ]
  },
  {
   "cell_type": "code",
   "execution_count": 5,
   "id": "6ac7fe3e",
   "metadata": {
    "scrolled": true
   },
   "outputs": [
    {
     "data": {
      "text/plain": [
       "2665-element Vector{Float64}:\n",
       "   3.75\n",
       "   3.5\n",
       "   4.85\n",
       "   9.0\n",
       "   8.85\n",
       "   9.15\n",
       "  11.85\n",
       "   5.2\n",
       "   4.8\n",
       "   4.95\n",
       "   4.14\n",
       "   4.45\n",
       "   6.85\n",
       "   ⋮\n",
       "  -9.39\n",
       "  -8.19\n",
       " -11.2\n",
       " -10.35\n",
       " -17.45\n",
       " -17.7\n",
       " -13.85\n",
       " -11.6\n",
       "  -2.8\n",
       " -13.1\n",
       "  -8.79\n",
       "  -5.3"
      ]
     },
     "execution_count": 5,
     "metadata": {},
     "output_type": "execute_result"
    }
   ],
   "source": [
    "## Get the data\n",
    "jours_train = [i for i in 1:length(train_df.avg_temperature)]\n",
    "temp_train  = train_df.avg_temperature\n",
    "jours_test  = [last(jours_train) + i for i in 1:length(test_df.avg_temperature)]\n",
    "temp_test   = test_df.avg_temperature"
   ]
  },
  {
   "cell_type": "code",
   "execution_count": 11,
   "id": "e98cda6e",
   "metadata": {},
   "outputs": [
    {
     "data": {
      "text/plain": [
       "12784"
      ]
     },
     "execution_count": 11,
     "metadata": {},
     "output_type": "execute_result"
    }
   ],
   "source": [
    "last(jours_train)"
   ]
  },
  {
   "cell_type": "code",
   "execution_count": 12,
   "id": "115b4fab",
   "metadata": {
    "scrolled": true
   },
   "outputs": [
    {
     "data": {
      "text/plain": [
       "12785"
      ]
     },
     "execution_count": 12,
     "metadata": {},
     "output_type": "execute_result"
    }
   ],
   "source": [
    "jours_test[1]"
   ]
  },
  {
   "cell_type": "markdown",
   "id": "f4cadb28",
   "metadata": {},
   "source": [
    "### Création des matrices associées aux modèles\n",
    "\n",
    "$$f_s(x, d) = x_1 + x_2d + x_3 cos(\\cfrac{2 \\pi d}{365.25})+ x_4 sin(\\cfrac{2\\pi d}{365.25}) + x_5 cos(\\cfrac{2\\pi d}{10.7 \\times 365.25})+ x_6 sin(\\cfrac{2\\pi d}{10.7 \\times 365.25}); \\forall (x, d) \\in \\mathbb{R}^6 \\times \\mathbb{R}.$$\n",
    "\n",
    "$$f_h(x, d) = x_1 + x_2d + x_3 cos(\\cfrac{2 \\pi d}{365.25})+ x_4 sin(\\cfrac{2\\pi d}{365.25}) + x_5 cos(\\cfrac{2\\pi d}{10.7 \\times 365.25})+ x_6 sin(\\cfrac{2\\pi d}{10.7 \\times 365.25}) + x_7 cos(\\cfrac{4 \\pi d}{365.25})+ x_8 sin(\\cfrac{4\\pi d}{365.25}); \\forall (x, d) \\in \\mathbb{R}^8 \\times \\mathbb{R}.$$\n",
    "\n",
    "Chaque colonne de la matrice $A_s$ du modèle simple $f_s$ représente un membre de la fonction polynomiale en $x$. On minimise donc :\n",
    "$$\\underset{x \\in \\mathbb{R}^6 }{min}||A_s x - b||_2.$$\n",
    "\n",
    "Pareillement pour $A_h$ et le modèle avec les harmoniques $f_h$."
   ]
  },
  {
   "cell_type": "code",
   "execution_count": 6,
   "id": "e48f1d0c",
   "metadata": {
    "scrolled": true
   },
   "outputs": [
    {
     "data": {
      "text/plain": [
       "2665×8 Matrix{Float64}:\n",
       " 1.0  12785.0   0.999769  0.0215014  …   0.991018  -0.964232  -0.265059\n",
       " 1.0  12786.0   0.999251  0.0386958      0.990801  -0.963375  -0.268158\n",
       " 1.0  12787.0   0.998438  0.0558788      0.990583  -0.962508  -0.271255\n",
       " 1.0  12788.0   0.997329  0.0730452      0.990361  -0.96163   -0.274348\n",
       " 1.0  12789.0   0.995925  0.09019        0.990137  -0.960743  -0.277439\n",
       " 1.0  12790.0   0.994226  0.107308   …   0.989911  -0.959846  -0.280526\n",
       " 1.0  12791.0   0.992233  0.124395       0.989682  -0.958939  -0.283611\n",
       " 1.0  12792.0   0.989946  0.141444       0.98945   -0.958022  -0.286693\n",
       " 1.0  12793.0   0.987367  0.158452       0.989216  -0.957096  -0.289772\n",
       " 1.0  12794.0   0.984495  0.175413       0.988979  -0.956159  -0.292848\n",
       " 1.0  12795.0   0.981332  0.192322   …   0.98874   -0.955212  -0.295921\n",
       " 1.0  12796.0   0.977879  0.209174       0.988498  -0.954256  -0.298991\n",
       " 1.0  12797.0   0.974136  0.225964       0.988253  -0.95329   -0.302058\n",
       " ⋮                                   ⋱   ⋮                    \n",
       " 1.0  15438.0  -0.106239  0.994341      -0.307933   0.810354  -0.58594\n",
       " 1.0  15439.0  -0.123328  0.992366      -0.306403   0.812234  -0.583331\n",
       " 1.0  15440.0  -0.14038   0.990098   …  -0.304872   0.814106  -0.580717\n",
       " 1.0  15441.0  -0.15739   0.987537      -0.303341   0.815969  -0.578096\n",
       " 1.0  15442.0  -0.174354  0.984683      -0.301808   0.817823  -0.575469\n",
       " 1.0  15443.0  -0.191266  0.981538      -0.300275   0.819669  -0.572837\n",
       " 1.0  15444.0  -0.208122  0.978103      -0.298741   0.821507  -0.570198\n",
       " 1.0  15445.0  -0.224916  0.974378   …  -0.297207   0.823336  -0.567554\n",
       " 1.0  15446.0  -0.241644  0.970365      -0.295671   0.825157  -0.564904\n",
       " 1.0  15447.0  -0.2583    0.966065      -0.294135   0.826969  -0.562247\n",
       " 1.0  15448.0  -0.274879  0.961479      -0.292598   0.828773  -0.559585\n",
       " 1.0  15449.0  -0.291378  0.956608      -0.29106    0.830568  -0.556918"
      ]
     },
     "execution_count": 6,
     "metadata": {},
     "output_type": "execute_result"
    }
   ],
   "source": [
    "A_S = [ones(length(jours_train)) jours_train cos.(2*pi*jours_train/365.25) sin.(2*pi*jours_train/365.25) cos.(2*pi*jours_train/(10.7*365.25)) sin.(2*pi*jours_train/(10.7*365.25))]\n",
    "A_H = [ones(length(jours_train)) jours_train cos.(2*pi*jours_train/365.25) sin.(2*pi*jours_train/365.25) cos.(2*pi*jours_train/(10.7*365.25)) sin.(2*pi*jours_train/(10.7*365.25)) cos.(4*pi*jours_train/(10.7*365.25)) sin.(4*pi*jours_train/(10.7*365.25))]\n",
    "\n",
    "A_S_test = [ones(length(jours_test)) jours_test cos.(2*pi*jours_test/365.25) sin.(2*pi*jours_test/365.25) cos.(2*pi*jours_test/(10.7*365.25)) sin.(2*pi*jours_test/(10.7*365.25))]\n",
    "A_H_test = [ones(length(jours_test)) jours_test cos.(2*pi*jours_test/365.25) sin.(2*pi*jours_test/365.25) cos.(2*pi*jours_test/(10.7*365.25)) sin.(2*pi*jours_test/(10.7*365.25)) cos.(4*pi*jours_test/(10.7*365.25)) sin.(4*pi*jours_test/(10.7*365.25))]"
   ]
  },
  {
   "cell_type": "markdown",
   "id": "fc40b172",
   "metadata": {},
   "source": [
    "## Problème en norme L2"
   ]
  },
  {
   "cell_type": "markdown",
   "id": "3f190c6a",
   "metadata": {},
   "source": [
    "#### Solving Simple Model"
   ]
  },
  {
   "cell_type": "code",
   "execution_count": 14,
   "id": "e4000eb7",
   "metadata": {
    "scrolled": false
   },
   "outputs": [
    {
     "data": {
      "text/plain": [
       "([7.694420297244167, -0.00013017148897732721, -14.372800779370317, 5.1192817014846215, -0.34788026875994915, 0.0832887225087198], Simple stats\n",
       " niter: 7\n",
       " solved: true\n",
       " inconsistent: false\n",
       " residuals: []\n",
       " Aresiduals: []\n",
       " κ₂(A): []\n",
       " status: solution good enough given atol and rtol\n",
       ")"
      ]
     },
     "execution_count": 14,
     "metadata": {},
     "output_type": "execute_result"
    }
   ],
   "source": [
    "(x_s, stats) = Krylov.cgls(A_S, temp_train)"
   ]
  },
  {
   "cell_type": "markdown",
   "id": "5fde09ca",
   "metadata": {},
   "source": [
    "##### RSS $||Ax -b||_2^2$"
   ]
  },
  {
   "cell_type": "code",
   "execution_count": 127,
   "id": "ebd9262e",
   "metadata": {},
   "outputs": [
    {
     "data": {
      "text/plain": [
       "283799.8024248049"
      ]
     },
     "execution_count": 127,
     "metadata": {},
     "output_type": "execute_result"
    }
   ],
   "source": [
    "RSS_S = norm(A_S*x_s - temp_train, 2)^2"
   ]
  },
  {
   "cell_type": "code",
   "execution_count": 128,
   "id": "4da81a08",
   "metadata": {},
   "outputs": [
    {
     "data": {
      "text/plain": [
       "852558.4496739487"
      ]
     },
     "execution_count": 128,
     "metadata": {},
     "output_type": "execute_result"
    }
   ],
   "source": [
    "RSS_S_test = norm(A_S_test*x_s - temp_test, 2)^2"
   ]
  },
  {
   "cell_type": "markdown",
   "id": "fd081627",
   "metadata": {},
   "source": [
    "#### Solving Harmonic Model"
   ]
  },
  {
   "cell_type": "code",
   "execution_count": 129,
   "id": "5b5b6030",
   "metadata": {},
   "outputs": [
    {
     "data": {
      "text/plain": [
       "([7.711175391467356, -0.0001308510731771211, -14.373860814898563, 5.121230325877138, -0.32665406917023226, 0.09610876750517391, -0.07883346130212612, -0.30669001297164], Simple stats\n",
       " niter: 7\n",
       " solved: true\n",
       " inconsistent: false\n",
       " residuals: []\n",
       " Aresiduals: []\n",
       " κ₂(A): []\n",
       " status: solution good enough given atol and rtol\n",
       ")"
      ]
     },
     "execution_count": 129,
     "metadata": {},
     "output_type": "execute_result"
    }
   ],
   "source": [
    "(x_h, stats) = Krylov.cgls(A_H, temp_train)"
   ]
  },
  {
   "cell_type": "markdown",
   "id": "59b3833f",
   "metadata": {},
   "source": [
    "##### RSS $||Ax -b||_2^2$"
   ]
  },
  {
   "cell_type": "code",
   "execution_count": 130,
   "id": "41ef3a61",
   "metadata": {},
   "outputs": [
    {
     "data": {
      "text/plain": [
       "283168.38309367583"
      ]
     },
     "execution_count": 130,
     "metadata": {},
     "output_type": "execute_result"
    }
   ],
   "source": [
    "RSS_H = norm(A_H*x_h - temp_train,2 )^2"
   ]
  },
  {
   "cell_type": "code",
   "execution_count": 131,
   "id": "4057a269",
   "metadata": {},
   "outputs": [
    {
     "data": {
      "text/plain": [
       "851820.7765889195"
      ]
     },
     "execution_count": 131,
     "metadata": {},
     "output_type": "execute_result"
    }
   ],
   "source": [
    "RSS_H_test = norm(A_H_test*x_h - temp_test,2 )^2"
   ]
  },
  {
   "cell_type": "markdown",
   "id": "b2606a10",
   "metadata": {},
   "source": [
    "#### Comparaison du modèle Simple et du modèle Harmonique"
   ]
  },
  {
   "cell_type": "code",
   "execution_count": 132,
   "id": "b3192d17",
   "metadata": {},
   "outputs": [
    {
     "data": {
      "text/plain": [
       "true"
      ]
     },
     "execution_count": 132,
     "metadata": {},
     "output_type": "execute_result"
    }
   ],
   "source": [
    "RSS_H < RSS_S"
   ]
  },
  {
   "cell_type": "code",
   "execution_count": 133,
   "id": "38e66f15",
   "metadata": {},
   "outputs": [
    {
     "data": {
      "text/plain": [
       "true"
      ]
     },
     "execution_count": 133,
     "metadata": {},
     "output_type": "execute_result"
    }
   ],
   "source": [
    "RSS_H_test < RSS_S_test"
   ]
  },
  {
   "cell_type": "markdown",
   "id": "2d2d595f",
   "metadata": {},
   "source": [
    "Le modèle harmonique est plus performant sur les données **test** et **train**."
   ]
  },
  {
   "cell_type": "markdown",
   "id": "91744a7d",
   "metadata": {},
   "source": [
    "### Plotting Results"
   ]
  },
  {
   "cell_type": "code",
   "execution_count": 144,
   "id": "38d7c0ba",
   "metadata": {
    "scrolled": true
   },
   "outputs": [
    {
     "data": {
      "text/plain": [
       "15449-element Vector{Date}:\n",
       " 1980-01-01\n",
       " 1980-01-02\n",
       " 1980-01-03\n",
       " 1980-01-04\n",
       " 1980-01-05\n",
       " 1980-01-06\n",
       " 1980-01-07\n",
       " 1980-01-08\n",
       " 1980-01-09\n",
       " 1980-01-10\n",
       " 1980-01-11\n",
       " 1980-01-12\n",
       " 1980-01-13\n",
       " ⋮\n",
       " 2022-04-07\n",
       " 2022-04-08\n",
       " 2022-04-09\n",
       " 2022-04-10\n",
       " 2022-04-11\n",
       " 2022-04-12\n",
       " 2022-04-13\n",
       " 2022-04-14\n",
       " 2022-04-15\n",
       " 2022-04-16\n",
       " 2022-04-17\n",
       " 2022-04-18"
      ]
     },
     "execution_count": 144,
     "metadata": {},
     "output_type": "execute_result"
    }
   ],
   "source": [
    "pred_S = vcat(A_S*x_s, A_S_test*x_s)\n",
    "pred_H = vcat(A_H*x_h, A_H_test*x_h)\n",
    "dates  = reverse(vcat(test_df.date, train_df.date))"
   ]
  },
  {
   "cell_type": "code",
   "execution_count": 146,
   "id": "c4a8c099",
   "metadata": {},
   "outputs": [],
   "source": [
    "using Plots\n",
    "gr()\n",
    "scatter(dates, temp, label=\"Température de Montréal\", markersize=1, markercolor=\"blue\")\n",
    "p = plot!(dates, [pred_S pred_H], title=\"Prédiction des Modèles pour Montréal\", label=[\"Modèle Simple\" \"Modèle avec Harmoniques\"], linecolor=[\"red\" \"cyan\"], legend=:bottomright)\n",
    "xlabel!(\"Time t\")\n",
    "plot!(size=(1000,400))\n",
    "savefig(\"Results/Two_Models.png\")"
   ]
  },
  {
   "cell_type": "markdown",
   "id": "b1cdd492",
   "metadata": {},
   "source": [
    "## Modèle en norme L1"
   ]
  },
  {
   "cell_type": "markdown",
   "id": "3dab70ba",
   "metadata": {},
   "source": [
    "L'article initial argumentait qu'un modèle en norme L1, en utilisant la somme des valeurs absolus des erreurs plutôt que la somme de leurs carrés, performerait mieux dans cette situation. Comme les valeurs absolus font qu'on ne peut pas résoudre directement ce problème par optimisation linéaire, nous allons utiliser la même astuce que celle de l'article de rajouter des contraintes pour pouvoir écrire le problème d'une manière soluble par optimisation linéaire."
   ]
  },
  {
   "cell_type": "markdown",
   "id": "383c7b4c",
   "metadata": {},
   "source": [
    "### Tentative avec QuadraticModels et RipQP"
   ]
  },
  {
   "cell_type": "markdown",
   "id": "ea641a08",
   "metadata": {},
   "source": [
    "Suite aux suggestions reçues à la remise du rapport intermédiaire, il est d'abord tenté d'utiliser le solveur RipQP. Il faut toutefois exprimer le problème sous la forme d'un modèle QuadraticModels"
   ]
  },
  {
   "cell_type": "code",
   "execution_count": 71,
   "id": "325a5b00",
   "metadata": {},
   "outputs": [],
   "source": [
    "using RipQP, SparseMatricesCOO, QuadraticModels"
   ]
  },
  {
   "cell_type": "code",
   "execution_count": 72,
   "id": "02ddf9e2",
   "metadata": {},
   "outputs": [
    {
     "ename": "LoadError",
     "evalue": "TypeError: in keyword argument c0, expected Float64, got a value of type var\"#23#24\"",
     "output_type": "error",
     "traceback": [
      "TypeError: in keyword argument c0, expected Float64, got a value of type var\"#23#24\"",
      "",
      "Stacktrace:",
      " [1] top-level scope",
      "   @ In[72]:9",
      " [2] eval",
      "   @ .\\boot.jl:373 [inlined]",
      " [3] include_string(mapexpr::typeof(REPL.softscope), mod::Module, code::String, filename::String)",
      "   @ Base .\\loading.jl:1196"
     ]
    }
   ],
   "source": [
    "# notre fonction a minimisé n'est qu'une somme de termes ne dépendants pas des variables\n",
    "# selon la structure de quadratique models, Q et c sont donc nuls et nos contraintes seront plutôt exprimées avec \n",
    "# lcon ≦ Ax ≦ ucon\n",
    "u = d -> 1\n",
    "Q = zeros(6,6)\n",
    "c = zeros(6)\n",
    "A = A_S\n",
    "b = [u(i)+temp_train[i] for i in 1:length(train_df.avg_temperature)]  #ones(size(A_S)[1]).*u1 + temp_train\n",
    "QM = QuadraticModel(c, SparseMatrixCOO(tril(Q)), A=SparseMatrixCOO(A), lcon=b, ucon=b, c0=u, name=\"QM\")"
   ]
  },
  {
   "cell_type": "code",
   "execution_count": 73,
   "id": "aed0a183",
   "metadata": {},
   "outputs": [
    {
     "data": {
      "text/plain": [
       "QuadraticModel{Float64, Vector{Float64}, SparseMatrixCOO{Float64, Int64}, SparseMatrixCOO{Float64, Int64}}\n",
       "  Problem name: QM\n",
       "   All variables: ████████████████████ 6      All constraints: ████████████████████ 12784 \n",
       "            free: ████████████████████ 6                 free: ⋅⋅⋅⋅⋅⋅⋅⋅⋅⋅⋅⋅⋅⋅⋅⋅⋅⋅⋅⋅ 0     \n",
       "           lower: ⋅⋅⋅⋅⋅⋅⋅⋅⋅⋅⋅⋅⋅⋅⋅⋅⋅⋅⋅⋅ 0                lower: ⋅⋅⋅⋅⋅⋅⋅⋅⋅⋅⋅⋅⋅⋅⋅⋅⋅⋅⋅⋅ 0     \n",
       "           upper: ⋅⋅⋅⋅⋅⋅⋅⋅⋅⋅⋅⋅⋅⋅⋅⋅⋅⋅⋅⋅ 0                upper: ⋅⋅⋅⋅⋅⋅⋅⋅⋅⋅⋅⋅⋅⋅⋅⋅⋅⋅⋅⋅ 0     \n",
       "         low/upp: ⋅⋅⋅⋅⋅⋅⋅⋅⋅⋅⋅⋅⋅⋅⋅⋅⋅⋅⋅⋅ 0              low/upp: ████████████████████ 12784 \n",
       "           fixed: ⋅⋅⋅⋅⋅⋅⋅⋅⋅⋅⋅⋅⋅⋅⋅⋅⋅⋅⋅⋅ 0                fixed: ⋅⋅⋅⋅⋅⋅⋅⋅⋅⋅⋅⋅⋅⋅⋅⋅⋅⋅⋅⋅ 0     \n",
       "          infeas: ⋅⋅⋅⋅⋅⋅⋅⋅⋅⋅⋅⋅⋅⋅⋅⋅⋅⋅⋅⋅ 0               infeas: ⋅⋅⋅⋅⋅⋅⋅⋅⋅⋅⋅⋅⋅⋅⋅⋅⋅⋅⋅⋅ 0     \n",
       "            nnzh: (100.00% sparsity)   0               linear: ████████████████████ 12784 \n",
       "                                                    nonlinear: ⋅⋅⋅⋅⋅⋅⋅⋅⋅⋅⋅⋅⋅⋅⋅⋅⋅⋅⋅⋅ 0     \n",
       "                                                         nnzj: (  0.00% sparsity)   76704 \n",
       "\n",
       "  Counters:\n",
       "             obj: ⋅⋅⋅⋅⋅⋅⋅⋅⋅⋅⋅⋅⋅⋅⋅⋅⋅⋅⋅⋅ 0                 grad: ⋅⋅⋅⋅⋅⋅⋅⋅⋅⋅⋅⋅⋅⋅⋅⋅⋅⋅⋅⋅ 0                 cons: ⋅⋅⋅⋅⋅⋅⋅⋅⋅⋅⋅⋅⋅⋅⋅⋅⋅⋅⋅⋅ 0     \n",
       "            jcon: ⋅⋅⋅⋅⋅⋅⋅⋅⋅⋅⋅⋅⋅⋅⋅⋅⋅⋅⋅⋅ 0                jgrad: ⋅⋅⋅⋅⋅⋅⋅⋅⋅⋅⋅⋅⋅⋅⋅⋅⋅⋅⋅⋅ 0                  jac: ⋅⋅⋅⋅⋅⋅⋅⋅⋅⋅⋅⋅⋅⋅⋅⋅⋅⋅⋅⋅ 0     \n",
       "           jprod: ⋅⋅⋅⋅⋅⋅⋅⋅⋅⋅⋅⋅⋅⋅⋅⋅⋅⋅⋅⋅ 0               jtprod: ⋅⋅⋅⋅⋅⋅⋅⋅⋅⋅⋅⋅⋅⋅⋅⋅⋅⋅⋅⋅ 0                 hess: ⋅⋅⋅⋅⋅⋅⋅⋅⋅⋅⋅⋅⋅⋅⋅⋅⋅⋅⋅⋅ 0     \n",
       "           hprod: ⋅⋅⋅⋅⋅⋅⋅⋅⋅⋅⋅⋅⋅⋅⋅⋅⋅⋅⋅⋅ 0                jhess: ⋅⋅⋅⋅⋅⋅⋅⋅⋅⋅⋅⋅⋅⋅⋅⋅⋅⋅⋅⋅ 0               jhprod: ⋅⋅⋅⋅⋅⋅⋅⋅⋅⋅⋅⋅⋅⋅⋅⋅⋅⋅⋅⋅ 0     \n"
      ]
     },
     "execution_count": 73,
     "metadata": {},
     "output_type": "execute_result"
    }
   ],
   "source": [
    "# essaye de faire marcher les librairie avec données en c0 (terme fct objectif qui dépend pas des variables) mais comme c'est un\n",
    "# float, il doit être fixé. Faire des itérations en modifiant la valeur de u? mais u doit être somme de ui qui peuvent varier de jour en jour\n",
    "# Ici on essaye avec un u fixé mais forcémment le solveur n'arrive pas à optimiser une fonction objective constat \n",
    "u = 1.\n",
    "Q = zeros(6,6)\n",
    "c = zeros(6)\n",
    "A = A_S\n",
    "b_low = -ones(size(temp_train)[1]).*u + temp_train\n",
    "b_high = ones(size(temp_train)[1]).*u + temp_train\n",
    "QM = QuadraticModel(c, SparseMatrixCOO(tril(Q)), A=SparseMatrixCOO(A), lcon= b_low, ucon=b_high, c0=u, name=\"QM\")"
   ]
  },
  {
   "cell_type": "code",
   "execution_count": 76,
   "id": "f0d42fc0",
   "metadata": {},
   "outputs": [
    {
     "name": "stderr",
     "output_type": "stream",
     "text": [
      "┌ Info:   iter       obj      rgap      ‖rb‖      ‖rc‖     α_pri      α_du         μ     nprod  \n",
      "└ @ RipQP C:\\Users\\datbo\\.julia\\packages\\RipQP\\M6f8t\\src\\RipQP.jl:100\n",
      "┌ Info:      0   1.0e+00   6.8e-02   9.7e+00   0.0e+00   0.0e+00   0.0e+00   5.4e-06       0\n",
      "└ @ RipQP C:\\Users\\datbo\\.julia\\packages\\RipQP\\M6f8t\\src\\RipQP.jl:111\n",
      "┌ Info:      1   1.0e+00   3.1e-02   9.7e+00   2.6e-07   6.0e-09   8.6e-09   5.4e-06       0\n",
      "└ @ RipQP C:\\Users\\datbo\\.julia\\packages\\RipQP\\M6f8t\\src\\iterations\\iterations.jl:230\n",
      "┌ Info:      2   1.0e+00   3.8e-02   9.7e+00   2.6e-07   4.6e-09   6.2e-11   5.4e-06       0\n",
      "└ @ RipQP C:\\Users\\datbo\\.julia\\packages\\RipQP\\M6f8t\\src\\iterations\\iterations.jl:230\n",
      "┌ Info:      3   1.0e+00   1.2e-01   9.7e+00   2.6e-07   2.7e-09   4.7e-10   5.4e-06       0\n",
      "└ @ RipQP C:\\Users\\datbo\\.julia\\packages\\RipQP\\M6f8t\\src\\iterations\\iterations.jl:230\n",
      "┌ Info:      4   1.0e+00   1.5e-01   9.7e+00   2.6e-07   1.7e-08   1.0e-10   5.4e-06       0\n",
      "└ @ RipQP C:\\Users\\datbo\\.julia\\packages\\RipQP\\M6f8t\\src\\iterations\\iterations.jl:230\n",
      "┌ Info:      5   1.0e+00   2.0e-01   9.7e+00   2.6e-07   4.5e-09   1.2e-10   5.4e-06       0\n",
      "└ @ RipQP C:\\Users\\datbo\\.julia\\packages\\RipQP\\M6f8t\\src\\iterations\\iterations.jl:230\n",
      "┌ Info:      6   1.0e+00   2.0e-01   9.7e+00   2.6e-07   6.8e-11   1.0e-13   5.4e-06       0\n",
      "└ @ RipQP C:\\Users\\datbo\\.julia\\packages\\RipQP\\M6f8t\\src\\iterations\\iterations.jl:230\n",
      "┌ Info:      7   1.0e+00   2.0e-01   9.7e+00   2.6e-07   5.4e-10   1.2e-12   5.4e-06       0\n",
      "└ @ RipQP C:\\Users\\datbo\\.julia\\packages\\RipQP\\M6f8t\\src\\iterations\\iterations.jl:230\n",
      "┌ Info:      8   1.0e+00   4.4e-01   9.7e+00   2.6e-07   3.6e-09   5.0e-10   5.4e-06       0\n",
      "└ @ RipQP C:\\Users\\datbo\\.julia\\packages\\RipQP\\M6f8t\\src\\iterations\\iterations.jl:230\n",
      "┌ Info:      9   1.0e+00   8.1e-01   9.7e+00   2.6e-07   8.3e-10   3.6e-10   5.4e-06       0\n",
      "└ @ RipQP C:\\Users\\datbo\\.julia\\packages\\RipQP\\M6f8t\\src\\iterations\\iterations.jl:230\n",
      "┌ Info:     10   1.0e+00   8.2e-01   9.7e+00   2.6e-07   3.3e-10   7.4e-13   5.4e-06       0\n",
      "└ @ RipQP C:\\Users\\datbo\\.julia\\packages\\RipQP\\M6f8t\\src\\iterations\\iterations.jl:230\n",
      "┌ Info:     11   1.0e+00   2.5e+00   9.7e+00   2.6e-07   3.7e-09   1.0e-09   5.4e-06       0\n",
      "└ @ RipQP C:\\Users\\datbo\\.julia\\packages\\RipQP\\M6f8t\\src\\iterations\\iterations.jl:230\n",
      "┌ Info:     12   1.0e+00   2.6e+00   9.7e+00   2.6e-07   2.7e-08   3.3e-11   5.4e-06       0\n",
      "└ @ RipQP C:\\Users\\datbo\\.julia\\packages\\RipQP\\M6f8t\\src\\iterations\\iterations.jl:230\n",
      "┌ Info:     13   1.0e+00   4.2e+00   9.7e+00   2.6e-07   8.6e-10   2.9e-10   5.4e-06       0\n",
      "└ @ RipQP C:\\Users\\datbo\\.julia\\packages\\RipQP\\M6f8t\\src\\iterations\\iterations.jl:230\n",
      "┌ Info:     14   1.0e+00   5.6e+00   9.7e+00   2.6e-07   1.2e-09   1.6e-10   5.4e-06       0\n",
      "└ @ RipQP C:\\Users\\datbo\\.julia\\packages\\RipQP\\M6f8t\\src\\iterations\\iterations.jl:230\n",
      "┌ Info:     15   1.0e+00   5.6e+00   9.7e+00   2.6e-07   4.6e-10   2.8e-13   5.4e-06       0\n",
      "└ @ RipQP C:\\Users\\datbo\\.julia\\packages\\RipQP\\M6f8t\\src\\iterations\\iterations.jl:230\n",
      "┌ Info:     16   1.0e+00   6.5e+00   9.7e+00   2.6e-07   2.7e-09   7.3e-11   5.4e-06       0\n",
      "└ @ RipQP C:\\Users\\datbo\\.julia\\packages\\RipQP\\M6f8t\\src\\iterations\\iterations.jl:230\n",
      "┌ Info:     17   1.0e+00   6.5e+00   9.7e+00   2.6e-07   2.6e-10   3.3e-13   5.4e-06       0\n",
      "└ @ RipQP C:\\Users\\datbo\\.julia\\packages\\RipQP\\M6f8t\\src\\iterations\\iterations.jl:230\n",
      "┌ Info:     18   1.0e+00   7.5e+00   9.7e+00   2.6e-07   7.8e-09   7.4e-11   5.4e-06       0\n",
      "└ @ RipQP C:\\Users\\datbo\\.julia\\packages\\RipQP\\M6f8t\\src\\iterations\\iterations.jl:230\n",
      "┌ Info:     19   1.0e+00   7.5e+00   9.7e+00   2.6e-07   6.2e-11   5.4e-13   5.4e-06       0\n",
      "└ @ RipQP C:\\Users\\datbo\\.julia\\packages\\RipQP\\M6f8t\\src\\iterations\\iterations.jl:230\n",
      "┌ Info:     20   1.0e+00   7.5e+00   9.7e+00   2.6e-07   2.0e-11   1.1e-12   5.4e-06       0\n",
      "└ @ RipQP C:\\Users\\datbo\\.julia\\packages\\RipQP\\M6f8t\\src\\iterations\\iterations.jl:230\n",
      "┌ Info:     21   1.0e+00   7.5e+00   9.7e+00   2.6e-07   3.8e-10   2.8e-13   5.4e-06       0\n",
      "└ @ RipQP C:\\Users\\datbo\\.julia\\packages\\RipQP\\M6f8t\\src\\iterations\\iterations.jl:230\n",
      "┌ Info:     22   1.0e+00   8.4e+00   9.7e+00   2.6e-07   5.3e-09   5.8e-11   5.4e-06       0\n",
      "└ @ RipQP C:\\Users\\datbo\\.julia\\packages\\RipQP\\M6f8t\\src\\iterations\\iterations.jl:230\n",
      "┌ Info:     23   1.0e+00   8.4e+00   9.7e+00   2.6e-07   1.7e-11   9.6e-14   5.4e-06       0\n",
      "└ @ RipQP C:\\Users\\datbo\\.julia\\packages\\RipQP\\M6f8t\\src\\iterations\\iterations.jl:230\n",
      "┌ Info:     24   1.0e+00   8.4e+00   9.7e+00   2.6e-07   7.4e-11   3.7e-14   5.4e-06       0\n",
      "└ @ RipQP C:\\Users\\datbo\\.julia\\packages\\RipQP\\M6f8t\\src\\iterations\\iterations.jl:230\n",
      "┌ Info:     25   1.0e+00   8.4e+00   9.7e+00   2.6e-07   3.5e-10   2.3e-13   5.4e-06       0\n",
      "└ @ RipQP C:\\Users\\datbo\\.julia\\packages\\RipQP\\M6f8t\\src\\iterations\\iterations.jl:230\n",
      "┌ Info:     26   1.0e+00   8.4e+00   9.7e+00   2.6e-07   1.7e-10   7.8e-14   5.4e-06       0\n",
      "└ @ RipQP C:\\Users\\datbo\\.julia\\packages\\RipQP\\M6f8t\\src\\iterations\\iterations.jl:230\n",
      "┌ Info:     27   1.0e+00   8.4e+00   9.7e+00   2.6e-07   4.0e-10   3.2e-13   5.4e-06       0\n",
      "└ @ RipQP C:\\Users\\datbo\\.julia\\packages\\RipQP\\M6f8t\\src\\iterations\\iterations.jl:230\n",
      "┌ Info:     28   1.0e+00   8.6e+00   9.7e+00   2.6e-07   5.1e-11   1.4e-11   5.4e-06       0\n",
      "└ @ RipQP C:\\Users\\datbo\\.julia\\packages\\RipQP\\M6f8t\\src\\iterations\\iterations.jl:230\n",
      "┌ Info:     29   1.0e+00   8.6e+00   9.7e+00   2.6e-07   2.6e-10   3.5e-13   5.4e-06       0\n",
      "└ @ RipQP C:\\Users\\datbo\\.julia\\packages\\RipQP\\M6f8t\\src\\iterations\\iterations.jl:230\n",
      "┌ Info:     30   1.0e+00   1.2e+01   9.7e+00   2.6e-07   2.5e-09   1.9e-10   5.4e-06       0\n",
      "└ @ RipQP C:\\Users\\datbo\\.julia\\packages\\RipQP\\M6f8t\\src\\iterations\\iterations.jl:230\n",
      "┌ Info:     31   1.0e+00   1.4e+01   9.7e+00   2.6e-07   6.1e-10   9.1e-11   5.4e-06       0\n",
      "└ @ RipQP C:\\Users\\datbo\\.julia\\packages\\RipQP\\M6f8t\\src\\iterations\\iterations.jl:230\n",
      "┌ Info:     32   1.0e+00   1.4e+01   9.7e+00   2.6e-07   4.3e-10   3.9e-13   5.4e-06       0\n",
      "└ @ RipQP C:\\Users\\datbo\\.julia\\packages\\RipQP\\M6f8t\\src\\iterations\\iterations.jl:230\n",
      "┌ Info:     33   1.0e+00   1.5e+01   9.7e+00   2.6e-07   1.0e-10   1.4e-11   5.4e-06       0\n",
      "└ @ RipQP C:\\Users\\datbo\\.julia\\packages\\RipQP\\M6f8t\\src\\iterations\\iterations.jl:230\n",
      "┌ Info:     34   1.0e+00   1.5e+01   9.7e+00   2.6e-07   1.6e-10   3.5e-13   5.4e-06       0\n",
      "└ @ RipQP C:\\Users\\datbo\\.julia\\packages\\RipQP\\M6f8t\\src\\iterations\\iterations.jl:230\n",
      "┌ Info:     35   1.0e+00   1.5e+01   9.7e+00   2.6e-07   1.1e-10   5.1e-13   5.4e-06       0\n",
      "└ @ RipQP C:\\Users\\datbo\\.julia\\packages\\RipQP\\M6f8t\\src\\iterations\\iterations.jl:230\n",
      "┌ Info:     36   1.0e+00   1.5e+01   9.7e+00   2.6e-07   1.5e-10   1.1e-13   5.4e-06       0\n",
      "└ @ RipQP C:\\Users\\datbo\\.julia\\packages\\RipQP\\M6f8t\\src\\iterations\\iterations.jl:230\n",
      "┌ Info:     37   1.0e+00   1.7e+01   9.7e+00   2.6e-07   2.9e-09   7.8e-11   5.4e-06       0\n",
      "└ @ RipQP C:\\Users\\datbo\\.julia\\packages\\RipQP\\M6f8t\\src\\iterations\\iterations.jl:230\n",
      "┌ Info:     38   1.0e+00   1.7e+01   9.7e+00   2.6e-07   2.1e-10   7.7e-12   5.4e-06       0\n",
      "└ @ RipQP C:\\Users\\datbo\\.julia\\packages\\RipQP\\M6f8t\\src\\iterations\\iterations.jl:230\n",
      "┌ Info:     39   1.0e+00   1.7e+01   9.7e+00   2.6e-07   1.3e-10   1.9e-12   5.4e-06       0\n",
      "└ @ RipQP C:\\Users\\datbo\\.julia\\packages\\RipQP\\M6f8t\\src\\iterations\\iterations.jl:230\n",
      "┌ Info:     40   1.0e+00   1.7e+01   9.7e+00   2.6e-07   4.0e-10   2.4e-13   5.4e-06       0\n",
      "└ @ RipQP C:\\Users\\datbo\\.julia\\packages\\RipQP\\M6f8t\\src\\iterations\\iterations.jl:230\n",
      "┌ Info:     41   1.0e+00   1.7e+01   9.7e+00   2.7e-07   1.0e-11   3.3e-12   5.4e-06       0\n",
      "└ @ RipQP C:\\Users\\datbo\\.julia\\packages\\RipQP\\M6f8t\\src\\iterations\\iterations.jl:230\n",
      "┌ Info:     42   1.0e+00   1.8e+01   9.7e+00   2.7e-07   7.1e-10   5.6e-12   5.4e-06       0\n",
      "└ @ RipQP C:\\Users\\datbo\\.julia\\packages\\RipQP\\M6f8t\\src\\iterations\\iterations.jl:230\n",
      "┌ Info:     43   1.0e+00   1.8e+01   9.7e+00   2.6e-07   6.1e-10   1.1e-11   5.4e-06       0\n",
      "└ @ RipQP C:\\Users\\datbo\\.julia\\packages\\RipQP\\M6f8t\\src\\iterations\\iterations.jl:230\n",
      "┌ Info:     44   1.0e+00   1.8e+01   9.7e+00   2.6e-07   1.1e-09   3.2e-12   5.4e-06       0\n",
      "└ @ RipQP C:\\Users\\datbo\\.julia\\packages\\RipQP\\M6f8t\\src\\iterations\\iterations.jl:230\n",
      "┌ Info:     45   1.0e+00   1.8e+01   9.7e+00   2.6e-07   1.7e-10   1.8e-13   5.4e-06       0\n",
      "└ @ RipQP C:\\Users\\datbo\\.julia\\packages\\RipQP\\M6f8t\\src\\iterations\\iterations.jl:230\n",
      "┌ Info:     46   1.0e+00   2.5e+01   9.7e+00   2.5e-07   1.8e-09   1.8e-10   5.4e-06       0\n",
      "└ @ RipQP C:\\Users\\datbo\\.julia\\packages\\RipQP\\M6f8t\\src\\iterations\\iterations.jl:230\n",
      "┌ Info:     47   1.0e+00   2.6e+01   9.7e+00   2.6e-07   1.5e-09   2.6e-11   5.4e-06       0\n",
      "└ @ RipQP C:\\Users\\datbo\\.julia\\packages\\RipQP\\M6f8t\\src\\iterations\\iterations.jl:230\n",
      "┌ Info:     48   1.0e+00   2.6e+01   9.7e+00   2.6e-07   1.9e-10   1.9e-13   5.4e-06       0\n",
      "└ @ RipQP C:\\Users\\datbo\\.julia\\packages\\RipQP\\M6f8t\\src\\iterations\\iterations.jl:230\n",
      "┌ Info:     49   1.0e+00   2.7e+01   9.7e+00   2.4e-07   7.7e-11   1.2e-11   5.4e-06       0\n",
      "└ @ RipQP C:\\Users\\datbo\\.julia\\packages\\RipQP\\M6f8t\\src\\iterations\\iterations.jl:230\n",
      "┌ Info:     50   1.0e+00   2.7e+01   9.7e+00   2.4e-07   1.8e-10   2.1e-13   5.4e-06       0\n",
      "└ @ RipQP C:\\Users\\datbo\\.julia\\packages\\RipQP\\M6f8t\\src\\iterations\\iterations.jl:230\n",
      "┌ Info:     51   1.0e+00   3.1e+01   9.7e+00   2.4e-07   2.4e-09   8.1e-11   5.4e-06       0\n",
      "└ @ RipQP C:\\Users\\datbo\\.julia\\packages\\RipQP\\M6f8t\\src\\iterations\\iterations.jl:230\n",
      "┌ Info:     52   1.0e+00   3.2e+01   9.7e+00   2.5e-07   1.2e-09   7.1e-12   5.4e-06       0\n",
      "└ @ RipQP C:\\Users\\datbo\\.julia\\packages\\RipQP\\M6f8t\\src\\iterations\\iterations.jl:230\n",
      "┌ Info:     53   1.0e+00   3.2e+01   9.7e+00   2.5e-07   1.9e-10   1.5e-13   5.4e-06       0\n",
      "└ @ RipQP C:\\Users\\datbo\\.julia\\packages\\RipQP\\M6f8t\\src\\iterations\\iterations.jl:230\n",
      "┌ Info:     54   1.0e+00   3.2e+01   9.7e+00   2.8e-07   8.4e-12   2.3e-12   5.4e-06       0\n",
      "└ @ RipQP C:\\Users\\datbo\\.julia\\packages\\RipQP\\M6f8t\\src\\iterations\\iterations.jl:230\n",
      "┌ Info:     55   1.0e+00   3.2e+01   9.7e+00   2.8e-07   5.1e-10   1.2e-12   5.4e-06       0\n",
      "└ @ RipQP C:\\Users\\datbo\\.julia\\packages\\RipQP\\M6f8t\\src\\iterations\\iterations.jl:230\n",
      "┌ Info:     56   1.0e+00   3.2e+01   9.7e+00   2.8e-07   2.3e-09   2.2e-12   5.4e-06       0\n",
      "└ @ RipQP C:\\Users\\datbo\\.julia\\packages\\RipQP\\M6f8t\\src\\iterations\\iterations.jl:230\n"
     ]
    },
    {
     "name": "stderr",
     "output_type": "stream",
     "text": [
      "┌ Info:     57   1.0e+00   3.3e+01   9.7e+00   3.7e-07   1.8e-09   1.1e-11   5.4e-06       0\n",
      "└ @ RipQP C:\\Users\\datbo\\.julia\\packages\\RipQP\\M6f8t\\src\\iterations\\iterations.jl:230\n",
      "┌ Info:     58   1.0e+00   3.3e+01   9.7e+00   3.8e-07   4.8e-10   3.2e-12   5.4e-06       0\n",
      "└ @ RipQP C:\\Users\\datbo\\.julia\\packages\\RipQP\\M6f8t\\src\\iterations\\iterations.jl:230\n",
      "┌ Info:     59   1.0e+00   3.3e+01   9.7e+00   4.0e-07   9.5e-11   7.3e-13   5.4e-06       0\n",
      "└ @ RipQP C:\\Users\\datbo\\.julia\\packages\\RipQP\\M6f8t\\src\\iterations\\iterations.jl:230\n",
      "┌ Info:     60   1.0e+00   3.3e+01   9.7e+00   4.0e-07   1.5e-10   1.1e-13   5.4e-06       0\n",
      "└ @ RipQP C:\\Users\\datbo\\.julia\\packages\\RipQP\\M6f8t\\src\\iterations\\iterations.jl:230\n",
      "┌ Info:     61   1.0e+00   3.3e+01   9.7e+00   3.6e-07   5.2e-10   2.3e-12   5.4e-06       0\n",
      "└ @ RipQP C:\\Users\\datbo\\.julia\\packages\\RipQP\\M6f8t\\src\\iterations\\iterations.jl:230\n",
      "┌ Info:     62   1.0e+00   3.3e+01   9.7e+00   3.8e-07   4.2e-10   8.7e-13   5.4e-06       0\n",
      "└ @ RipQP C:\\Users\\datbo\\.julia\\packages\\RipQP\\M6f8t\\src\\iterations\\iterations.jl:230\n",
      "┌ Info:     63   1.0e+00   3.3e+01   9.7e+00   3.7e-07   1.0e-09   1.6e-12   5.4e-06       0\n",
      "└ @ RipQP C:\\Users\\datbo\\.julia\\packages\\RipQP\\M6f8t\\src\\iterations\\iterations.jl:230\n",
      "┌ Info:     64   1.0e+00   3.3e+01   9.7e+00   4.3e-07   3.3e-10   1.3e-13   5.4e-06       0\n",
      "└ @ RipQP C:\\Users\\datbo\\.julia\\packages\\RipQP\\M6f8t\\src\\iterations\\iterations.jl:230\n",
      "┌ Info:     65   1.0e+00   4.3e+01   9.7e+00   9.0e-06   1.5e-09   1.4e-10   5.4e-06       0\n",
      "└ @ RipQP C:\\Users\\datbo\\.julia\\packages\\RipQP\\M6f8t\\src\\iterations\\iterations.jl:230\n",
      "┌ Info:     66   1.0e+00   4.5e+01   9.7e+00   1.0e-05   2.5e-10   1.4e-11   5.4e-06       0\n",
      "└ @ RipQP C:\\Users\\datbo\\.julia\\packages\\RipQP\\M6f8t\\src\\iterations\\iterations.jl:230\n",
      "┌ Info:     67   1.0e+00   4.6e+01   9.7e+00   1.0e-05   1.4e-09   1.9e-11   5.4e-06       0\n",
      "└ @ RipQP C:\\Users\\datbo\\.julia\\packages\\RipQP\\M6f8t\\src\\iterations\\iterations.jl:230\n",
      "┌ Info:     68   1.0e+00   4.6e+01   9.7e+00   1.0e-05   3.5e-10   3.0e-13   5.4e-06       0\n",
      "└ @ RipQP C:\\Users\\datbo\\.julia\\packages\\RipQP\\M6f8t\\src\\iterations\\iterations.jl:230\n",
      "┌ Info:     69   1.0e+00   4.7e+01   9.7e+00   1.0e-05   6.8e-10   2.0e-12   5.4e-06       0\n",
      "└ @ RipQP C:\\Users\\datbo\\.julia\\packages\\RipQP\\M6f8t\\src\\iterations\\iterations.jl:230\n",
      "┌ Info:     70   1.0e+00   4.7e+01   9.7e+00   1.0e-05   6.3e-11   1.0e-13   5.4e-06       0\n",
      "└ @ RipQP C:\\Users\\datbo\\.julia\\packages\\RipQP\\M6f8t\\src\\iterations\\iterations.jl:230\n",
      "┌ Info:     71   1.0e+00   4.7e+01   9.7e+00   1.1e-05   5.2e-11   1.2e-12   5.4e-06       0\n",
      "└ @ RipQP C:\\Users\\datbo\\.julia\\packages\\RipQP\\M6f8t\\src\\iterations\\iterations.jl:230\n",
      "┌ Info:     72   1.0e+00   4.7e+01   9.7e+00   1.1e-05   4.4e-10   2.5e-13   5.4e-06       0\n",
      "└ @ RipQP C:\\Users\\datbo\\.julia\\packages\\RipQP\\M6f8t\\src\\iterations\\iterations.jl:230\n",
      "┌ Info:     73   1.0e+00   5.0e+01   9.7e+00   1.1e-05   6.3e-09   3.8e-11   5.4e-06       0\n",
      "└ @ RipQP C:\\Users\\datbo\\.julia\\packages\\RipQP\\M6f8t\\src\\iterations\\iterations.jl:230\n",
      "┌ Info:     74   1.0e+00   5.0e+01   9.7e+00   1.1e-05   2.1e-10   2.3e-13   5.4e-06       0\n",
      "└ @ RipQP C:\\Users\\datbo\\.julia\\packages\\RipQP\\M6f8t\\src\\iterations\\iterations.jl:230\n",
      "┌ Info:     75   1.0e+00   5.3e+01   9.7e+00   1.6e-05   1.4e-10   2.9e-11   5.5e-06       0\n",
      "└ @ RipQP C:\\Users\\datbo\\.julia\\packages\\RipQP\\M6f8t\\src\\iterations\\iterations.jl:230\n",
      "┌ Info:     76   1.0e+00   5.3e+01   9.7e+00   1.6e-05   1.3e-10   1.4e-13   5.5e-06       0\n",
      "└ @ RipQP C:\\Users\\datbo\\.julia\\packages\\RipQP\\M6f8t\\src\\iterations\\iterations.jl:230\n",
      "┌ Info:     77   1.0e+00   6.2e+01   9.7e+00   1.6e-05   4.4e-10   8.0e-11   5.5e-06       0\n",
      "└ @ RipQP C:\\Users\\datbo\\.julia\\packages\\RipQP\\M6f8t\\src\\iterations\\iterations.jl:230\n",
      "┌ Info:     78   1.0e+00   6.2e+01   9.7e+00   1.7e-05   3.7e-10   7.4e-13   5.5e-06       0\n",
      "└ @ RipQP C:\\Users\\datbo\\.julia\\packages\\RipQP\\M6f8t\\src\\iterations\\iterations.jl:230\n",
      "┌ Info:     79   1.0e+00   6.4e+01   9.7e+00   1.7e-05   3.5e-09   1.4e-11   5.5e-06       0\n",
      "└ @ RipQP C:\\Users\\datbo\\.julia\\packages\\RipQP\\M6f8t\\src\\iterations\\iterations.jl:230\n",
      "┌ Info:     80   1.0e+00   6.4e+01   9.7e+00   1.7e-05   8.6e-11   1.1e-12   5.5e-06       0\n",
      "└ @ RipQP C:\\Users\\datbo\\.julia\\packages\\RipQP\\M6f8t\\src\\iterations\\iterations.jl:230\n",
      "┌ Info:     81   1.0e+00   6.5e+01   9.7e+00   1.7e-05   5.7e-09   5.0e-12   5.5e-06       0\n",
      "└ @ RipQP C:\\Users\\datbo\\.julia\\packages\\RipQP\\M6f8t\\src\\iterations\\iterations.jl:230\n",
      "┌ Info:     82   1.0e+00   6.5e+01   9.7e+00   1.5e-05   3.5e-12   4.3e-13   5.5e-06       0\n",
      "└ @ RipQP C:\\Users\\datbo\\.julia\\packages\\RipQP\\M6f8t\\src\\iterations\\iterations.jl:230\n",
      "┌ Info:     83   1.0e+00   6.5e+01   9.7e+00   1.5e-05   2.1e-10   1.9e-13   5.5e-06       0\n",
      "└ @ RipQP C:\\Users\\datbo\\.julia\\packages\\RipQP\\M6f8t\\src\\iterations\\iterations.jl:230\n",
      "┌ Info:     84   1.0e+00   7.4e+01   9.7e+00   1.6e-05   8.9e-10   6.5e-11   5.5e-06       0\n",
      "└ @ RipQP C:\\Users\\datbo\\.julia\\packages\\RipQP\\M6f8t\\src\\iterations\\iterations.jl:230\n",
      "┌ Info:     85   1.0e+00   7.4e+01   9.7e+00   1.7e-05   3.0e-11   1.0e-13   5.5e-06       0\n",
      "└ @ RipQP C:\\Users\\datbo\\.julia\\packages\\RipQP\\M6f8t\\src\\iterations\\iterations.jl:230\n",
      "┌ Info:     86   1.0e+00   7.4e+01   9.7e+00   1.3e-05   6.6e-13   1.5e-13   5.5e-06       0\n",
      "└ @ RipQP C:\\Users\\datbo\\.julia\\packages\\RipQP\\M6f8t\\src\\iterations\\iterations.jl:230\n",
      "┌ Info:     87   1.0e+00   7.4e+01   9.7e+00   1.3e-05   6.7e-11   1.0e-12   5.5e-06       0\n",
      "└ @ RipQP C:\\Users\\datbo\\.julia\\packages\\RipQP\\M6f8t\\src\\iterations\\iterations.jl:230\n",
      "┌ Info:     88   1.0e+00   7.8e+01   9.7e+00   1.3e-05   9.4e-10   3.2e-11   5.5e-06       0\n",
      "└ @ RipQP C:\\Users\\datbo\\.julia\\packages\\RipQP\\M6f8t\\src\\iterations\\iterations.jl:230\n",
      "┌ Info:     89   1.0e+00   8.3e+01   9.7e+00   1.3e-05   4.9e-09   3.0e-11   5.5e-06       0\n",
      "└ @ RipQP C:\\Users\\datbo\\.julia\\packages\\RipQP\\M6f8t\\src\\iterations\\iterations.jl:230\n",
      "┌ Info:     90   1.0e+00   8.4e+01   9.7e+00   1.3e-05   9.1e-10   4.6e-12   5.5e-06       0\n",
      "└ @ RipQP C:\\Users\\datbo\\.julia\\packages\\RipQP\\M6f8t\\src\\iterations\\iterations.jl:230\n",
      "┌ Info:     91   1.0e+00   8.6e+01   9.7e+00   1.3e-05   1.2e-09   1.1e-11   5.5e-06       0\n",
      "└ @ RipQP C:\\Users\\datbo\\.julia\\packages\\RipQP\\M6f8t\\src\\iterations\\iterations.jl:230\n",
      "┌ Info:     92   1.0e+00   8.9e+01   9.7e+00   1.3e-05   3.9e-09   1.9e-11   5.5e-06       0\n",
      "└ @ RipQP C:\\Users\\datbo\\.julia\\packages\\RipQP\\M6f8t\\src\\iterations\\iterations.jl:230\n",
      "┌ Info:     93   1.0e+00   8.9e+01   9.7e+00   1.3e-05   9.1e-10   6.6e-13   5.5e-06       0\n",
      "└ @ RipQP C:\\Users\\datbo\\.julia\\packages\\RipQP\\M6f8t\\src\\iterations\\iterations.jl:230\n",
      "┌ Info:     94   1.0e+00   9.5e+01   9.7e+00   1.4e-05   2.9e-09   2.9e-11   5.5e-06       0\n",
      "└ @ RipQP C:\\Users\\datbo\\.julia\\packages\\RipQP\\M6f8t\\src\\iterations\\iterations.jl:230\n",
      "┌ Info:     95   1.0e+00   9.8e+01   9.7e+00   1.4e-05   2.1e-09   1.7e-11   5.5e-06       0\n",
      "└ @ RipQP C:\\Users\\datbo\\.julia\\packages\\RipQP\\M6f8t\\src\\iterations\\iterations.jl:230\n",
      "┌ Info:     96   1.0e+00   1.0e+02   9.7e+00   1.2e-05   1.0e-10   1.1e-11   5.5e-06       0\n",
      "└ @ RipQP C:\\Users\\datbo\\.julia\\packages\\RipQP\\M6f8t\\src\\iterations\\iterations.jl:230\n",
      "┌ Info:     97   1.0e+00   1.0e+02   9.7e+00   1.2e-05   1.2e-10   1.5e-13   5.5e-06       0\n",
      "└ @ RipQP C:\\Users\\datbo\\.julia\\packages\\RipQP\\M6f8t\\src\\iterations\\iterations.jl:230\n",
      "┌ Info:     98   1.0e+00   1.1e+02   9.7e+00   1.2e-05   2.3e-09   4.3e-11   5.5e-06       0\n",
      "└ @ RipQP C:\\Users\\datbo\\.julia\\packages\\RipQP\\M6f8t\\src\\iterations\\iterations.jl:230\n",
      "┌ Info:     99   1.0e+00   1.2e+02   9.7e+00   1.2e-05   6.1e-09   3.6e-11   5.6e-06       0\n",
      "└ @ RipQP C:\\Users\\datbo\\.julia\\packages\\RipQP\\M6f8t\\src\\iterations\\iterations.jl:230\n",
      "┌ Info:    100   1.0e+00   1.2e+02   9.7e+00   1.2e-05   2.1e-09   1.6e-12   5.6e-06       0\n",
      "└ @ RipQP C:\\Users\\datbo\\.julia\\packages\\RipQP\\M6f8t\\src\\iterations\\iterations.jl:230\n",
      "┌ Info:    101   1.0e+00   1.3e+02   9.7e+00   1.3e-05   1.5e-09   3.3e-11   5.6e-06       0\n",
      "└ @ RipQP C:\\Users\\datbo\\.julia\\packages\\RipQP\\M6f8t\\src\\iterations\\iterations.jl:230\n",
      "┌ Info:    102   1.0e+00   1.4e+02   9.7e+00   1.6e-05   1.3e-09   6.6e-11   5.6e-06       0\n",
      "└ @ RipQP C:\\Users\\datbo\\.julia\\packages\\RipQP\\M6f8t\\src\\iterations\\iterations.jl:230\n",
      "┌ Info:    103   1.0e+00   1.5e+02   9.7e+00   1.5e-05   1.1e-09   7.6e-12   5.6e-06       0\n",
      "└ @ RipQP C:\\Users\\datbo\\.julia\\packages\\RipQP\\M6f8t\\src\\iterations\\iterations.jl:230\n",
      "┌ Info:    104   1.0e+00   1.5e+02   9.7e+00   1.5e-05   2.1e-09   2.5e-11   5.6e-06       0\n",
      "└ @ RipQP C:\\Users\\datbo\\.julia\\packages\\RipQP\\M6f8t\\src\\iterations\\iterations.jl:230\n",
      "┌ Info:    105   1.0e+00   1.5e+02   9.7e+00   1.5e-05   4.9e-11   2.9e-13   5.6e-06       0\n",
      "└ @ RipQP C:\\Users\\datbo\\.julia\\packages\\RipQP\\M6f8t\\src\\iterations\\iterations.jl:230\n",
      "┌ Info:    106   1.0e+00   1.5e+02   9.7e+00   1.7e-05   1.2e-10   5.8e-12   5.6e-06       0\n",
      "└ @ RipQP C:\\Users\\datbo\\.julia\\packages\\RipQP\\M6f8t\\src\\iterations\\iterations.jl:230\n",
      "┌ Info:    107   1.0e+00   1.5e+02   9.7e+00   1.7e-05   5.3e-10   3.0e-13   5.6e-06       0\n",
      "└ @ RipQP C:\\Users\\datbo\\.julia\\packages\\RipQP\\M6f8t\\src\\iterations\\iterations.jl:230\n",
      "┌ Info:    108   1.0e+00   1.5e+02   9.7e+00   1.7e-05   4.6e-11   2.2e-13   5.6e-06       0\n",
      "└ @ RipQP C:\\Users\\datbo\\.julia\\packages\\RipQP\\M6f8t\\src\\iterations\\iterations.jl:230\n",
      "┌ Info:    109   1.0e+00   1.6e+02   9.7e+00   1.7e-05   4.4e-09   1.4e-12   5.6e-06       0\n",
      "└ @ RipQP C:\\Users\\datbo\\.julia\\packages\\RipQP\\M6f8t\\src\\iterations\\iterations.jl:230\n",
      "┌ Info:    110   1.0e+00   1.6e+02   9.7e+00   1.6e-05   9.6e-10   9.4e-12   5.6e-06       0\n",
      "└ @ RipQP C:\\Users\\datbo\\.julia\\packages\\RipQP\\M6f8t\\src\\iterations\\iterations.jl:230\n",
      "┌ Info:    111   1.0e+00   1.6e+02   9.7e+00   1.6e-05   2.9e-10   2.7e-14   5.6e-06       0\n",
      "└ @ RipQP C:\\Users\\datbo\\.julia\\packages\\RipQP\\M6f8t\\src\\iterations\\iterations.jl:230\n",
      "┌ Info:    112   1.0e+00   1.6e+02   9.7e+00   1.9e-05   8.2e-11   1.4e-12   5.6e-06       0\n",
      "└ @ RipQP C:\\Users\\datbo\\.julia\\packages\\RipQP\\M6f8t\\src\\iterations\\iterations.jl:230\n"
     ]
    },
    {
     "name": "stderr",
     "output_type": "stream",
     "text": [
      "┌ Info:    113   1.0e+00   1.6e+02   9.7e+00   1.9e-05   4.5e-09   4.9e-12   5.6e-06       0\n",
      "└ @ RipQP C:\\Users\\datbo\\.julia\\packages\\RipQP\\M6f8t\\src\\iterations\\iterations.jl:230\n",
      "┌ Info:    114   1.0e+00   1.6e+02   9.7e+00   1.9e-05   1.0e-09   5.5e-12   5.6e-06       0\n",
      "└ @ RipQP C:\\Users\\datbo\\.julia\\packages\\RipQP\\M6f8t\\src\\iterations\\iterations.jl:230\n",
      "┌ Info:    115   1.0e+00   1.7e+02   9.7e+00   1.9e-05   3.7e-09   1.1e-11   5.6e-06       0\n",
      "└ @ RipQP C:\\Users\\datbo\\.julia\\packages\\RipQP\\M6f8t\\src\\iterations\\iterations.jl:230\n",
      "┌ Info:    116   1.0e+00   1.7e+02   9.7e+00   2.0e-05   6.6e-10   5.0e-12   5.6e-06       0\n",
      "└ @ RipQP C:\\Users\\datbo\\.julia\\packages\\RipQP\\M6f8t\\src\\iterations\\iterations.jl:230\n",
      "┌ Info:    117   1.0e+00   1.7e+02   9.7e+00   2.0e-05   8.9e-10   1.1e-12   5.6e-06       0\n",
      "└ @ RipQP C:\\Users\\datbo\\.julia\\packages\\RipQP\\M6f8t\\src\\iterations\\iterations.jl:230\n",
      "┌ Info:    118   1.0e+00   1.7e+02   9.7e+00   2.1e-05   1.3e-09   4.6e-12   5.7e-06       0\n",
      "└ @ RipQP C:\\Users\\datbo\\.julia\\packages\\RipQP\\M6f8t\\src\\iterations\\iterations.jl:230\n",
      "┌ Info:    119   1.0e+00   1.7e+02   9.7e+00   2.1e-05   3.0e-10   2.0e-12   5.7e-06       0\n",
      "└ @ RipQP C:\\Users\\datbo\\.julia\\packages\\RipQP\\M6f8t\\src\\iterations\\iterations.jl:230\n",
      "┌ Info:    120   1.0e+00   1.7e+02   9.7e+00   2.4e-05   1.0e-09   1.3e-11   5.7e-06       0\n",
      "└ @ RipQP C:\\Users\\datbo\\.julia\\packages\\RipQP\\M6f8t\\src\\iterations\\iterations.jl:230\n",
      "┌ Info:    121   1.0e+00   1.8e+02   9.7e+00   2.4e-05   2.3e-09   4.5e-12   5.7e-06       0\n",
      "└ @ RipQP C:\\Users\\datbo\\.julia\\packages\\RipQP\\M6f8t\\src\\iterations\\iterations.jl:230\n",
      "┌ Info:    122   1.0e+00   1.8e+02   9.7e+00   2.6e-05   7.0e-10   8.3e-12   5.7e-06       0\n",
      "└ @ RipQP C:\\Users\\datbo\\.julia\\packages\\RipQP\\M6f8t\\src\\iterations\\iterations.jl:230\n",
      "┌ Info:    123   1.0e+00   2.0e+02   9.7e+00   2.8e-05   1.8e-09   4.6e-11   5.7e-06       0\n",
      "└ @ RipQP C:\\Users\\datbo\\.julia\\packages\\RipQP\\M6f8t\\src\\iterations\\iterations.jl:230\n",
      "┌ Info:    124   1.0e+00   2.0e+02   9.7e+00   2.8e-05   1.1e-09   2.6e-12   5.7e-06       0\n",
      "└ @ RipQP C:\\Users\\datbo\\.julia\\packages\\RipQP\\M6f8t\\src\\iterations\\iterations.jl:230\n",
      "┌ Info:    125   1.0e+00   2.0e+02   9.7e+00   2.8e-05   1.9e-09   4.1e-12   5.7e-06       0\n",
      "└ @ RipQP C:\\Users\\datbo\\.julia\\packages\\RipQP\\M6f8t\\src\\iterations\\iterations.jl:230\n",
      "┌ Info:    126   1.0e+00   2.2e+02   9.7e+00   2.8e-05   1.0e-09   5.3e-11   5.7e-06       0\n",
      "└ @ RipQP C:\\Users\\datbo\\.julia\\packages\\RipQP\\M6f8t\\src\\iterations\\iterations.jl:230\n",
      "┌ Info:    127   1.0e+00   2.2e+02   9.7e+00   2.7e-05   7.9e-10   3.8e-13   5.7e-06       0\n",
      "└ @ RipQP C:\\Users\\datbo\\.julia\\packages\\RipQP\\M6f8t\\src\\iterations\\iterations.jl:230\n",
      "┌ Info:    128   1.0e+00   2.2e+02   9.7e+00   2.8e-05   1.2e-09   2.4e-12   5.7e-06       0\n",
      "└ @ RipQP C:\\Users\\datbo\\.julia\\packages\\RipQP\\M6f8t\\src\\iterations\\iterations.jl:230\n",
      "┌ Info:    129   1.0e+00   2.2e+02   9.7e+00   2.8e-05   8.7e-10   9.3e-13   5.7e-06       0\n",
      "└ @ RipQP C:\\Users\\datbo\\.julia\\packages\\RipQP\\M6f8t\\src\\iterations\\iterations.jl:230\n",
      "┌ Info:    130   1.0e+00   2.3e+02   9.7e+00   2.7e-05   2.2e-09   5.4e-12   5.7e-06       0\n",
      "└ @ RipQP C:\\Users\\datbo\\.julia\\packages\\RipQP\\M6f8t\\src\\iterations\\iterations.jl:230\n",
      "┌ Info:    131   1.0e+00   2.3e+02   9.7e+00   2.8e-05   2.0e-09   8.7e-12   5.8e-06       0\n",
      "└ @ RipQP C:\\Users\\datbo\\.julia\\packages\\RipQP\\M6f8t\\src\\iterations\\iterations.jl:230\n",
      "┌ Info:    132   1.0e+00   2.3e+02   9.7e+00   2.8e-05   1.2e-09   3.9e-12   5.8e-06       0\n",
      "└ @ RipQP C:\\Users\\datbo\\.julia\\packages\\RipQP\\M6f8t\\src\\iterations\\iterations.jl:230\n",
      "┌ Info:    133   1.0e+00   2.3e+02   9.7e+00   2.9e-05   1.0e-09   6.4e-12   5.8e-06       0\n",
      "└ @ RipQP C:\\Users\\datbo\\.julia\\packages\\RipQP\\M6f8t\\src\\iterations\\iterations.jl:230\n",
      "┌ Info:    134   1.0e+00   2.6e+02   9.7e+00   2.9e-05   1.9e-09   4.3e-11   5.8e-06       0\n",
      "└ @ RipQP C:\\Users\\datbo\\.julia\\packages\\RipQP\\M6f8t\\src\\iterations\\iterations.jl:230\n",
      "┌ Info:    135   1.0e+00   2.6e+02   9.7e+00   2.9e-05   8.5e-10   1.4e-12   5.8e-06       0\n",
      "└ @ RipQP C:\\Users\\datbo\\.julia\\packages\\RipQP\\M6f8t\\src\\iterations\\iterations.jl:230\n",
      "┌ Info:    136   1.0e+00   2.6e+02   9.7e+00   2.9e-05   8.6e-10   1.6e-11   5.8e-06       0\n",
      "└ @ RipQP C:\\Users\\datbo\\.julia\\packages\\RipQP\\M6f8t\\src\\iterations\\iterations.jl:230\n",
      "┌ Info:    137   1.0e+00   2.6e+02   9.7e+00   2.9e-05   6.5e-10   4.1e-13   5.8e-06       0\n",
      "└ @ RipQP C:\\Users\\datbo\\.julia\\packages\\RipQP\\M6f8t\\src\\iterations\\iterations.jl:230\n",
      "┌ Info:    138   1.0e+00   2.7e+02   9.7e+00   2.9e-05   2.1e-09   4.2e-12   5.8e-06       0\n",
      "└ @ RipQP C:\\Users\\datbo\\.julia\\packages\\RipQP\\M6f8t\\src\\iterations\\iterations.jl:230\n",
      "┌ Info:    139   1.0e+00   2.8e+02   9.7e+00   3.0e-05   3.8e-09   3.1e-11   5.8e-06       0\n",
      "└ @ RipQP C:\\Users\\datbo\\.julia\\packages\\RipQP\\M6f8t\\src\\iterations\\iterations.jl:230\n",
      "┌ Info:    140   1.0e+00   2.8e+02   9.7e+00   3.0e-05   3.9e-10   9.0e-13   5.8e-06       0\n",
      "└ @ RipQP C:\\Users\\datbo\\.julia\\packages\\RipQP\\M6f8t\\src\\iterations\\iterations.jl:230\n",
      "┌ Info:    141   1.0e+00   3.0e+02   9.7e+00   3.4e-05   1.2e-09   3.4e-11   5.9e-06       0\n",
      "└ @ RipQP C:\\Users\\datbo\\.julia\\packages\\RipQP\\M6f8t\\src\\iterations\\iterations.jl:230\n",
      "┌ Info:    142   1.0e+00   3.1e+02   9.7e+00   3.4e-05   8.3e-10   2.0e-12   5.9e-06       0\n",
      "└ @ RipQP C:\\Users\\datbo\\.julia\\packages\\RipQP\\M6f8t\\src\\iterations\\iterations.jl:230\n",
      "┌ Info:    143   1.0e+00   3.1e+02   9.7e+00   3.4e-05   3.0e-09   6.2e-13   5.9e-06       0\n",
      "└ @ RipQP C:\\Users\\datbo\\.julia\\packages\\RipQP\\M6f8t\\src\\iterations\\iterations.jl:230\n",
      "┌ Info:    144   1.0e+00   3.1e+02   9.7e+00   3.4e-05   2.0e-09   6.1e-12   5.9e-06       0\n",
      "└ @ RipQP C:\\Users\\datbo\\.julia\\packages\\RipQP\\M6f8t\\src\\iterations\\iterations.jl:230\n",
      "┌ Info:    145   1.0e+00   3.1e+02   9.7e+00   3.4e-05   2.9e-09   5.6e-12   5.9e-06       0\n",
      "└ @ RipQP C:\\Users\\datbo\\.julia\\packages\\RipQP\\M6f8t\\src\\iterations\\iterations.jl:230\n",
      "┌ Info:    146   1.0e+00   3.1e+02   9.7e+00   4.0e-05   6.3e-12   9.8e-13   5.9e-06       0\n",
      "└ @ RipQP C:\\Users\\datbo\\.julia\\packages\\RipQP\\M6f8t\\src\\iterations\\iterations.jl:230\n",
      "┌ Info:    147   1.0e+00   3.1e+02   9.7e+00   4.2e-05   5.2e-11   6.2e-13   5.9e-06       0\n",
      "└ @ RipQP C:\\Users\\datbo\\.julia\\packages\\RipQP\\M6f8t\\src\\iterations\\iterations.jl:230\n",
      "┌ Info:    148   1.0e+00   3.1e+02   9.7e+00   4.2e-05   4.1e-10   1.2e-13   5.9e-06       0\n",
      "└ @ RipQP C:\\Users\\datbo\\.julia\\packages\\RipQP\\M6f8t\\src\\iterations\\iterations.jl:230\n",
      "┌ Info:    149   1.0e+00   3.7e+02   9.7e+00   4.0e-05   1.3e-09   8.0e-11   6.0e-06       0\n",
      "└ @ RipQP C:\\Users\\datbo\\.julia\\packages\\RipQP\\M6f8t\\src\\iterations\\iterations.jl:230\n",
      "┌ Info:    150   1.0e+00   4.8e+02   9.7e+00   4.3e-05   1.8e-09   1.5e-10   6.2e-06       0\n",
      "└ @ RipQP C:\\Users\\datbo\\.julia\\packages\\RipQP\\M6f8t\\src\\iterations\\iterations.jl:230\n",
      "┌ Info:    151   1.0e+00   5.1e+02   9.7e+00   4.3e-05   3.5e-09   2.8e-11   6.2e-06       0\n",
      "└ @ RipQP C:\\Users\\datbo\\.julia\\packages\\RipQP\\M6f8t\\src\\iterations\\iterations.jl:230\n",
      "┌ Info:    152   1.0e+00   5.3e+02   9.7e+00   4.2e-05   2.1e-10   2.0e-11   6.3e-06       0\n",
      "└ @ RipQP C:\\Users\\datbo\\.julia\\packages\\RipQP\\M6f8t\\src\\iterations\\iterations.jl:230\n",
      "┌ Info:    153   1.0e+00   5.5e+02   9.7e+00   4.2e-05   1.3e-09   9.2e-12   6.3e-06       0\n",
      "└ @ RipQP C:\\Users\\datbo\\.julia\\packages\\RipQP\\M6f8t\\src\\iterations\\iterations.jl:230\n",
      "┌ Info:    154   1.0e+00   5.6e+02   9.7e+00   4.3e-05   2.0e-09   9.1e-12   6.3e-06       0\n",
      "└ @ RipQP C:\\Users\\datbo\\.julia\\packages\\RipQP\\M6f8t\\src\\iterations\\iterations.jl:230\n",
      "┌ Info:    155   1.0e+00   5.6e+02   9.7e+00   4.3e-05   9.6e-10   1.2e-12   6.3e-06       0\n",
      "└ @ RipQP C:\\Users\\datbo\\.julia\\packages\\RipQP\\M6f8t\\src\\iterations\\iterations.jl:230\n",
      "┌ Info:    156   1.0e+00   5.9e+02   9.7e+00   6.3e-05   7.7e-11   3.2e-11   6.4e-06       0\n",
      "└ @ RipQP C:\\Users\\datbo\\.julia\\packages\\RipQP\\M6f8t\\src\\iterations\\iterations.jl:230\n",
      "┌ Info:    157   1.0e+00   1.3e+03   9.7e+00   6.3e-05   1.0e-09   5.3e-10   7.5e-06       0\n",
      "└ @ RipQP C:\\Users\\datbo\\.julia\\packages\\RipQP\\M6f8t\\src\\iterations\\iterations.jl:230\n",
      "┌ Info:    158   1.0e+00   1.3e+03   9.7e+00   6.3e-05   2.4e-10   9.8e-13   7.5e-06       0\n",
      "└ @ RipQP C:\\Users\\datbo\\.julia\\packages\\RipQP\\M6f8t\\src\\iterations\\iterations.jl:230\n",
      "┌ Info:    159   1.0e+00   1.3e+03   9.7e+00   6.4e-05   2.4e-11   2.2e-12   7.5e-06       0\n",
      "└ @ RipQP C:\\Users\\datbo\\.julia\\packages\\RipQP\\M6f8t\\src\\iterations\\iterations.jl:230\n",
      "┌ Info:    160   1.0e+00   1.3e+03   9.7e+00   6.4e-05   1.9e-09   2.1e-11   7.6e-06       0\n",
      "└ @ RipQP C:\\Users\\datbo\\.julia\\packages\\RipQP\\M6f8t\\src\\iterations\\iterations.jl:230\n",
      "┌ Info:    161   1.0e+00   1.4e+03   9.7e+00   6.5e-05   2.6e-09   2.9e-11   7.8e-06       0\n",
      "└ @ RipQP C:\\Users\\datbo\\.julia\\packages\\RipQP\\M6f8t\\src\\iterations\\iterations.jl:230\n",
      "┌ Info:    162   1.0e+00   1.4e+03   9.7e+00   6.5e-05   2.0e-11   1.7e-13   7.8e-06       0\n",
      "└ @ RipQP C:\\Users\\datbo\\.julia\\packages\\RipQP\\M6f8t\\src\\iterations\\iterations.jl:230\n",
      "┌ Info:    163   1.0e+00   1.5e+03   9.7e+00   6.6e-05   1.5e-09   1.4e-11   7.8e-06       0\n",
      "└ @ RipQP C:\\Users\\datbo\\.julia\\packages\\RipQP\\M6f8t\\src\\iterations\\iterations.jl:230\n",
      "┌ Info:    164   1.0e+00   2.7e+03   9.7e+00   6.6e-05   3.9e-09   4.1e-10   1.0e-05       0\n",
      "└ @ RipQP C:\\Users\\datbo\\.julia\\packages\\RipQP\\M6f8t\\src\\iterations\\iterations.jl:230\n",
      "┌ Info:    165   1.0e+00   2.7e+03   9.7e+00   6.6e-05   5.4e-10   2.2e-12   1.0e-05       0\n",
      "└ @ RipQP C:\\Users\\datbo\\.julia\\packages\\RipQP\\M6f8t\\src\\iterations\\iterations.jl:230\n",
      "┌ Info:    166   1.0e+00   2.7e+03   9.7e+00   7.0e-05   3.0e-11   1.7e-12   1.0e-05       0\n",
      "└ @ RipQP C:\\Users\\datbo\\.julia\\packages\\RipQP\\M6f8t\\src\\iterations\\iterations.jl:230\n",
      "┌ Info:    167   1.0e+00   2.8e+03   9.7e+00   7.0e-05   3.3e-10   2.4e-12   1.0e-05       0\n",
      "└ @ RipQP C:\\Users\\datbo\\.julia\\packages\\RipQP\\M6f8t\\src\\iterations\\iterations.jl:230\n",
      "┌ Info:    168   1.0e+00   2.9e+03   9.7e+00   7.0e-05   9.6e-11   2.2e-11   1.0e-05       0\n",
      "└ @ RipQP C:\\Users\\datbo\\.julia\\packages\\RipQP\\M6f8t\\src\\iterations\\iterations.jl:230\n"
     ]
    },
    {
     "name": "stderr",
     "output_type": "stream",
     "text": [
      "┌ Info:    169   1.0e+00   2.9e+03   9.7e+00   7.0e-05   6.5e-10   7.8e-12   1.0e-05       0\n",
      "└ @ RipQP C:\\Users\\datbo\\.julia\\packages\\RipQP\\M6f8t\\src\\iterations\\iterations.jl:230\n",
      "┌ Info:    170   1.0e+00   1.5e+04   9.7e+00   8.8e-05   1.6e-09   1.9e-09   3.0e-05       0\n",
      "└ @ RipQP C:\\Users\\datbo\\.julia\\packages\\RipQP\\M6f8t\\src\\iterations\\iterations.jl:230\n",
      "┌ Info:    171   1.0e+00   1.5e+04   9.7e+00   8.8e-05   2.0e-09   8.3e-13   3.0e-05       0\n",
      "└ @ RipQP C:\\Users\\datbo\\.julia\\packages\\RipQP\\M6f8t\\src\\iterations\\iterations.jl:230\n",
      "┌ Info:    172   1.0e+00   1.5e+04   9.7e+00   9.4e-05   3.0e-11   1.9e-12   3.0e-05       0\n",
      "└ @ RipQP C:\\Users\\datbo\\.julia\\packages\\RipQP\\M6f8t\\src\\iterations\\iterations.jl:230\n",
      "┌ Info:    173   1.0e+00   1.5e+04   9.7e+00   9.4e-05   9.7e-10   1.0e-12   3.0e-05       0\n",
      "└ @ RipQP C:\\Users\\datbo\\.julia\\packages\\RipQP\\M6f8t\\src\\iterations\\iterations.jl:230\n",
      "┌ Info:    174   1.0e+00   1.5e+04   9.7e+00   9.5e-05   1.3e-10   2.1e-12   3.0e-05       0\n",
      "└ @ RipQP C:\\Users\\datbo\\.julia\\packages\\RipQP\\M6f8t\\src\\iterations\\iterations.jl:230\n",
      "┌ Info:    175   1.0e+00   1.5e+04   9.7e+00   9.5e-05   5.8e-10   8.0e-13   3.0e-05       0\n",
      "└ @ RipQP C:\\Users\\datbo\\.julia\\packages\\RipQP\\M6f8t\\src\\iterations\\iterations.jl:230\n",
      "┌ Info:    176   1.0e+00   1.5e+04   9.7e+00   9.6e-05   4.9e-10   7.8e-12   3.1e-05       0\n",
      "└ @ RipQP C:\\Users\\datbo\\.julia\\packages\\RipQP\\M6f8t\\src\\iterations\\iterations.jl:230\n",
      "┌ Info:    177   1.0e+00   1.5e+04   9.7e+00   9.6e-05   3.9e-10   5.0e-13   3.1e-05       0\n",
      "└ @ RipQP C:\\Users\\datbo\\.julia\\packages\\RipQP\\M6f8t\\src\\iterations\\iterations.jl:230\n",
      "┌ Info:    178   1.0e+00   1.5e+04   9.7e+00   9.6e-05   3.2e-10   8.5e-13   3.1e-05       0\n",
      "└ @ RipQP C:\\Users\\datbo\\.julia\\packages\\RipQP\\M6f8t\\src\\iterations\\iterations.jl:230\n",
      "┌ Info:    179   1.0e+00   1.5e+04   9.7e+00   9.7e-05   8.1e-11   5.6e-12   3.1e-05       0\n",
      "└ @ RipQP C:\\Users\\datbo\\.julia\\packages\\RipQP\\M6f8t\\src\\iterations\\iterations.jl:230\n",
      "┌ Info:    180   1.0e+00   2.5e+04   9.7e+00   9.6e-05   1.9e-08   2.9e-10   4.7e-05       0\n",
      "└ @ RipQP C:\\Users\\datbo\\.julia\\packages\\RipQP\\M6f8t\\src\\iterations\\iterations.jl:230\n",
      "┌ Info:    181   1.0e+00   2.5e+04   9.7e+00   1.0e-04   7.6e-11   3.0e-12   4.8e-05       0\n",
      "└ @ RipQP C:\\Users\\datbo\\.julia\\packages\\RipQP\\M6f8t\\src\\iterations\\iterations.jl:230\n",
      "┌ Info:    182   1.0e+00   5.1e+04   9.7e+00   9.6e-05   1.7e-09   4.9e-10   9.2e-05       0\n",
      "└ @ RipQP C:\\Users\\datbo\\.julia\\packages\\RipQP\\M6f8t\\src\\iterations\\iterations.jl:230\n",
      "┌ Info:    183   1.0e+00   5.2e+04   9.7e+00   9.6e-05   5.7e-11   2.0e-13   9.2e-05       0\n",
      "└ @ RipQP C:\\Users\\datbo\\.julia\\packages\\RipQP\\M6f8t\\src\\iterations\\iterations.jl:230\n",
      "┌ Info:    184   1.0e+00   5.2e+04   9.7e+00   9.6e-05   3.5e-11   3.0e-14   9.2e-05       0\n",
      "└ @ RipQP C:\\Users\\datbo\\.julia\\packages\\RipQP\\M6f8t\\src\\iterations\\iterations.jl:230\n",
      "┌ Info:    185   1.0e+00   5.2e+04   9.7e+00   1.1e-04   5.1e-11   3.5e-12   9.3e-05       0\n",
      "└ @ RipQP C:\\Users\\datbo\\.julia\\packages\\RipQP\\M6f8t\\src\\iterations\\iterations.jl:230\n",
      "┌ Info:    186   1.0e+00   5.7e+04   9.7e+00   1.1e-04   1.7e-08   4.3e-11   1.0e-04       0\n",
      "└ @ RipQP C:\\Users\\datbo\\.julia\\packages\\RipQP\\M6f8t\\src\\iterations\\iterations.jl:230\n",
      "┌ Info:    187   1.0e+00   5.7e+04   9.7e+00   1.1e-04   1.8e-11   9.7e-13   1.0e-04       0\n",
      "└ @ RipQP C:\\Users\\datbo\\.julia\\packages\\RipQP\\M6f8t\\src\\iterations\\iterations.jl:230\n",
      "┌ Info:    188   1.0e+00   5.7e+04   9.7e+00   1.1e-04   1.1e-11   7.9e-14   1.0e-04       0\n",
      "└ @ RipQP C:\\Users\\datbo\\.julia\\packages\\RipQP\\M6f8t\\src\\iterations\\iterations.jl:230\n",
      "┌ Info:    189   1.0e+00   6.3e+04   9.7e+00   1.1e-04   1.0e-08   4.9e-11   1.1e-04       0\n",
      "└ @ RipQP C:\\Users\\datbo\\.julia\\packages\\RipQP\\M6f8t\\src\\iterations\\iterations.jl:230\n",
      "┌ Info:    190   1.0e+00   6.3e+04   9.7e+00   1.1e-04   8.1e-11   1.4e-12   1.1e-04       0\n",
      "└ @ RipQP C:\\Users\\datbo\\.julia\\packages\\RipQP\\M6f8t\\src\\iterations\\iterations.jl:230\n",
      "┌ Info:    191   1.0e+00   6.4e+04   9.7e+00   1.1e-04   1.2e-09   8.8e-12   1.1e-04       0\n",
      "└ @ RipQP C:\\Users\\datbo\\.julia\\packages\\RipQP\\M6f8t\\src\\iterations\\iterations.jl:230\n",
      "┌ Info:    192   1.0e+00   6.5e+04   9.7e+00   1.1e-04   7.3e-10   3.3e-12   1.1e-04       0\n",
      "└ @ RipQP C:\\Users\\datbo\\.julia\\packages\\RipQP\\M6f8t\\src\\iterations\\iterations.jl:230\n",
      "┌ Info:    193   1.0e+00   6.5e+04   9.7e+00   1.1e-04   1.0e-09   2.5e-12   1.1e-04       0\n",
      "└ @ RipQP C:\\Users\\datbo\\.julia\\packages\\RipQP\\M6f8t\\src\\iterations\\iterations.jl:230\n",
      "┌ Info:    194   1.0e+00   6.5e+04   9.7e+00   1.2e-04   8.3e-11   1.2e-12   1.2e-04       0\n",
      "└ @ RipQP C:\\Users\\datbo\\.julia\\packages\\RipQP\\M6f8t\\src\\iterations\\iterations.jl:230\n",
      "┌ Info:    195   1.0e+00   6.5e+04   9.7e+00   1.2e-04   4.5e-10   9.2e-13   1.2e-04       0\n",
      "└ @ RipQP C:\\Users\\datbo\\.julia\\packages\\RipQP\\M6f8t\\src\\iterations\\iterations.jl:230\n",
      "┌ Info:    196   1.0e+00   6.7e+04   9.7e+00   1.2e-04   1.7e-10   9.3e-12   1.2e-04       0\n",
      "└ @ RipQP C:\\Users\\datbo\\.julia\\packages\\RipQP\\M6f8t\\src\\iterations\\iterations.jl:230\n",
      "┌ Info:    197   1.0e+00   6.7e+04   9.7e+00   1.2e-04   3.1e-10   3.6e-12   1.2e-04       0\n",
      "└ @ RipQP C:\\Users\\datbo\\.julia\\packages\\RipQP\\M6f8t\\src\\iterations\\iterations.jl:230\n",
      "┌ Info:    198   1.0e+00   5.1e+06   9.7e+00   1.2e-04   2.7e-08   3.5e-08   8.6e-03       0\n",
      "└ @ RipQP C:\\Users\\datbo\\.julia\\packages\\RipQP\\M6f8t\\src\\iterations\\iterations.jl:230\n",
      "┌ Info:    199   1.0e+00   5.1e+06   9.7e+00   1.2e-04   9.8e-11   7.3e-14   8.6e-03       0\n",
      "└ @ RipQP C:\\Users\\datbo\\.julia\\packages\\RipQP\\M6f8t\\src\\iterations\\iterations.jl:230\n",
      "┌ Info:    200   1.0e+00   5.2e+06   9.7e+00   1.2e-04   1.0e-10   1.8e-12   8.6e-03       0\n",
      "└ @ RipQP C:\\Users\\datbo\\.julia\\packages\\RipQP\\M6f8t\\src\\iterations\\iterations.jl:230\n"
     ]
    },
    {
     "data": {
      "text/plain": [
       "\"Execution stats: maximum iteration\""
      ]
     },
     "execution_count": 76,
     "metadata": {},
     "output_type": "execute_result"
    }
   ],
   "source": [
    "stats = ripqp(QM)"
   ]
  },
  {
   "cell_type": "code",
   "execution_count": 75,
   "id": "e254868a",
   "metadata": {
    "scrolled": true
   },
   "outputs": [
    {
     "name": "stdout",
     "output_type": "stream",
     "text": [
      "Generic Execution stats\n",
      "  status: maximum iteration\n",
      "  objective value: 1.0\n",
      "  primal feasibility: 29.36096470827926\n",
      "  dual feasibility: 0.013354607742343372\n",
      "  solution: [-0.0016389470575928766  8.385506482414973e-7  -5.981656460866878e-5  0.00022398520874129005 ⋯ 0.0006525265000897464]\n",
      "  multipliers: [-508993.55409019726  -103854.44241512362  -0.14359330767534734  371.6825428382524 ⋯ -1.3845774685898225e-5]\n",
      "  multipliers_L: [0.0  0.0  0.0  0.0 ⋯ 0.0]\n",
      "  multipliers_U: [0.0  0.0  0.0  0.0 ⋯ 0.0]\n",
      "  iterations: 800\n",
      "  elapsed time: 8.493000030517578\n",
      "  solver specific:\n",
      "    pdd: 5.159965312298041e6\n",
      "    absolute_iter_cnt: 200\n"
     ]
    }
   ],
   "source": [
    "println(stats)"
   ]
  },
  {
   "cell_type": "markdown",
   "id": "9d08e6c2",
   "metadata": {},
   "source": [
    "### Résolution à l'aide de JuMP et Ipopt"
   ]
  },
  {
   "cell_type": "markdown",
   "id": "60715af7",
   "metadata": {},
   "source": [
    "Comme la façon d'exprimer notre problème avec le format QuadraticModels n'a pas été trouvée, on utilise plutôt Ipopt pour qu'il solve de la manière appropriée à partir de la fonction objective et des contraintes de notre problème issu de la transformation de celui à valeur absolue."
   ]
  },
  {
   "cell_type": "markdown",
   "id": "526b12e5",
   "metadata": {},
   "source": [
    "D'abord le modèle de l'article est repliqué."
   ]
  },
  {
   "cell_type": "code",
   "execution_count": 7,
   "id": "7d012cfa",
   "metadata": {},
   "outputs": [],
   "source": [
    "using JuMP, Ipopt"
   ]
  },
  {
   "cell_type": "code",
   "execution_count": 8,
   "id": "ce59b880",
   "metadata": {
    "scrolled": true
   },
   "outputs": [
    {
     "data": {
      "text/plain": [
       "12784-element Vector{VariableRef}:\n",
       " u[1]\n",
       " u[2]\n",
       " u[3]\n",
       " u[4]\n",
       " u[5]\n",
       " u[6]\n",
       " u[7]\n",
       " u[8]\n",
       " u[9]\n",
       " u[10]\n",
       " u[11]\n",
       " u[12]\n",
       " u[13]\n",
       " ⋮\n",
       " u[12773]\n",
       " u[12774]\n",
       " u[12775]\n",
       " u[12776]\n",
       " u[12777]\n",
       " u[12778]\n",
       " u[12779]\n",
       " u[12780]\n",
       " u[12781]\n",
       " u[12782]\n",
       " u[12783]\n",
       " u[12784]"
      ]
     },
     "execution_count": 8,
     "metadata": {},
     "output_type": "execute_result"
    }
   ],
   "source": [
    "n = size(A_S)[2]\n",
    "m = size(A_S)[1]\n",
    "L1Model = Model(with_optimizer(Ipopt.Optimizer))\n",
    "@variable(L1Model, x[i=1:n])\n",
    "@variable(L1Model, 0 <= u[i=1:m])"
   ]
  },
  {
   "cell_type": "code",
   "execution_count": 9,
   "id": "94d52bf0",
   "metadata": {},
   "outputs": [],
   "source": [
    "# Le \";\" est impératif pour la fonction objectif pour ne pas crasher le carnet en essayant d'afficher \n",
    "# une ligne latex de dizaine de milliers de variable de long\n",
    "@objective(L1Model, Min, sum(u[i] for i in 1:m));\n",
    "@constraint(L1Model, upper[i in 1:m], dot(A_S[i,:],x) - temp_train[i] <= u[i]);\n",
    "@constraint(L1Model, lower[i in 1:m], dot(A_S[i,:],x) - temp_train[i] >= -u[i]);"
   ]
  },
  {
   "cell_type": "code",
   "execution_count": 10,
   "id": "acbcc528",
   "metadata": {},
   "outputs": [
    {
     "data": {
      "text/plain": [
       "A JuMP Model\n",
       "Minimization problem with:\n",
       "Variables: 12790\n",
       "Objective function type: AffExpr\n",
       "`AffExpr`-in-`MathOptInterface.GreaterThan{Float64}`: 12784 constraints\n",
       "`AffExpr`-in-`MathOptInterface.LessThan{Float64}`: 12784 constraints\n",
       "`VariableRef`-in-`MathOptInterface.GreaterThan{Float64}`: 12784 constraints\n",
       "Model mode: AUTOMATIC\n",
       "CachingOptimizer state: EMPTY_OPTIMIZER\n",
       "Solver name: Ipopt\n",
       "Names registered in the model: lower, u, upper, x"
      ]
     },
     "execution_count": 10,
     "metadata": {},
     "output_type": "execute_result"
    }
   ],
   "source": [
    "L1Model"
   ]
  },
  {
   "cell_type": "code",
   "execution_count": 11,
   "id": "67f5a39a",
   "metadata": {
    "scrolled": true
   },
   "outputs": [
    {
     "name": "stdout",
     "output_type": "stream",
     "text": [
      "\n",
      "******************************************************************************\n",
      "This program contains Ipopt, a library for large-scale nonlinear optimization.\n",
      " Ipopt is released as open source code under the Eclipse Public License (EPL).\n",
      "         For more information visit https://github.com/coin-or/Ipopt\n",
      "******************************************************************************\n",
      "\n",
      "This is Ipopt version 3.14.4, running with linear solver MUMPS 5.4.1.\n",
      "\n",
      "Number of nonzeros in equality constraint Jacobian...:        0\n",
      "Number of nonzeros in inequality constraint Jacobian.:   178976\n",
      "Number of nonzeros in Lagrangian Hessian.............:        0\n",
      "\n",
      "Total number of variables............................:    12790\n",
      "                     variables with only lower bounds:    12784\n",
      "                variables with lower and upper bounds:        0\n",
      "                     variables with only upper bounds:        0\n",
      "Total number of equality constraints.................:        0\n",
      "Total number of inequality constraints...............:    25568\n",
      "        inequality constraints with only lower bounds:    12784\n",
      "   inequality constraints with lower and upper bounds:        0\n",
      "        inequality constraints with only upper bounds:    12784\n",
      "\n",
      "iter    objective    inf_pr   inf_du lg(mu)  ||d||  lg(rg) alpha_du alpha_pr  ls\n",
      "   0  1.2783987e+02 3.03e+01 7.07e-01  -1.0 0.00e+00    -  0.00e+00 0.00e+00   0\n",
      "   1  1.3292650e+02 3.03e+01 7.38e-01  -1.0 1.60e+01    -  4.39e-03 4.06e-03f  1\n",
      "   2  1.3513332e+02 3.03e+01 7.37e-01  -1.0 1.59e+01    -  1.56e-03 1.54e-03f  1\n",
      "   3  1.3729376e+02 3.03e+01 2.03e+00  -1.0 1.95e+01    -  2.34e-03 1.42e-03f  1\n",
      "   4  1.4171900e+02 3.03e+01 1.88e+00  -1.0 2.14e+01    -  1.69e-03 2.65e-03f  1\n",
      "   5  1.4433432e+02 3.03e+01 1.88e+00  -1.0 2.30e+01    -  2.01e-03 1.38e-03f  1\n",
      "   6  1.4914972e+02 3.03e+01 1.87e+00  -1.0 2.37e+01    -  1.50e-03 2.23e-03f  1\n",
      "   7  1.5226655e+02 3.03e+01 1.87e+00  -1.0 2.46e+01    -  1.28e-03 1.26e-03f  1\n",
      "   8  1.5589216e+02 3.03e+01 1.87e+00  -1.0 2.48e+01    -  1.57e-03 1.33e-03f  1\n",
      "   9  1.5993896e+02 3.02e+01 3.19e+00  -1.0 2.41e+01    -  1.87e-03 1.36e-03f  1\n",
      "iter    objective    inf_pr   inf_du lg(mu)  ||d||  lg(rg) alpha_du alpha_pr  ls\n",
      "  10  1.6487823e+02 3.02e+01 2.04e+00  -1.0 2.34e+01    -  1.31e-03 1.52e-03f  1\n",
      "  11  1.6943308e+02 3.02e+01 2.12e+00  -1.0 2.31e+01    -  1.48e-03 1.32e-03f  1\n",
      "  12  1.7442400e+02 3.02e+01 7.05e+00  -1.0 2.35e+01    -  1.98e-03 1.37e-03f  1\n",
      "  13  1.8251438e+02 3.02e+01 7.03e+00  -1.0 2.34e+01    -  1.79e-03 2.08e-03f  1\n",
      "  14  1.8875692e+02 3.02e+01 7.02e+00  -1.0 2.37e+01    -  1.71e-03 1.50e-03f  1\n",
      "  15  1.9863861e+02 3.01e+01 7.01e+00  -1.0 2.22e+01    -  1.54e-03 2.22e-03f  1\n",
      "  16  2.0695224e+02 3.01e+01 6.99e+00  -1.0 2.24e+01    -  2.40e-03 1.76e-03f  1\n",
      "  17  2.1743210e+02 3.01e+01 6.98e+00  -1.0 2.30e+01    -  2.23e-03 2.09e-03f  1\n",
      "  18  2.2418550e+02 3.01e+01 1.32e+01  -1.0 2.35e+01    -  2.11e-03 1.27e-03f  1\n",
      "  19  2.3879947e+02 3.01e+01 1.32e+01  -1.0 2.27e+01    -  1.61e-03 2.63e-03f  1\n",
      "iter    objective    inf_pr   inf_du lg(mu)  ||d||  lg(rg) alpha_du alpha_pr  ls\n",
      "  20  2.5150535e+02 3.00e+01 1.32e+01  -1.0 2.22e+01    -  2.00e-03 2.20e-03f  1\n",
      "  21  2.6217740e+02 3.00e+01 1.31e+01  -1.0 2.18e+01    -  2.47e-03 1.77e-03f  1\n",
      "  22  2.7461057e+02 3.00e+01 1.31e+01  -1.0 2.28e+01    -  1.56e-03 1.98e-03f  1\n",
      "  23  2.8712022e+02 3.00e+01 1.86e+01  -1.0 2.30e+01    -  1.39e-03 1.93e-03f  1\n",
      "  24  3.0401253e+02 3.00e+01 4.00e+01  -1.0 2.24e+01    -  1.37e-03 2.51e-03f  1\n",
      "  25  3.0966617e+02 2.99e+01 3.99e+01  -1.0 2.28e+01    -  1.46e-03 8.10e-04f  1\n",
      "  26  3.2278860e+02 2.99e+01 3.99e+01  -1.0 2.32e+01    -  2.73e-03 1.86e-03f  1\n",
      "  27  3.3801908e+02 2.99e+01 3.98e+01  -1.0 2.35e+01    -  1.94e-03 2.08e-03f  1\n",
      "  28  3.5197077e+02 2.99e+01 3.97e+01  -1.0 2.32e+01    -  1.63e-03 1.84e-03f  1\n",
      "  29  3.6804444e+02 2.99e+01 3.96e+01  -1.0 2.30e+01    -  1.67e-03 2.06e-03f  1\n",
      "iter    objective    inf_pr   inf_du lg(mu)  ||d||  lg(rg) alpha_du alpha_pr  ls\n",
      "  30  3.8145977e+02 2.98e+01 3.95e+01  -1.0 2.28e+01    -  1.99e-03 1.66e-03f  1\n",
      "  31  3.9693732e+02 2.98e+01 3.95e+01  -1.0 2.23e+01    -  1.94e-03 1.85e-03f  1\n",
      "  32  4.0976515e+02 2.98e+01 3.94e+01  -1.0 2.21e+01    -  1.52e-03 1.48e-03f  1\n",
      "  33  4.2618665e+02 2.97e+01 3.93e+01  -1.0 2.21e+01    -  2.57e-03 1.84e-03h  1\n",
      "  34  4.4947550e+02 2.96e+01 3.92e+01  -1.0 2.19e+01    -  1.63e-03 2.52e-03h  1\n",
      "  35  4.6482978e+02 2.96e+01 3.92e+01  -1.0 2.16e+01    -  1.79e-03 1.61e-03h  1\n",
      "  36  4.8313636e+02 2.95e+01 3.91e+01  -1.0 2.16e+01    -  2.05e-03 1.86e-03h  1\n",
      "  37  5.0692039e+02 2.95e+01 4.06e+01  -1.0 2.16e+01    -  1.39e-03 2.34e-03h  1\n",
      "  38  5.2121644e+02 2.94e+01 4.06e+01  -1.0 2.18e+01    -  2.04e-03 1.37e-03h  1\n",
      "  39  5.3905637e+02 2.94e+01 4.05e+01  -1.0 2.24e+01    -  2.33e-03 1.67e-03h  1\n",
      "iter    objective    inf_pr   inf_du lg(mu)  ||d||  lg(rg) alpha_du alpha_pr  ls\n",
      "  40  5.7080024e+02 2.93e+01 4.04e+01  -1.0 2.29e+01    -  2.67e-03 2.90e-03h  1\n",
      "  41  5.9383736e+02 2.92e+01 4.03e+01  -1.0 2.31e+01    -  1.85e-03 2.03e-03h  1\n",
      "  42  6.2587264e+02 2.92e+01 4.02e+01  -1.0 2.24e+01    -  2.87e-03 2.76e-03h  1\n",
      "  43  6.5151569e+02 2.91e+01 4.01e+01  -1.0 2.23e+01    -  2.01e-03 2.12e-03h  1\n",
      "  44  6.8057870e+02 2.90e+01 4.00e+01  -1.0 2.27e+01    -  2.52e-03 2.35e-03h  1\n",
      "  45  7.1454102e+02 2.89e+01 3.99e+01  -1.0 2.25e+01    -  2.76e-03 2.69e-03h  1\n",
      "  46  7.4238432e+02 2.89e+01 3.98e+01  -1.0 2.26e+01    -  2.85e-03 2.15e-03h  1\n",
      "  47  7.8541321e+02 2.88e+01 3.97e+01  -1.0 2.27e+01    -  2.49e-03 3.25e-03h  1\n",
      "  48  8.1512500e+02 2.87e+01 3.96e+01  -1.0 2.27e+01    -  2.85e-03 2.18e-03h  1\n",
      "  49  8.6123219e+02 2.86e+01 3.95e+01  -1.0 2.22e+01    -  3.54e-03 3.30e-03h  1\n",
      "iter    objective    inf_pr   inf_du lg(mu)  ||d||  lg(rg) alpha_du alpha_pr  ls\n",
      "  50  9.1236557e+02 2.85e+01 3.93e+01  -1.0 2.22e+01    -  3.47e-03 3.55e-03h  1\n",
      "  51  9.6408173e+02 2.84e+01 3.92e+01  -1.0 2.18e+01    -  3.60e-03 3.50e-03h  1\n",
      "  52  1.0238053e+03 2.83e+01 3.90e+01  -1.0 2.19e+01    -  2.98e-03 3.94e-03h  1\n",
      "  53  1.0656214e+03 2.82e+01 3.89e+01  -1.0 2.21e+01    -  3.61e-03 2.70e-03h  1\n",
      "  54  1.1297293e+03 2.81e+01 3.88e+01  -1.0 2.26e+01    -  3.49e-03 4.09e-03h  1\n",
      "  55  1.1849140e+03 2.80e+01 3.86e+01  -1.0 2.26e+01    -  4.27e-03 3.45e-03h  1\n",
      "  56  1.2523248e+03 2.79e+01 3.85e+01  -1.0 2.25e+01    -  3.74e-03 4.12e-03h  1\n",
      "  57  1.3204381e+03 2.78e+01 3.83e+01  -1.0 2.25e+01    -  3.91e-03 4.08e-03h  1\n",
      "  58  1.3933758e+03 2.77e+01 3.81e+01  -1.0 2.22e+01    -  4.75e-03 4.29e-03h  1\n",
      "  59  1.5141396e+03 2.75e+01 3.79e+01  -1.0 2.25e+01    -  5.08e-03 6.98e-03h  1\n",
      "iter    objective    inf_pr   inf_du lg(mu)  ||d||  lg(rg) alpha_du alpha_pr  ls\n",
      "  60  1.5501920e+03 2.74e+01 3.78e+01  -1.0 2.23e+01    -  3.55e-03 2.04e-03h  1\n",
      "  61  1.6666418e+03 2.72e+01 3.76e+01  -1.0 2.24e+01    -  5.78e-03 6.56e-03h  1\n",
      "  62  1.7486392e+03 2.71e+01 3.74e+01  -1.0 2.13e+01    -  5.33e-03 4.52e-03h  1\n",
      "  63  1.8631088e+03 2.69e+01 3.72e+01  -1.0 2.09e+01    -  5.36e-03 6.21e-03h  1\n",
      "  64  1.9780028e+03 2.68e+01 6.87e+01  -1.0 2.04e+01    -  2.95e-03 6.12e-03h  1\n",
      "  65  2.0553023e+03 2.67e+01 6.84e+01  -1.0 2.02e+01    -  4.57e-03 4.08e-03h  1\n",
      "  66  2.1550262e+03 2.65e+01 6.80e+01  -1.0 2.02e+01    -  4.32e-03 5.22e-03h  1\n",
      "  67  2.2692361e+03 2.64e+01 6.76e+01  -1.0 2.04e+01    -  6.20e-03 5.94e-03h  1\n",
      "  68  2.4065730e+03 2.62e+01 6.71e+01  -1.0 2.03e+01    -  5.90e-03 7.07e-03h  1\n",
      "  69  2.5095420e+03 2.61e+01 6.68e+01  -1.0 2.04e+01    -  7.63e-03 5.25e-03h  1\n",
      "iter    objective    inf_pr   inf_du lg(mu)  ||d||  lg(rg) alpha_du alpha_pr  ls\n",
      "  70  2.6529303e+03 2.59e+01 6.63e+01  -1.0 1.99e+01    -  3.25e-03 7.24e-03h  1\n",
      "  71  2.7532095e+03 2.57e+01 6.60e+01  -1.0 1.97e+01    -  7.01e-03 5.04e-03h  1\n",
      "  72  2.8714448e+03 2.56e+01 6.56e+01  -1.0 1.96e+01    -  6.56e-03 5.90e-03h  1\n",
      "  73  3.0160843e+03 2.54e+01 6.51e+01  -1.0 1.91e+01    -  6.03e-03 7.15e-03h  1\n",
      "  74  3.1301606e+03 2.53e+01 6.47e+01  -1.0 1.90e+01    -  5.85e-03 5.59e-03h  1\n",
      "  75  3.2432636e+03 2.51e+01 6.44e+01  -1.0 1.94e+01    -  5.61e-03 5.51e-03h  1\n",
      "  76  3.4243736e+03 2.49e+01 6.38e+01  -1.0 1.98e+01    -  5.99e-03 8.80e-03h  1\n",
      "  77  3.5607415e+03 2.47e+01 6.34e+01  -1.0 1.94e+01    -  5.89e-03 6.60e-03h  1\n",
      "  78  3.7206054e+03 2.45e+01 6.29e+01  -1.0 1.91e+01    -  5.07e-03 7.72e-03h  1\n",
      "  79  3.8858331e+03 2.43e+01 6.24e+01  -1.0 1.89e+01    -  5.91e-03 7.96e-03h  1\n",
      "iter    objective    inf_pr   inf_du lg(mu)  ||d||  lg(rg) alpha_du alpha_pr  ls\n",
      "  80  4.0073108e+03 2.42e+01 6.20e+01  -1.0 1.88e+01    -  6.87e-03 5.85e-03h  1\n",
      "  81  4.1609309e+03 2.40e+01 6.16e+01  -1.0 1.89e+01    -  5.48e-03 7.37e-03h  1\n",
      "  82  4.2897721e+03 2.39e+01 6.12e+01  -1.0 1.86e+01    -  8.21e-03 6.17e-03h  1\n",
      "  83  4.4337125e+03 2.37e+01 6.08e+01  -1.0 1.84e+01    -  6.76e-03 6.86e-03h  1\n",
      "  84  4.6503179e+03 2.35e+01 6.02e+01  -1.0 1.84e+01    -  6.82e-03 1.03e-02h  1\n",
      "  85  4.8803528e+03 2.32e+01 5.95e+01  -1.0 1.83e+01    -  6.65e-03 1.09e-02h  1\n",
      "  86  5.0199039e+03 2.30e+01 5.91e+01  -1.0 1.75e+01    -  9.49e-03 6.61e-03h  1\n",
      "  87  5.1636453e+03 2.29e+01 5.87e+01  -1.0 1.85e+01    -  6.42e-03 6.78e-03h  1\n",
      "  88  5.3566794e+03 2.27e+01 5.82e+01  -1.0 1.90e+01    -  6.56e-03 9.07e-03h  1\n",
      "  89  5.4749710e+03 2.26e+01 5.78e+01  -1.0 1.91e+01    -  7.18e-03 5.55e-03h  1\n",
      "iter    objective    inf_pr   inf_du lg(mu)  ||d||  lg(rg) alpha_du alpha_pr  ls\n",
      "  90  5.5739197e+03 2.24e+01 5.76e+01  -1.0 1.90e+01    -  7.62e-03 4.63e-03h  1\n",
      "  91  5.7995874e+03 2.22e+01 5.70e+01  -1.0 1.91e+01    -  6.70e-03 1.06e-02h  1\n",
      "  92  6.0024475e+03 2.20e+01 5.64e+01  -1.0 1.88e+01    -  7.23e-03 9.47e-03h  1\n",
      "  93  6.2037948e+03 2.18e+01 5.59e+01  -1.0 1.88e+01    -  6.44e-03 9.41e-03h  1\n",
      "  94  6.3867331e+03 2.16e+01 5.54e+01  -1.0 1.89e+01    -  1.43e-02 8.59e-03h  1\n",
      "  95  6.6926391e+03 2.13e+01 1.28e+02  -1.0 1.84e+01    -  4.14e-03 1.43e-02h  1\n",
      "  96  6.7914751e+03 2.12e+01 1.27e+02  -1.0 1.75e+01    -  6.80e-03 4.63e-03h  1\n",
      "  97  7.0160467e+03 2.10e+01 1.26e+02  -1.0 1.75e+01    -  8.40e-03 1.05e-02h  1\n",
      "  98  7.1439139e+03 2.08e+01 1.25e+02  -1.0 1.69e+01    -  1.11e-02 5.97e-03h  1\n",
      "  99  7.3951829e+03 2.06e+01 1.24e+02  -1.0 1.68e+01    -  5.91e-03 1.17e-02h  1\n",
      "iter    objective    inf_pr   inf_du lg(mu)  ||d||  lg(rg) alpha_du alpha_pr  ls\n",
      " 100  7.5808360e+03 2.04e+01 1.23e+02  -1.0 1.65e+01    -  6.13e-03 8.65e-03h  1\n",
      " 101  7.7910284e+03 2.02e+01 1.22e+02  -1.0 1.64e+01    -  5.19e-03 9.81e-03h  1\n",
      " 102  7.9986963e+03 2.00e+01 1.20e+02  -1.0 1.60e+01    -  1.54e-02 9.72e-03h  1\n",
      " 103  8.1983056e+03 1.98e+01 1.19e+02  -1.0 1.54e+01    -  9.51e-03 9.27e-03h  1\n",
      " 104  8.4412910e+03 1.96e+01 1.18e+02  -1.0 1.54e+01    -  8.46e-03 1.13e-02h  1\n",
      " 105  8.7254449e+03 1.93e+01 1.16e+02  -1.0 1.52e+01    -  1.17e-02 1.32e-02h  1\n",
      " 106  8.8521071e+03 1.92e+01 1.16e+02  -1.0 1.48e+01    -  6.25e-03 5.90e-03h  1\n",
      " 107  9.2110595e+03 1.89e+01 1.14e+02  -1.0 1.47e+01    -  1.59e-02 1.68e-02h  1\n",
      " 108  9.3828539e+03 1.88e+01 1.13e+02  -1.0 1.40e+01    -  1.28e-02 8.03e-03h  1\n",
      " 109  9.6531935e+03 1.85e+01 1.11e+02  -1.0 1.39e+01    -  8.39e-03 1.26e-02h  1\n",
      "iter    objective    inf_pr   inf_du lg(mu)  ||d||  lg(rg) alpha_du alpha_pr  ls\n",
      " 110  9.8740682e+03 1.83e+01 1.10e+02  -1.0 1.38e+01    -  1.27e-02 1.04e-02h  1\n",
      " 111  1.0258992e+04 1.80e+01 1.08e+02  -1.0 1.35e+01    -  1.52e-02 1.81e-02h  1\n",
      " 112  1.0432932e+04 1.78e+01 1.07e+02  -1.0 1.30e+01    -  1.03e-02 8.14e-03h  1\n",
      " 113  1.0753076e+04 1.76e+01 1.06e+02  -1.0 1.30e+01    -  1.44e-02 1.50e-02h  1\n",
      " 114  1.0990536e+04 1.74e+01 1.05e+02  -1.0 1.29e+01    -  1.29e-02 1.11e-02h  1\n",
      " 115  1.1322584e+04 1.71e+01 1.03e+02  -1.0 1.28e+01    -  1.49e-02 1.55e-02h  1\n",
      " 116  1.1642235e+04 1.69e+01 1.01e+02  -1.0 1.26e+01    -  1.23e-02 1.50e-02h  1\n",
      " 117  1.1988448e+04 1.66e+01 9.97e+01  -1.0 1.25e+01    -  1.23e-02 1.63e-02h  1\n",
      " 118  1.2286821e+04 1.63e+01 9.83e+01  -1.0 1.24e+01    -  1.26e-02 1.41e-02h  1\n",
      " 119  1.2592179e+04 1.61e+01 9.69e+01  -1.0 1.23e+01    -  1.52e-02 1.44e-02h  1\n",
      "iter    objective    inf_pr   inf_du lg(mu)  ||d||  lg(rg) alpha_du alpha_pr  ls\n",
      " 120  1.2909646e+04 1.59e+01 9.54e+01  -1.0 1.22e+01    -  1.22e-02 1.50e-02h  1\n",
      " 121  1.3161794e+04 1.57e+01 9.43e+01  -1.0 1.20e+01    -  1.64e-02 1.20e-02h  1\n",
      " 122  1.3552590e+04 1.54e+01 9.26e+01  -1.0 1.18e+01    -  1.90e-02 1.85e-02h  1\n",
      " 123  1.3858376e+04 1.52e+01 9.12e+01  -1.0 1.16e+01    -  1.61e-02 1.46e-02h  1\n",
      " 124  1.4330860e+04 1.48e+01 8.91e+01  -1.0 1.16e+01    -  1.82e-02 2.25e-02h  1\n",
      " 125  1.4712506e+04 1.45e+01 8.75e+01  -1.0 1.14e+01    -  1.67e-02 1.82e-02h  1\n",
      " 126  1.5195726e+04 1.42e+01 8.55e+01  -1.0 1.12e+01    -  1.67e-02 2.31e-02h  1\n",
      " 127  1.5562220e+04 1.39e+01 8.40e+01  -1.0 1.10e+01    -  1.83e-02 1.75e-02h  1\n",
      " 128  1.5956183e+04 1.37e+01 8.24e+01  -1.0 1.09e+01    -  1.88e-02 1.88e-02h  1\n",
      " 129  1.6463819e+04 1.33e+01 8.04e+01  -1.0 1.08e+01    -  1.91e-02 2.43e-02h  1\n",
      "iter    objective    inf_pr   inf_du lg(mu)  ||d||  lg(rg) alpha_du alpha_pr  ls\n",
      " 130  1.6930227e+04 1.30e+01 7.86e+01  -1.0 1.05e+01    -  1.95e-02 2.25e-02h  1\n",
      " 131  1.7441033e+04 1.27e+01 7.66e+01  -1.0 1.02e+01    -  2.17e-02 2.48e-02h  1\n",
      " 132  1.7907583e+04 1.24e+01 7.49e+01  -1.0 9.87e+00    -  2.18e-02 2.27e-02h  1\n",
      " 133  1.8359296e+04 1.22e+01 7.32e+01  -1.0 9.69e+00    -  2.30e-02 2.21e-02h  1\n",
      " 134  1.8991555e+04 1.18e+01 7.10e+01  -1.0 9.63e+00    -  2.53e-02 3.11e-02h  1\n",
      " 135  1.9494440e+04 1.15e+01 6.92e+01  -1.0 9.40e+00    -  2.59e-02 2.49e-02h  1\n",
      " 136  2.0107528e+04 1.11e+01 6.71e+01  -1.0 9.33e+00    -  2.78e-02 3.04e-02h  1\n",
      " 137  2.0738295e+04 1.08e+01 6.50e+01  -1.0 9.03e+00    -  2.90e-02 3.15e-02h  1\n",
      " 138  2.1331111e+04 1.04e+01 6.30e+01  -1.0 8.71e+00    -  2.74e-02 2.99e-02h  1\n",
      " 139  2.2054836e+04 1.01e+01 6.07e+01  -1.0 8.49e+00    -  3.62e-02 3.69e-02h  1\n",
      "iter    objective    inf_pr   inf_du lg(mu)  ||d||  lg(rg) alpha_du alpha_pr  ls\n",
      " 140  2.2810007e+04 9.66e+00 5.83e+01  -1.0 8.09e+00    -  3.30e-02 3.88e-02h  1\n",
      " 141  2.3567938e+04 9.28e+00 5.60e+01  -1.0 7.66e+00    -  3.61e-02 3.95e-02h  1\n",
      " 142  2.4306401e+04 8.91e+00 5.38e+01  -1.0 7.35e+00    -  3.83e-02 3.91e-02h  1\n",
      " 143  2.5139244e+04 8.51e+00 5.14e+01  -1.0 7.20e+00    -  4.21e-02 4.49e-02h  1\n",
      " 144  2.5993494e+04 8.10e+00 4.90e+01  -1.0 6.97e+00    -  4.37e-02 4.70e-02h  1\n",
      " 145  2.6898590e+04 7.68e+00 4.65e+01  -1.0 6.78e+00    -  4.75e-02 5.10e-02h  1\n",
      " 146  2.7816424e+04 7.27e+00 4.40e+01  -1.0 6.48e+00    -  5.13e-02 5.32e-02h  1\n",
      " 147  2.8803344e+04 6.83e+00 4.14e+01  -1.0 6.19e+00    -  5.26e-02 5.89e-02h  1\n",
      " 148  2.9746000e+04 6.43e+00 3.90e+01  -1.0 5.74e+00    -  5.56e-02 5.82e-02h  1\n",
      " 149  3.0889306e+04 5.95e+00 3.62e+01  -1.0 5.32e+00    -  6.46e-02 7.32e-02h  1\n",
      "iter    objective    inf_pr   inf_du lg(mu)  ||d||  lg(rg) alpha_du alpha_pr  ls\n",
      " 150  3.2014459e+04 5.50e+00 3.34e+01  -1.0 4.95e+00    -  7.65e-02 7.56e-02h  1\n",
      " 151  3.3197152e+04 5.03e+00 3.06e+01  -1.0 4.58e+00    -  7.67e-02 8.36e-02h  1\n",
      " 152  3.4409365e+04 4.56e+00 2.78e+01  -1.0 4.17e+00    -  9.32e-02 9.12e-02h  1\n",
      " 153  3.5824124e+04 4.03e+00 2.46e+01  -1.0 3.78e+00    -  1.03e-01 1.14e-01h  1\n",
      " 154  3.7282089e+04 3.49e+00 2.15e+01  -1.0 3.42e+00    -  1.14e-01 1.29e-01h  1\n",
      " 155  3.8825993e+04 2.94e+00 1.82e+01  -1.0 2.98e+00    -  1.32e-01 1.53e-01h  1\n",
      " 156  4.0332285e+04 2.42e+00 1.50e+01  -1.0 2.51e+00    -  1.53e-01 1.72e-01h  1\n",
      " 157  4.1981560e+04 1.86e+00 1.87e+01  -1.0 2.10e+00    -  1.74e-01 2.22e-01h  1\n",
      " 158  4.3635917e+04 1.32e+00 1.51e+01  -1.0 1.64e+00    -  2.40e-01 2.78e-01h  1\n",
      " 159  4.5555425e+04 6.99e-01 2.71e+01  -1.0 1.18e+00    -  2.95e-01 4.36e-01h  1\n",
      "iter    objective    inf_pr   inf_du lg(mu)  ||d||  lg(rg) alpha_du alpha_pr  ls\n",
      " 160  4.7704212e+04 2.88e-02 3.98e+01  -1.0 6.44e-01    -  4.92e-01 8.38e-01h  1\n",
      " 161  4.8157123e+04 0.00e+00 1.25e+00  -1.0 2.57e-01    -  9.70e-01 1.00e+00h  1\n",
      " 162  4.8156702e+04 0.00e+00 1.00e-06  -1.0 3.01e-02    -  1.00e+00 1.00e+00f  1\n",
      " 163  4.7033346e+04 0.00e+00 8.09e+00  -2.5 3.16e-01    -  1.00e+00 7.24e-01f  1\n",
      " 164  4.6848430e+04 0.00e+00 1.86e+01  -2.5 1.08e-01    -  9.54e-01 6.13e-01f  1\n",
      " 165  4.6775096e+04 0.00e+00 1.62e+01  -2.5 6.22e-02    -  9.47e-01 6.58e-01f  1\n",
      " 166  4.6737515e+04 0.00e+00 2.71e+00  -2.5 3.22e-02    -  9.23e-01 1.00e+00f  1\n",
      " 167  4.6737572e+04 0.00e+00 3.41e-07  -2.5 5.09e-03    -  1.00e+00 1.00e+00f  1\n",
      " 168  4.6713197e+04 0.00e+00 3.13e+00  -3.8 2.29e-02    -  8.26e-01 7.02e-01f  1\n",
      " 169  4.6708298e+04 0.00e+00 6.34e+00  -3.8 1.00e-02    -  6.02e-01 4.82e-01f  1\n",
      "iter    objective    inf_pr   inf_du lg(mu)  ||d||  lg(rg) alpha_du alpha_pr  ls\n",
      " 170  4.6704233e+04 0.00e+00 2.66e+00  -3.8 1.12e-02    -  8.13e-01 7.72e-01f  1\n",
      " 171  4.6703040e+04 0.00e+00 1.90e-07  -3.8 6.83e-04    -  1.00e+00 1.00e+00f  1\n",
      " 172  4.6701622e+04 0.00e+00 1.09e+00  -5.7 1.86e-03    -  7.99e-01 7.45e-01f  1\n",
      " 173  4.6701265e+04 0.00e+00 1.19e+00  -5.7 4.67e-04    -  8.23e-01 7.35e-01f  1\n",
      " 174  4.6701138e+04 0.00e+00 4.83e-02  -5.7 6.59e-05    -  1.00e+00 9.90e-01f  1\n",
      " 175  4.6701137e+04 0.00e+00 1.59e-07  -5.7 1.36e-05    -  1.00e+00 1.00e+00f  1\n",
      " 176  4.6701114e+04 0.00e+00 1.26e-02  -8.6 1.17e-05    -  9.98e-01 9.73e-01f  1\n",
      " 177  4.6701114e+04 0.00e+00 4.17e+00  -8.6 6.29e-07    -  8.24e-01 5.57e-01f  1\n",
      " 178  4.6701114e+04 0.00e+00 2.85e+00  -8.6 3.77e-07    -  8.72e-01 7.51e-01f  1\n",
      " 179  4.6701114e+04 0.00e+00 2.12e-07  -8.6 7.49e-08    -  1.00e+00 1.00e+00f  1\n",
      "iter    objective    inf_pr   inf_du lg(mu)  ||d||  lg(rg) alpha_du alpha_pr  ls\n",
      " 180  4.6701114e+04 0.00e+00 2.44e-08  -8.6 2.38e-08    -  1.00e+00 1.00e+00h  1\n",
      " 181  4.6701114e+04 0.00e+00 2.40e-08  -9.0 1.13e-08    -  1.00e+00 1.00e+00f  1\n",
      " 182  4.6701114e+04 0.00e+00 8.62e-09  -9.0 4.90e-09    -  1.00e+00 1.00e+00h  1\n",
      "\n",
      "Number of Iterations....: 182\n",
      "\n",
      "                                   (scaled)                 (unscaled)\n",
      "Objective...............:   4.6701113584106308e+04    4.6701113584106308e+04\n",
      "Dual infeasibility......:   8.6165528045967221e-09    8.6165528045967221e-09\n",
      "Constraint violation....:   0.0000000000000000e+00    0.0000000000000000e+00\n",
      "Variable bound violation:   9.0499133571926147e-09    9.0499133571926147e-09\n",
      "Complementarity.........:   9.3218321608754577e-10    9.3218321608754577e-10\n",
      "Overall NLP error.......:   8.6165528045967221e-09    8.6165528045967221e-09\n",
      "\n",
      "\n",
      "Number of objective function evaluations             = 183\n",
      "Number of objective gradient evaluations             = 183\n",
      "Number of equality constraint evaluations            = 0\n",
      "Number of inequality constraint evaluations          = 183\n",
      "Number of equality constraint Jacobian evaluations   = 0\n",
      "Number of inequality constraint Jacobian evaluations = 1\n",
      "Number of Lagrangian Hessian evaluations             = 1\n",
      "Total seconds in IPOPT                               = 20.260\n",
      "\n",
      "EXIT: Optimal Solution Found.\n"
     ]
    }
   ],
   "source": [
    "JuMP.optimize!(L1Model)"
   ]
  },
  {
   "cell_type": "code",
   "execution_count": 12,
   "id": "97fc7ff1",
   "metadata": {
    "scrolled": false
   },
   "outputs": [],
   "source": [
    "x_s_L1 = zeros(6)\n",
    "for i=1:n\n",
    "    x_s_L1[i] = JuMP.value(x[i])\n",
    "end"
   ]
  },
  {
   "cell_type": "code",
   "execution_count": 13,
   "id": "4f6cd6ff",
   "metadata": {
    "scrolled": true
   },
   "outputs": [
    {
     "data": {
      "text/plain": [
       "6-element Vector{Float64}:\n",
       "   7.706455334614334\n",
       "  -0.00011989905615596281\n",
       " -13.973442687949372\n",
       "   4.992869207890839\n",
       "  -0.21538431281007367\n",
       "   0.10698753443977088"
      ]
     },
     "execution_count": 13,
     "metadata": {},
     "output_type": "execute_result"
    }
   ],
   "source": [
    "x_s_L1"
   ]
  },
  {
   "cell_type": "markdown",
   "id": "30165fc2",
   "metadata": {},
   "source": [
    "##### RSS $||Ax -b||_2^2$"
   ]
  },
  {
   "cell_type": "code",
   "execution_count": 14,
   "id": "be4dc32f",
   "metadata": {
    "scrolled": true
   },
   "outputs": [
    {
     "data": {
      "text/plain": [
       "285156.70993076125"
      ]
     },
     "execution_count": 14,
     "metadata": {},
     "output_type": "execute_result"
    }
   ],
   "source": [
    "RSS_S = norm(A_S*x_s_L1 - temp_train, 2)^2"
   ]
  },
  {
   "cell_type": "code",
   "execution_count": 15,
   "id": "089f2d40",
   "metadata": {},
   "outputs": [
    {
     "data": {
      "text/plain": [
       "831494.0770750116"
      ]
     },
     "execution_count": 15,
     "metadata": {},
     "output_type": "execute_result"
    }
   ],
   "source": [
    "RSS_S_test = norm(A_S_test*x_s_L1 - temp_test, 2)^2"
   ]
  },
  {
   "cell_type": "code",
   "execution_count": 16,
   "id": "2ee48ef6",
   "metadata": {},
   "outputs": [
    {
     "name": "stdout",
     "output_type": "stream",
     "text": [
      "22.30575015102951 et pour l'ensemble test 312.0052822045071"
     ]
    }
   ],
   "source": [
    "print(RSS_S/length(temp_train), \" et pour l'ensemble test \", RSS_S_test/length(temp_test))"
   ]
  },
  {
   "cell_type": "markdown",
   "id": "5e64c355",
   "metadata": {},
   "source": [
    "Cette valeur très élevé sur l'échantillon de test porte à indiquer que notre résultat a plutôt fitter aux données d'entrainement à la place d'être un bon estimateur."
   ]
  },
  {
   "cell_type": "markdown",
   "id": "33d5b41a",
   "metadata": {},
   "source": [
    "#### Solving Harmonic Model"
   ]
  },
  {
   "cell_type": "code",
   "execution_count": 17,
   "id": "30a9fc19",
   "metadata": {
    "scrolled": true
   },
   "outputs": [
    {
     "data": {
      "text/plain": [
       "12784-element Vector{VariableRef}:\n",
       " u[1]\n",
       " u[2]\n",
       " u[3]\n",
       " u[4]\n",
       " u[5]\n",
       " u[6]\n",
       " u[7]\n",
       " u[8]\n",
       " u[9]\n",
       " u[10]\n",
       " u[11]\n",
       " u[12]\n",
       " u[13]\n",
       " ⋮\n",
       " u[12773]\n",
       " u[12774]\n",
       " u[12775]\n",
       " u[12776]\n",
       " u[12777]\n",
       " u[12778]\n",
       " u[12779]\n",
       " u[12780]\n",
       " u[12781]\n",
       " u[12782]\n",
       " u[12783]\n",
       " u[12784]"
      ]
     },
     "execution_count": 17,
     "metadata": {},
     "output_type": "execute_result"
    }
   ],
   "source": [
    "n = size(A_H)[2]\n",
    "m = size(A_H)[1]\n",
    "L1ModelHarm = Model(with_optimizer(Ipopt.Optimizer))\n",
    "@variable(L1ModelHarm, x[i=1:n])\n",
    "@variable(L1ModelHarm, 0 <= u[i=1:m])"
   ]
  },
  {
   "cell_type": "code",
   "execution_count": 18,
   "id": "f452ba90",
   "metadata": {},
   "outputs": [],
   "source": [
    "@objective(L1ModelHarm, Min, sum(u[i] for i in 1:m));\n",
    "@constraint(L1ModelHarm, upper[i in 1:m], dot(A_H[i,:],x) - temp_train[i] <= u[i]);\n",
    "@constraint(L1ModelHarm, lower[i in 1:m], dot(A_H[i,:],x) - temp_train[i] >= -u[i]);"
   ]
  },
  {
   "cell_type": "code",
   "execution_count": 19,
   "id": "0bde303b",
   "metadata": {},
   "outputs": [
    {
     "data": {
      "text/plain": [
       "A JuMP Model\n",
       "Minimization problem with:\n",
       "Variables: 12792\n",
       "Objective function type: AffExpr\n",
       "`AffExpr`-in-`MathOptInterface.GreaterThan{Float64}`: 12784 constraints\n",
       "`AffExpr`-in-`MathOptInterface.LessThan{Float64}`: 12784 constraints\n",
       "`VariableRef`-in-`MathOptInterface.GreaterThan{Float64}`: 12784 constraints\n",
       "Model mode: AUTOMATIC\n",
       "CachingOptimizer state: EMPTY_OPTIMIZER\n",
       "Solver name: Ipopt\n",
       "Names registered in the model: lower, u, upper, x"
      ]
     },
     "execution_count": 19,
     "metadata": {},
     "output_type": "execute_result"
    }
   ],
   "source": [
    "L1ModelHarm"
   ]
  },
  {
   "cell_type": "code",
   "execution_count": 20,
   "id": "31a1ac7f",
   "metadata": {
    "scrolled": true
   },
   "outputs": [
    {
     "name": "stdout",
     "output_type": "stream",
     "text": [
      "This is Ipopt version 3.14.4, running with linear solver MUMPS 5.4.1.\n",
      "\n",
      "Number of nonzeros in equality constraint Jacobian...:        0\n",
      "Number of nonzeros in inequality constraint Jacobian.:   230112\n",
      "Number of nonzeros in Lagrangian Hessian.............:        0\n",
      "\n",
      "Total number of variables............................:    12792\n",
      "                     variables with only lower bounds:    12784\n",
      "                variables with lower and upper bounds:        0\n",
      "                     variables with only upper bounds:        0\n",
      "Total number of equality constraints.................:        0\n",
      "Total number of inequality constraints...............:    25568\n",
      "        inequality constraints with only lower bounds:    12784\n",
      "   inequality constraints with lower and upper bounds:        0\n",
      "        inequality constraints with only upper bounds:    12784\n",
      "\n",
      "iter    objective    inf_pr   inf_du lg(mu)  ||d||  lg(rg) alpha_du alpha_pr  ls\n",
      "   0  1.2783987e+02 3.03e+01 7.07e-01  -1.0 0.00e+00    -  0.00e+00 0.00e+00   0\n",
      "   1  1.3273270e+02 3.03e+01 8.15e-01  -1.0 1.60e+01    -  4.61e-03 3.91e-03f  1\n",
      "   2  1.3521389e+02 3.03e+01 8.12e-01  -1.0 1.59e+01    -  1.41e-03 1.73e-03f  1\n",
      "   3  1.3728516e+02 3.03e+01 1.98e+00  -1.0 1.86e+01    -  2.34e-03 1.36e-03f  1\n",
      "   4  1.4178578e+02 3.03e+01 1.82e+00  -1.0 2.03e+01    -  1.72e-03 2.72e-03f  1\n",
      "   5  1.4514792e+02 3.03e+01 1.82e+00  -1.0 2.16e+01    -  2.77e-03 1.81e-03f  1\n",
      "   6  1.4817729e+02 3.02e+01 1.81e+00  -1.0 2.31e+01    -  1.41e-03 1.38e-03f  1\n",
      "   7  1.5213245e+02 3.02e+01 1.81e+00  -1.0 2.38e+01    -  1.50e-03 1.63e-03f  1\n",
      "   8  1.5656148e+02 3.02e+01 1.81e+00  -1.0 2.43e+01    -  1.55e-03 1.63e-03f  1\n",
      "   9  1.6003228e+02 3.02e+01 1.81e+00  -1.0 2.46e+01    -  1.27e-03 1.15e-03f  1\n",
      "iter    objective    inf_pr   inf_du lg(mu)  ||d||  lg(rg) alpha_du alpha_pr  ls\n",
      "  10  1.6490561e+02 3.02e+01 1.80e+00  -1.0 2.43e+01    -  1.48e-03 1.53e-03f  1\n",
      "  11  1.7254312e+02 3.02e+01 1.80e+00  -1.0 2.44e+01    -  2.13e-03 2.25e-03f  1\n",
      "  12  1.7618076e+02 3.02e+01 2.50e+00  -1.0 2.45e+01    -  1.17e-03 9.77e-04f  1\n",
      "  13  1.8253195e+02 3.01e+01 3.26e+00  -1.0 2.52e+01    -  1.86e-03 1.64e-03f  1\n",
      "  14  1.9056268e+02 3.01e+01 3.27e+00  -1.0 2.44e+01    -  1.48e-03 1.94e-03f  1\n",
      "  15  1.9524147e+02 3.01e+01 5.88e+00  -1.0 2.45e+01    -  1.57e-03 1.07e-03f  1\n",
      "  16  2.0679050e+02 3.01e+01 5.86e+00  -1.0 2.48e+01    -  1.84e-03 2.55e-03f  1\n",
      "  17  2.1639151e+02 3.00e+01 5.85e+00  -1.0 2.35e+01    -  2.05e-03 1.99e-03f  1\n",
      "  18  2.2223855e+02 3.00e+01 1.06e+01  -1.0 2.32e+01    -  1.81e-03 1.15e-03f  1\n",
      "  19  2.3211692e+02 3.00e+01 1.06e+01  -1.0 2.23e+01    -  1.61e-03 1.86e-03f  1\n",
      "iter    objective    inf_pr   inf_du lg(mu)  ||d||  lg(rg) alpha_du alpha_pr  ls\n",
      "  20  2.4694781e+02 3.00e+01 1.05e+01  -1.0 2.25e+01    -  2.28e-03 2.68e-03f  1\n",
      "  21  2.5704556e+02 3.00e+01 1.12e+01  -1.0 2.30e+01    -  2.84e-03 1.74e-03f  1\n",
      "  22  2.6947632e+02 2.99e+01 1.12e+01  -1.0 2.25e+01    -  1.87e-03 2.03e-03f  1\n",
      "  23  2.7695290e+02 2.99e+01 1.51e+01  -1.0 2.26e+01    -  1.77e-03 1.17e-03f  1\n",
      "  24  2.9090904e+02 2.99e+01 1.19e+01  -1.0 2.29e+01    -  1.63e-03 2.12e-03f  1\n",
      "  25  3.0366800e+02 2.99e+01 1.19e+01  -1.0 2.32e+01    -  2.12e-03 1.88e-03f  1\n",
      "  26  3.2212498e+02 2.99e+01 1.54e+01  -1.0 2.41e+01    -  1.56e-03 2.62e-03f  1\n",
      "  27  3.2895734e+02 2.99e+01 1.62e+01  -1.0 2.48e+01    -  1.69e-03 9.38e-04f  1\n",
      "  28  3.4363948e+02 2.99e+01 1.62e+01  -1.0 2.45e+01    -  2.06e-03 1.97e-03f  1\n",
      "  29  3.5585400e+02 2.98e+01 1.62e+01  -1.0 2.43e+01    -  2.00e-03 1.58e-03f  1\n",
      "iter    objective    inf_pr   inf_du lg(mu)  ||d||  lg(rg) alpha_du alpha_pr  ls\n",
      "  30  3.7283806e+02 2.98e+01 1.61e+01  -1.0 2.45e+01    -  2.13e-03 2.13e-03f  1\n",
      "  31  3.8657149e+02 2.98e+01 1.61e+01  -1.0 2.43e+01    -  2.25e-03 1.67e-03f  1\n",
      "  32  4.0624025e+02 2.98e+01 1.61e+01  -1.0 2.37e+01    -  1.72e-03 2.31e-03f  1\n",
      "  33  4.1733950e+02 2.97e+01 1.93e+01  -1.0 2.30e+01    -  1.84e-03 1.26e-03f  1\n",
      "  34  4.4117410e+02 2.97e+01 1.79e+01  -1.0 2.24e+01    -  2.29e-03 2.62e-03h  1\n",
      "  35  4.5540134e+02 2.96e+01 1.79e+01  -1.0 2.28e+01    -  1.60e-03 1.49e-03h  1\n",
      "  36  4.7348847e+02 2.96e+01 1.79e+01  -1.0 2.33e+01    -  1.50e-03 1.85e-03h  1\n",
      "  37  4.9679953e+02 2.95e+01 1.79e+01  -1.0 2.24e+01    -  1.91e-03 2.32e-03h  1\n",
      "  38  5.1081422e+02 2.94e+01 1.78e+01  -1.0 2.25e+01    -  1.71e-03 1.36e-03h  1\n",
      "  39  5.3635425e+02 2.94e+01 1.78e+01  -1.0 2.21e+01    -  2.48e-03 2.42e-03h  1\n",
      "iter    objective    inf_pr   inf_du lg(mu)  ||d||  lg(rg) alpha_du alpha_pr  ls\n",
      "  40  5.6315738e+02 2.93e+01 1.77e+01  -1.0 2.29e+01    -  2.06e-03 2.45e-03h  1\n",
      "  41  5.9287130e+02 2.92e+01 1.77e+01  -1.0 2.30e+01    -  2.55e-03 2.64e-03h  1\n",
      "  42  6.1728226e+02 2.92e+01 1.77e+01  -1.0 2.37e+01    -  2.13e-03 2.10e-03h  1\n",
      "  43  6.4056172e+02 2.91e+01 1.76e+01  -1.0 2.40e+01    -  2.53e-03 1.94e-03h  1\n",
      "  44  6.7716132e+02 2.90e+01 1.76e+01  -1.0 2.38e+01    -  2.45e-03 2.98e-03h  1\n",
      "  45  7.0437321e+02 2.90e+01 1.75e+01  -1.0 2.25e+01    -  2.79e-03 2.14e-03h  1\n",
      "  46  7.4256532e+02 2.89e+01 1.75e+01  -1.0 2.17e+01    -  2.37e-03 2.94e-03h  1\n",
      "  47  7.7108983e+02 2.88e+01 1.74e+01  -1.0 2.17e+01    -  2.83e-03 2.13e-03h  1\n",
      "  48  8.1556701e+02 2.87e+01 1.74e+01  -1.0 2.18e+01    -  2.74e-03 3.27e-03h  1\n",
      "  49  8.5678647e+02 2.86e+01 1.73e+01  -1.0 2.20e+01    -  3.14e-03 2.97e-03h  1\n",
      "iter    objective    inf_pr   inf_du lg(mu)  ||d||  lg(rg) alpha_du alpha_pr  ls\n",
      "  50  9.0747136e+02 2.85e+01 1.73e+01  -1.0 2.23e+01    -  3.58e-03 3.55e-03h  1\n",
      "  51  9.5717933e+02 2.84e+01 1.72e+01  -1.0 2.17e+01    -  3.06e-03 3.38e-03h  1\n",
      "  52  1.0098003e+03 2.83e+01 1.72e+01  -1.0 2.12e+01    -  3.91e-03 3.50e-03h  1\n",
      "  53  1.0624595e+03 2.82e+01 1.71e+01  -1.0 2.13e+01    -  3.04e-03 3.41e-03h  1\n",
      "  54  1.1139230e+03 2.81e+01 1.70e+01  -1.0 2.14e+01    -  3.75e-03 3.26e-03h  1\n",
      "  55  1.1811346e+03 2.80e+01 1.70e+01  -1.0 2.23e+01    -  3.91e-03 4.19e-03h  1\n",
      "  56  1.2485440e+03 2.79e+01 1.69e+01  -1.0 2.24e+01    -  3.86e-03 4.11e-03h  1\n",
      "  57  1.3211707e+03 2.78e+01 1.68e+01  -1.0 2.24e+01    -  3.97e-03 4.36e-03h  1\n",
      "  58  1.3867050e+03 2.77e+01 1.68e+01  -1.0 2.23e+01    -  3.67e-03 3.88e-03h  1\n",
      "  59  1.4716811e+03 2.75e+01 1.67e+01  -1.0 2.21e+01    -  5.13e-03 4.97e-03h  1\n",
      "iter    objective    inf_pr   inf_du lg(mu)  ||d||  lg(rg) alpha_du alpha_pr  ls\n",
      "  60  1.5664533e+03 2.74e+01 1.66e+01  -1.0 2.15e+01    -  4.68e-03 5.44e-03h  1\n",
      "  61  1.6477861e+03 2.73e+01 1.65e+01  -1.0 2.08e+01    -  5.35e-03 4.58e-03h  1\n",
      "  62  1.7263920e+03 2.71e+01 1.64e+01  -1.0 2.06e+01    -  3.66e-03 4.34e-03h  1\n",
      "  63  1.8280277e+03 2.70e+01 4.22e+01  -1.0 2.07e+01    -  3.15e-03 5.54e-03h  1\n",
      "  64  1.9379993e+03 2.68e+01 4.19e+01  -1.0 2.08e+01    -  6.71e-03 5.94e-03h  1\n",
      "  65  2.0002233e+03 2.67e+01 4.18e+01  -1.0 2.07e+01    -  5.50e-03 3.31e-03h  1\n",
      "  66  2.1269395e+03 2.66e+01 4.15e+01  -1.0 2.08e+01    -  4.93e-03 6.66e-03h  1\n",
      "  67  2.2631285e+03 2.64e+01 4.12e+01  -1.0 2.09e+01    -  6.94e-03 7.10e-03h  1\n",
      "  68  2.4053545e+03 2.62e+01 4.09e+01  -1.0 2.06e+01    -  6.07e-03 7.31e-03h  1\n",
      "  69  2.4897625e+03 2.61e+01 4.07e+01  -1.0 2.02e+01    -  6.75e-03 4.31e-03h  1\n",
      "iter    objective    inf_pr   inf_du lg(mu)  ||d||  lg(rg) alpha_du alpha_pr  ls\n",
      "  70  2.6377773e+03 2.59e+01 4.04e+01  -1.0 2.03e+01    -  6.67e-03 7.51e-03h  1\n",
      "  71  2.7171729e+03 2.58e+01 4.03e+01  -1.0 1.96e+01    -  6.94e-03 3.98e-03h  1\n",
      "  72  2.8650693e+03 2.56e+01 4.00e+01  -1.0 1.97e+01    -  7.25e-03 7.38e-03h  1\n",
      "  73  3.0558632e+03 2.53e+01 3.96e+01  -1.0 1.98e+01    -  6.87e-03 9.45e-03h  1\n",
      "  74  3.1870170e+03 2.52e+01 4.11e+01  -1.0 1.90e+01    -  4.17e-03 6.40e-03h  1\n",
      "  75  3.3102112e+03 2.50e+01 4.08e+01  -1.0 1.87e+01    -  6.05e-03 5.99e-03h  1\n",
      "  76  3.4433461e+03 2.49e+01 4.05e+01  -1.0 1.91e+01    -  5.04e-03 6.48e-03h  1\n",
      "  77  3.5970039e+03 2.47e+01 4.02e+01  -1.0 1.93e+01    -  6.14e-03 7.45e-03h  1\n",
      "  78  3.7514456e+03 2.45e+01 3.99e+01  -1.0 1.92e+01    -  7.44e-03 7.44e-03h  1\n",
      "  79  3.9177406e+03 2.43e+01 3.96e+01  -1.0 1.90e+01    -  6.34e-03 7.98e-03h  1\n",
      "iter    objective    inf_pr   inf_du lg(mu)  ||d||  lg(rg) alpha_du alpha_pr  ls\n",
      "  80  4.0370789e+03 2.42e+01 3.94e+01  -1.0 1.87e+01    -  6.11e-03 5.72e-03h  1\n",
      "  81  4.1779951e+03 2.40e+01 3.91e+01  -1.0 1.87e+01    -  8.60e-03 6.75e-03h  1\n",
      "  82  4.3910467e+03 2.37e+01 3.87e+01  -1.0 1.88e+01    -  1.15e-02 1.02e-02h  1\n",
      "  83  4.5520121e+03 2.36e+01 3.84e+01  -1.0 1.82e+01    -  6.81e-03 7.65e-03h  1\n",
      "  84  4.7473976e+03 2.33e+01 3.81e+01  -1.0 1.83e+01    -  7.30e-03 9.27e-03h  1\n",
      "  85  4.8835393e+03 2.32e+01 3.78e+01  -1.0 1.80e+01    -  8.10e-03 6.45e-03h  1\n",
      "  86  5.1146546e+03 2.29e+01 3.74e+01  -1.0 1.83e+01    -  8.68e-03 1.09e-02h  1\n",
      "  87  5.3410225e+03 2.27e+01 5.24e+01  -1.0 1.90e+01    -  5.11e-03 1.07e-02h  1\n",
      "  88  5.5137222e+03 2.25e+01 5.20e+01  -1.0 1.91e+01    -  7.46e-03 8.14e-03h  1\n",
      "  89  5.5651979e+03 2.24e+01 5.19e+01  -1.0 1.91e+01    -  3.90e-03 2.41e-03h  1\n",
      "iter    objective    inf_pr   inf_du lg(mu)  ||d||  lg(rg) alpha_du alpha_pr  ls\n",
      "  90  5.7481668e+03 2.23e+01 5.14e+01  -1.0 1.92e+01    -  7.27e-03 8.60e-03h  1\n",
      "  91  5.9020702e+03 2.21e+01 5.11e+01  -1.0 1.91e+01    -  1.27e-02 7.23e-03h  1\n",
      "  92  6.1760378e+03 2.18e+01 5.04e+01  -1.0 1.89e+01    -  6.11e-03 1.28e-02h  1\n",
      "  93  6.3363339e+03 2.16e+01 5.00e+01  -1.0 1.82e+01    -  1.24e-02 7.50e-03h  1\n",
      "  94  6.4578891e+03 2.15e+01 4.97e+01  -1.0 1.81e+01    -  5.77e-03 5.67e-03h  1\n",
      "  95  6.8735194e+03 2.11e+01 4.88e+01  -1.0 1.81e+01    -  1.49e-02 1.94e-02h  1\n",
      "  96  7.0999093e+03 2.09e+01 4.82e+01  -1.0 1.72e+01    -  9.90e-03 1.06e-02h  1\n",
      "  97  7.3234882e+03 2.07e+01 4.77e+01  -1.0 1.68e+01    -  7.50e-03 1.04e-02h  1\n",
      "  98  7.4485035e+03 2.05e+01 4.75e+01  -1.0 1.62e+01    -  1.02e-02 5.82e-03h  1\n",
      "  99  7.6304600e+03 2.04e+01 4.71e+01  -1.0 1.61e+01    -  7.10e-03 8.46e-03h  1\n",
      "iter    objective    inf_pr   inf_du lg(mu)  ||d||  lg(rg) alpha_du alpha_pr  ls\n",
      " 100  7.9319642e+03 2.01e+01 4.64e+01  -1.0 1.58e+01    -  7.86e-03 1.40e-02h  1\n",
      " 101  8.1715855e+03 1.99e+01 4.59e+01  -1.0 1.53e+01    -  1.09e-02 1.12e-02h  1\n",
      " 102  8.3991921e+03 1.96e+01 4.54e+01  -1.0 1.51e+01    -  9.31e-03 1.06e-02h  1\n",
      " 103  8.6036195e+03 1.95e+01 4.50e+01  -1.0 1.50e+01    -  1.36e-02 9.54e-03h  1\n",
      " 104  8.9273091e+03 1.92e+01 4.43e+01  -1.0 1.49e+01    -  9.09e-03 1.51e-02h  1\n",
      " 105  9.0858448e+03 1.90e+01 4.39e+01  -1.0 1.43e+01    -  9.09e-03 7.40e-03h  1\n",
      " 106  9.4182265e+03 1.87e+01 4.33e+01  -1.0 1.43e+01    -  7.78e-03 1.55e-02h  1\n",
      " 107  9.5561107e+03 1.86e+01 4.30e+01  -1.0 1.36e+01    -  7.38e-03 6.46e-03h  1\n",
      " 108  9.7841450e+03 1.84e+01 4.25e+01  -1.0 1.34e+01    -  9.06e-03 1.07e-02h  1\n",
      " 109  1.0036557e+04 1.82e+01 4.20e+01  -1.0 1.33e+01    -  9.97e-03 1.19e-02h  1\n",
      "iter    objective    inf_pr   inf_du lg(mu)  ||d||  lg(rg) alpha_du alpha_pr  ls\n",
      " 110  1.0291627e+04 1.80e+01 4.15e+01  -1.0 1.30e+01    -  1.16e-02 1.20e-02h  1\n",
      " 111  1.0490267e+04 1.78e+01 4.11e+01  -1.0 1.30e+01    -  1.03e-02 9.34e-03h  1\n",
      " 112  1.0785276e+04 1.75e+01 4.05e+01  -1.0 1.29e+01    -  1.25e-02 1.39e-02h  1\n",
      " 113  1.1077583e+04 1.73e+01 4.00e+01  -1.0 1.28e+01    -  8.89e-03 1.38e-02h  1\n",
      " 114  1.1386734e+04 1.70e+01 3.94e+01  -1.0 1.26e+01    -  1.10e-02 1.46e-02h  1\n",
      " 115  1.1578963e+04 1.69e+01 3.90e+01  -1.0 1.24e+01    -  1.11e-02 9.09e-03h  1\n",
      " 116  1.1853555e+04 1.67e+01 3.85e+01  -1.0 1.24e+01    -  1.19e-02 1.30e-02h  1\n",
      " 117  1.2177508e+04 1.64e+01 3.79e+01  -1.0 1.23e+01    -  1.21e-02 1.54e-02h  1\n",
      " 118  1.2466219e+04 1.62e+01 3.74e+01  -1.0 1.22e+01    -  1.95e-02 1.37e-02h  1\n",
      " 119  1.2813942e+04 1.59e+01 3.68e+01  -1.0 1.20e+01    -  1.39e-02 1.65e-02h  1\n",
      "iter    objective    inf_pr   inf_du lg(mu)  ||d||  lg(rg) alpha_du alpha_pr  ls\n",
      " 120  1.3100453e+04 1.57e+01 3.63e+01  -1.0 1.19e+01    -  1.67e-02 1.36e-02h  1\n",
      " 121  1.3483941e+04 1.54e+01 3.56e+01  -1.0 1.18e+01    -  1.26e-02 1.82e-02h  1\n",
      " 122  1.3765282e+04 1.52e+01 3.52e+01  -1.0 1.17e+01    -  1.25e-02 1.34e-02h  1\n",
      " 123  1.4116861e+04 1.49e+01 3.46e+01  -1.0 1.17e+01    -  1.43e-02 1.67e-02h  1\n",
      " 124  1.4549830e+04 1.46e+01 3.38e+01  -1.0 1.15e+01    -  1.64e-02 2.06e-02h  1\n",
      " 125  1.4925873e+04 1.44e+01 3.32e+01  -1.0 1.11e+01    -  1.63e-02 1.80e-02h  1\n",
      " 126  1.5298871e+04 1.41e+01 3.26e+01  -1.0 1.09e+01    -  1.68e-02 1.78e-02h  1\n",
      " 127  1.5756013e+04 1.38e+01 3.19e+01  -1.0 1.08e+01    -  1.86e-02 2.19e-02h  1\n",
      " 128  1.6171613e+04 1.35e+01 3.13e+01  -1.0 1.05e+01    -  1.80e-02 2.00e-02h  1\n",
      " 129  1.6581466e+04 1.33e+01 3.07e+01  -1.0 1.04e+01    -  2.01e-02 1.98e-02h  1\n",
      "iter    objective    inf_pr   inf_du lg(mu)  ||d||  lg(rg) alpha_du alpha_pr  ls\n",
      " 130  1.7068686e+04 1.29e+01 2.99e+01  -1.0 1.03e+01    -  2.13e-02 2.36e-02h  1\n",
      " 131  1.7498655e+04 1.27e+01 2.93e+01  -1.0 1.02e+01    -  2.20e-02 2.09e-02h  1\n",
      " 132  1.8042398e+04 1.23e+01 2.85e+01  -1.0 1.01e+01    -  2.53e-02 2.65e-02h  1\n",
      " 133  1.8584374e+04 1.20e+01 2.78e+01  -1.0 9.85e+00    -  2.29e-02 2.65e-02h  1\n",
      " 134  1.9073003e+04 1.17e+01 2.71e+01  -1.0 9.64e+00    -  2.47e-02 2.41e-02h  1\n",
      " 135  1.9633627e+04 1.14e+01 2.64e+01  -1.0 9.38e+00    -  2.82e-02 2.78e-02h  1\n",
      " 136  2.0276955e+04 1.10e+01 2.55e+01  -1.0 9.09e+00    -  2.83e-02 3.20e-02h  1\n",
      " 137  2.0931747e+04 1.06e+01 2.47e+01  -1.0 8.86e+00    -  2.92e-02 3.28e-02h  1\n",
      " 138  2.1563681e+04 1.03e+01 2.39e+01  -1.0 8.46e+00    -  2.88e-02 3.20e-02h  1\n",
      " 139  2.2224190e+04 9.95e+00 2.31e+01  -1.0 8.29e+00    -  3.15e-02 3.38e-02h  1\n",
      "iter    objective    inf_pr   inf_du lg(mu)  ||d||  lg(rg) alpha_du alpha_pr  ls\n",
      " 140  2.2923188e+04 9.59e+00 2.22e+01  -1.0 8.02e+00    -  3.61e-02 3.62e-02h  1\n",
      " 141  2.3652720e+04 9.22e+00 2.14e+01  -1.0 7.70e+00    -  3.75e-02 3.83e-02h  1\n",
      " 142  2.4468166e+04 8.81e+00 2.04e+01  -1.0 7.43e+00    -  3.66e-02 4.34e-02h  1\n",
      " 143  2.5254227e+04 8.43e+00 1.96e+01  -1.0 7.05e+00    -  4.42e-02 4.27e-02h  1\n",
      " 144  2.6181332e+04 7.99e+00 1.86e+01  -1.0 6.78e+00    -  4.77e-02 5.13e-02h  1\n",
      " 145  2.7116051e+04 7.56e+00 1.76e+01  -1.0 6.59e+00    -  5.09e-02 5.31e-02h  1\n",
      " 146  2.8065627e+04 7.14e+00 1.66e+01  -1.0 6.27e+00    -  5.27e-02 5.54e-02h  1\n",
      " 147  2.9047922e+04 6.71e+00 1.56e+01  -1.0 5.95e+00    -  6.12e-02 5.92e-02h  1\n",
      " 148  3.0180376e+04 6.23e+00 1.45e+01  -1.0 5.49e+00    -  6.34e-02 7.07e-02h  1\n",
      " 149  3.1286171e+04 5.77e+00 1.35e+01  -1.0 5.16e+00    -  6.86e-02 7.23e-02h  1\n",
      "iter    objective    inf_pr   inf_du lg(mu)  ||d||  lg(rg) alpha_du alpha_pr  ls\n",
      " 150  3.2539347e+04 5.27e+00 1.23e+01  -1.0 4.74e+00    -  7.53e-02 8.60e-02h  1\n",
      " 151  3.3688282e+04 4.82e+00 1.13e+01  -1.0 4.36e+00    -  8.25e-02 8.39e-02h  1\n",
      " 152  3.5065364e+04 4.29e+00 1.01e+01  -1.0 4.04e+00    -  9.70e-02 1.07e-01h  1\n",
      " 153  3.6412400e+04 3.79e+00 8.90e+00  -1.0 3.53e+00    -  1.06e-01 1.14e-01h  1\n",
      " 154  3.7942794e+04 3.23e+00 1.41e+01  -1.0 3.12e+00    -  1.19e-01 1.42e-01h  1\n",
      " 155  3.9487034e+04 2.69e+00 1.81e+01  -1.0 2.78e+00    -  1.31e-01 1.63e-01h  1\n",
      " 156  4.0963836e+04 2.19e+00 1.59e+01  -1.0 2.35e+00    -  1.54e-01 1.81e-01h  1\n",
      " 157  4.2559255e+04 1.65e+00 1.23e+01  -1.0 1.92e+00    -  2.07e-01 2.34e-01h  1\n",
      " 158  4.4259577e+04 1.10e+00 2.05e+01  -1.0 1.44e+00    -  2.36e-01 3.17e-01h  1\n",
      " 159  4.6096129e+04 5.11e-01 3.04e+01  -1.0 9.71e-01    -  3.28e-01 4.88e-01h  1\n",
      "iter    objective    inf_pr   inf_du lg(mu)  ||d||  lg(rg) alpha_du alpha_pr  ls\n",
      " 160  4.8083066e+04 0.00e+00 3.64e+01  -1.0 4.89e-01    -  5.70e-01 1.00e+00h  1\n",
      " 161  4.8103726e+04 0.00e+00 1.00e-06  -1.0 1.72e-01    -  1.00e+00 1.00e+00f  1\n",
      " 162  4.6965817e+04 0.00e+00 7.36e+00  -2.5 3.08e-01    -  1.00e+00 7.35e-01f  1\n",
      " 163  4.6781640e+04 0.00e+00 1.45e+01  -2.5 7.94e-02    -  9.65e-01 6.45e-01f  1\n",
      " 164  4.6715501e+04 0.00e+00 1.14e+01  -2.5 4.46e-02    -  8.68e-01 6.85e-01f  1\n",
      " 165  4.6685410e+04 0.00e+00 2.61e-07  -2.5 2.01e-02    -  1.00e+00 1.00e+00f  1\n",
      " 166  4.6670434e+04 0.00e+00 1.52e+01  -3.8 2.13e-02    -  8.36e-01 4.32e-01f  1\n",
      " 167  4.6661184e+04 0.00e+00 8.89e+00  -3.8 1.76e-02    -  6.01e-01 4.74e-01f  1\n",
      " 168  4.6655740e+04 0.00e+00 4.91e+00  -3.8 1.13e-02    -  6.88e-01 5.31e-01f  1\n",
      " 169  4.6651460e+04 0.00e+00 1.80e+00  -3.8 3.29e-03    -  9.51e-01 8.91e-01f  1\n",
      "iter    objective    inf_pr   inf_du lg(mu)  ||d||  lg(rg) alpha_du alpha_pr  ls\n",
      " 170  4.6650934e+04 0.00e+00 2.16e-07  -3.8 2.44e-03    -  1.00e+00 1.00e+00f  1\n",
      " 171  4.6649740e+04 0.00e+00 2.73e+00  -5.7 2.49e-03    -  8.35e-01 6.27e-01f  1\n",
      " 172  4.6649203e+04 0.00e+00 1.05e+00  -5.7 2.20e-03    -  6.80e-01 7.57e-01f  1\n",
      " 173  4.6649042e+04 0.00e+00 5.69e-01  -5.7 3.07e-04    -  9.92e-01 9.34e-01f  1\n",
      " 174  4.6649031e+04 0.00e+00 2.08e-07  -5.7 1.15e-04    -  1.00e+00 1.00e+00f  1\n",
      " 175  4.6649008e+04 0.00e+00 1.40e-02  -8.6 3.69e-05    -  9.84e-01 9.72e-01f  1\n",
      " 176  4.6649008e+04 0.00e+00 3.61e+00  -8.6 1.62e-06    -  7.24e-01 6.23e-01f  1\n",
      " 177  4.6649007e+04 0.00e+00 7.58e-01  -8.6 4.87e-07    -  9.09e-01 8.02e-01f  1\n",
      " 178  4.6649007e+04 0.00e+00 1.46e-09  -8.6 1.05e-07    -  1.00e+00 1.00e+00f  1\n",
      "\n",
      "Number of Iterations....: 178\n",
      "\n",
      "                                   (scaled)                 (unscaled)\n",
      "Objective...............:   4.6649007278245219e+04    4.6649007278245219e+04\n",
      "Dual infeasibility......:   1.4642864698544145e-09    1.4642864698544145e-09\n",
      "Constraint violation....:   0.0000000000000000e+00    0.0000000000000000e+00\n",
      "Variable bound violation:   6.5910337246939189e-09    6.5910337246939189e-09\n",
      "Complementarity.........:   3.7449855261713677e-09    3.7449855261713677e-09\n",
      "Overall NLP error.......:   3.7449855261713677e-09    3.7449855261713677e-09\n",
      "\n",
      "\n",
      "Number of objective function evaluations             = 179\n",
      "Number of objective gradient evaluations             = 179\n",
      "Number of equality constraint evaluations            = 0\n",
      "Number of inequality constraint evaluations          = 179\n",
      "Number of equality constraint Jacobian evaluations   = 0\n",
      "Number of inequality constraint Jacobian evaluations = 1\n",
      "Number of Lagrangian Hessian evaluations             = 1\n",
      "Total seconds in IPOPT                               = 20.291\n",
      "\n",
      "EXIT: Optimal Solution Found.\n"
     ]
    }
   ],
   "source": [
    "JuMP.optimize!(L1ModelHarm)"
   ]
  },
  {
   "cell_type": "code",
   "execution_count": 21,
   "id": "8f1f802c",
   "metadata": {
    "scrolled": true
   },
   "outputs": [],
   "source": [
    "x_h_L1 = zeros(8)\n",
    "for i=1:n\n",
    "    x_h_L1[i] = JuMP.value(x[i])\n",
    "end"
   ]
  },
  {
   "cell_type": "code",
   "execution_count": 22,
   "id": "9929a867",
   "metadata": {
    "scrolled": true
   },
   "outputs": [
    {
     "data": {
      "text/plain": [
       "8-element Vector{Float64}:\n",
       "   7.697182237040394\n",
       "  -0.00011882296985240777\n",
       " -14.021244052161574\n",
       "   5.006625564327596\n",
       "  -0.21660721653954357\n",
       "   0.10937587871700766\n",
       "   0.004647117761364659\n",
       "  -0.3132647957209752"
      ]
     },
     "execution_count": 22,
     "metadata": {},
     "output_type": "execute_result"
    }
   ],
   "source": [
    "x_h_L1"
   ]
  },
  {
   "cell_type": "markdown",
   "id": "b364e296",
   "metadata": {},
   "source": [
    "##### RSS $||Ax -b||_2^2$"
   ]
  },
  {
   "cell_type": "code",
   "execution_count": 23,
   "id": "1815a6b4",
   "metadata": {},
   "outputs": [
    {
     "data": {
      "text/plain": [
       "284263.3477708044"
      ]
     },
     "execution_count": 23,
     "metadata": {},
     "output_type": "execute_result"
    }
   ],
   "source": [
    "RSS_H = norm(A_H*x_h_L1 - temp_train,2 )^2"
   ]
  },
  {
   "cell_type": "code",
   "execution_count": 24,
   "id": "c8bf3631",
   "metadata": {},
   "outputs": [
    {
     "data": {
      "text/plain": [
       "832869.5030884116"
      ]
     },
     "execution_count": 24,
     "metadata": {},
     "output_type": "execute_result"
    }
   ],
   "source": [
    "RSS_H_test = norm(A_H_test*x_h_L1 - temp_test,2 )^2"
   ]
  },
  {
   "cell_type": "code",
   "execution_count": 25,
   "id": "17db043b",
   "metadata": {},
   "outputs": [
    {
     "name": "stdout",
     "output_type": "stream",
     "text": [
      "22.235868880694966 et pour l'ensemble test 312.5213895266085"
     ]
    }
   ],
   "source": [
    "print(RSS_H/length(temp_train), \" et pour l'ensemble test \", RSS_H_test/length(temp_test))"
   ]
  },
  {
   "cell_type": "markdown",
   "id": "a3cde769",
   "metadata": {},
   "source": [
    "#### Comparaison du modèle Simple et du modèle Harmonique"
   ]
  },
  {
   "cell_type": "code",
   "execution_count": 100,
   "id": "b575d35f",
   "metadata": {},
   "outputs": [
    {
     "data": {
      "text/plain": [
       "true"
      ]
     },
     "execution_count": 100,
     "metadata": {},
     "output_type": "execute_result"
    }
   ],
   "source": [
    "RSS_H < RSS_S"
   ]
  },
  {
   "cell_type": "code",
   "execution_count": 101,
   "id": "36519bf3",
   "metadata": {},
   "outputs": [
    {
     "data": {
      "text/plain": [
       "false"
      ]
     },
     "execution_count": 101,
     "metadata": {},
     "output_type": "execute_result"
    }
   ],
   "source": [
    "RSS_H_test < RSS_S_test"
   ]
  },
  {
   "cell_type": "code",
   "execution_count": 102,
   "id": "8bb98d5d",
   "metadata": {},
   "outputs": [
    {
     "data": {
      "text/plain": [
       "0.1651430396118219"
      ]
     },
     "execution_count": 102,
     "metadata": {},
     "output_type": "execute_result"
    }
   ],
   "source": [
    "(RSS_H_test- RSS_S_test)*100/RSS_H_test # pourcentage d'écart"
   ]
  },
  {
   "cell_type": "markdown",
   "id": "e6bb3d2a",
   "metadata": {},
   "source": [
    "Le modèle harmonique est plus performant sur les données **test** mais est autant performant sur les données **train**."
   ]
  },
  {
   "cell_type": "markdown",
   "id": "449ef031",
   "metadata": {},
   "source": [
    "### Plotting Results"
   ]
  },
  {
   "cell_type": "code",
   "execution_count": 103,
   "id": "9a09613c",
   "metadata": {
    "scrolled": true
   },
   "outputs": [
    {
     "data": {
      "text/plain": [
       "15449-element Vector{Date}:\n",
       " 1980-01-01\n",
       " 1980-01-02\n",
       " 1980-01-03\n",
       " 1980-01-04\n",
       " 1980-01-05\n",
       " 1980-01-06\n",
       " 1980-01-07\n",
       " 1980-01-08\n",
       " 1980-01-09\n",
       " 1980-01-10\n",
       " 1980-01-11\n",
       " 1980-01-12\n",
       " 1980-01-13\n",
       " ⋮\n",
       " 2022-04-07\n",
       " 2022-04-08\n",
       " 2022-04-09\n",
       " 2022-04-10\n",
       " 2022-04-11\n",
       " 2022-04-12\n",
       " 2022-04-13\n",
       " 2022-04-14\n",
       " 2022-04-15\n",
       " 2022-04-16\n",
       " 2022-04-17\n",
       " 2022-04-18"
      ]
     },
     "execution_count": 103,
     "metadata": {},
     "output_type": "execute_result"
    }
   ],
   "source": [
    "pred_S = vcat(A_S*x_s, A_S_test*x_s_L1)\n",
    "pred_H = vcat(A_H*x_h, A_H_test*x_h_L1)\n",
    "temp = vcat(temp_train, temp_test)\n",
    "dates  = reverse(vcat(test_df.date, train_df.date))"
   ]
  },
  {
   "cell_type": "code",
   "execution_count": 105,
   "id": "61e16fce",
   "metadata": {},
   "outputs": [],
   "source": [
    "using Plots\n",
    "gr()\n",
    "scatter(dates, temp, label=\"Température de Montréal\", markersize=1, markercolor=\"blue\")\n",
    "p = plot!(dates, [pred_S pred_H], title=\"Prédiction des Modèles pour Montréal avec modèle L1\", label=[\"Modèle Simple\" \"Modèle avec Harmoniques\"], linecolor=[\"red\" \"cyan\"], legend=:bottomright)\n",
    "xlabel!(\"Time t\")\n",
    "plot!(size=(1000,400))\n",
    "savefig(\"Results/Two_Models_Montreal_L1.png\")"
   ]
  }
 ],
 "metadata": {
  "kernelspec": {
   "display_name": "Julia 1.7.1",
   "language": "julia",
   "name": "julia-1.7"
  },
  "language_info": {
   "file_extension": ".jl",
   "mimetype": "application/julia",
   "name": "julia",
   "version": "1.7.1"
  }
 },
 "nbformat": 4,
 "nbformat_minor": 5
}
