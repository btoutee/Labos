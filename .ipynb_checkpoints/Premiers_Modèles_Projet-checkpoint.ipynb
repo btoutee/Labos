{
 "cells": [
  {
   "cell_type": "code",
   "execution_count": 1,
   "id": "89d2cb94",
   "metadata": {},
   "outputs": [
    {
     "name": "stderr",
     "output_type": "stream",
     "text": [
      "\u001b[32m\u001b[1m  Activating\u001b[22m\u001b[39m project at `D:\\Documents\\School Projects\\MTH8408\\Projet`\n"
     ]
    }
   ],
   "source": [
    "using Pkg; Pkg.activate(\".\")"
   ]
  },
  {
   "cell_type": "code",
   "execution_count": 2,
   "id": "77d54a7b",
   "metadata": {},
   "outputs": [
    {
     "name": "stderr",
     "output_type": "stream",
     "text": [
      "\u001b[32m\u001b[1m   Installed\u001b[22m\u001b[39m MatrixMarket ──────── v0.3.1\n",
      "\u001b[32m\u001b[1m   Installed\u001b[22m\u001b[39m CEnum ─────────────── v0.4.1\n",
      "\u001b[32m\u001b[1m   Installed\u001b[22m\u001b[39m Unitful ───────────── v1.11.0\n",
      "\u001b[32m\u001b[1m   Installed\u001b[22m\u001b[39m MarchingCubes ─────── v0.1.2\n",
      "\u001b[32m\u001b[1m   Installed\u001b[22m\u001b[39m SparseMatricesCOO ─── v0.1.0\n",
      "\u001b[32m\u001b[1m   Installed\u001b[22m\u001b[39m LLSModels ─────────── v0.3.3\n",
      "\u001b[32m\u001b[1m   Installed\u001b[22m\u001b[39m QuadraticModels ───── v0.7.2\n",
      "\u001b[32m\u001b[1m   Installed\u001b[22m\u001b[39m FreeType ──────────── v4.0.0\n",
      "\u001b[32m\u001b[1m   Installed\u001b[22m\u001b[39m TensorCore ────────── v0.1.1\n",
      "\u001b[32m\u001b[1m   Installed\u001b[22m\u001b[39m FreeTypeAbstraction ─ v0.9.9\n",
      "\u001b[32m\u001b[1m   Installed\u001b[22m\u001b[39m ConstructionBase ──── v1.3.0\n",
      "\u001b[32m\u001b[1m   Installed\u001b[22m\u001b[39m ColorVectorSpace ──── v0.9.8\n",
      "\u001b[32m\u001b[1m   Installed\u001b[22m\u001b[39m RipQP ─────────────── v0.2.6\n",
      "\u001b[32m\u001b[1m   Installed\u001b[22m\u001b[39m Quadmath ──────────── v0.5.5\n",
      "\u001b[32m\u001b[1m   Installed\u001b[22m\u001b[39m UnicodePlots ──────── v2.10.3\n",
      "\u001b[32m\u001b[1mPrecompiling\u001b[22m\u001b[39m project...\n",
      "\u001b[32m  ✓ \u001b[39m\u001b[90mMatrixMarket\u001b[39m\n",
      "\u001b[32m  ✓ \u001b[39m\u001b[90mCEnum\u001b[39m\n",
      "\u001b[32m  ✓ \u001b[39m\u001b[90mTensorCore\u001b[39m\n",
      "\u001b[32m  ✓ \u001b[39m\u001b[90mConstructionBase\u001b[39m\n",
      "\u001b[32m  ✓ \u001b[39m\u001b[90mQuadmath\u001b[39m\n",
      "\u001b[32m  ✓ \u001b[39m\u001b[90mFreeType\u001b[39m\n",
      "\u001b[32m  ✓ \u001b[39m\u001b[90mMarchingCubes\u001b[39m\n",
      "\u001b[32m  ✓ \u001b[39m\u001b[90mColorVectorSpace\u001b[39m\n",
      "\u001b[32m  ✓ \u001b[39m\u001b[90mFreeTypeAbstraction\u001b[39m\n",
      "\u001b[32m  ✓ \u001b[39m\u001b[90mUnitful\u001b[39m\n",
      "\u001b[32m  ✓ \u001b[39m\u001b[90mUnicodePlots\u001b[39m\n",
      "\u001b[32m  ✓ \u001b[39mSparseMatricesCOO\n",
      "\u001b[91m  ✗ \u001b[39mQuadraticModels\n",
      "\u001b[32m  ✓ \u001b[39m\u001b[90mLLSModels\u001b[39m\n",
      "\u001b[32m  ✓ \u001b[39mRipQP\n",
      "  14 dependencies successfully precompiled in 31 seconds (193 already precompiled)\n",
      "  \u001b[91m1\u001b[39m dependency errored. To see a full report either run `import Pkg; Pkg.precompile()` or load the package\n"
     ]
    }
   ],
   "source": [
    "Pkg.instantiate()"
   ]
  },
  {
   "cell_type": "code",
   "execution_count": 17,
   "id": "5443b1b7",
   "metadata": {},
   "outputs": [
    {
     "name": "stderr",
     "output_type": "stream",
     "text": [
      "\u001b[32m\u001b[1m   Resolving\u001b[22m\u001b[39m package versions...\n",
      "\u001b[32m\u001b[1m  No Changes\u001b[22m\u001b[39m to `D:\\Documents\\School Projects\\MTH8408\\Projet\\Project.toml`\n",
      "\u001b[32m\u001b[1m  No Changes\u001b[22m\u001b[39m to `D:\\Documents\\School Projects\\MTH8408\\Projet\\Manifest.toml`\n",
      "\u001b[32m\u001b[1m   Resolving\u001b[22m\u001b[39m package versions...\n",
      "\u001b[32m\u001b[1m  No Changes\u001b[22m\u001b[39m to `D:\\Documents\\School Projects\\MTH8408\\Projet\\Project.toml`\n",
      "\u001b[32m\u001b[1m  No Changes\u001b[22m\u001b[39m to `D:\\Documents\\School Projects\\MTH8408\\Projet\\Manifest.toml`\n",
      "\u001b[32m\u001b[1m   Resolving\u001b[22m\u001b[39m package versions...\n",
      "\u001b[32m\u001b[1m  No Changes\u001b[22m\u001b[39m to `D:\\Documents\\School Projects\\MTH8408\\Projet\\Project.toml`\n",
      "\u001b[32m\u001b[1m  No Changes\u001b[22m\u001b[39m to `D:\\Documents\\School Projects\\MTH8408\\Projet\\Manifest.toml`\n",
      "\u001b[32m\u001b[1m   Resolving\u001b[22m\u001b[39m package versions...\n",
      "\u001b[32m\u001b[1m  No Changes\u001b[22m\u001b[39m to `D:\\Documents\\School Projects\\MTH8408\\Projet\\Project.toml`\n",
      "\u001b[32m\u001b[1m  No Changes\u001b[22m\u001b[39m to `D:\\Documents\\School Projects\\MTH8408\\Projet\\Manifest.toml`\n",
      "\u001b[32m\u001b[1m   Resolving\u001b[22m\u001b[39m package versions...\n",
      "\u001b[32m\u001b[1m    Updating\u001b[22m\u001b[39m `D:\\Documents\\School Projects\\MTH8408\\Projet\\Project.toml`\n",
      " \u001b[90m [ba0b0d4f] \u001b[39m\u001b[92m+ Krylov v0.7.13\u001b[39m\n",
      "\u001b[32m\u001b[1m  No Changes\u001b[22m\u001b[39m to `D:\\Documents\\School Projects\\MTH8408\\Projet\\Manifest.toml`\n"
     ]
    }
   ],
   "source": [
    "Pkg.add(\"CSV\"); Pkg.add(\"DataFrames\"); Pkg.add(\"LsqFit\"); Pkg.add(\"Plots\"); Pkg.add(\"Krylov\");"
   ]
  },
  {
   "cell_type": "code",
   "execution_count": 63,
   "id": "8d1f5ca3",
   "metadata": {},
   "outputs": [],
   "source": [
    "using DataFrames, LsqFit, CSV, Statistics, QuadraticModels, LinearAlgebra, SparseMatricesCOO, Krylov, Dates"
   ]
  },
  {
   "cell_type": "markdown",
   "id": "c673139a",
   "metadata": {},
   "source": [
    "## Exploration des données"
   ]
  },
  {
   "cell_type": "code",
   "execution_count": 44,
   "id": "be40a9de",
   "metadata": {
    "scrolled": true
   },
   "outputs": [
    {
     "data": {
      "text/html": [
       "<div class=\"data-frame\"><p>5 rows × 70 columns (omitted printing of 65 columns)</p><table class=\"data-frame\"><thead><tr><th></th><th>date</th><th>max_temperature</th><th>avg_hourly_temperature</th><th>avg_temperature</th><th>min_temperature</th></tr><tr><th></th><th title=\"Dates.Date\">Date</th><th title=\"Float64\">Float64</th><th title=\"Float64\">Float64</th><th title=\"Float64\">Float64</th><th title=\"Float64\">Float64</th></tr></thead><tbody><tr><th>1</th><td>2022-04-18</td><td>10.6</td><td>4.98</td><td>3.75</td><td>-3.1</td></tr><tr><th>2</th><td>2022-04-17</td><td>7.6</td><td>3.8</td><td>3.5</td><td>-0.6</td></tr><tr><th>3</th><td>2022-04-16</td><td>8.3</td><td>5.02</td><td>4.85</td><td>1.4</td></tr><tr><th>4</th><td>2022-04-15</td><td>14.6</td><td>9.32</td><td>9.0</td><td>3.4</td></tr><tr><th>5</th><td>2022-04-14</td><td>11.4</td><td>8.38</td><td>8.85</td><td>6.3</td></tr></tbody></table></div>"
      ],
      "text/latex": [
       "\\begin{tabular}{r|cccccc}\n",
       "\t& date & max\\_temperature & avg\\_hourly\\_temperature & avg\\_temperature & min\\_temperature & \\\\\n",
       "\t\\hline\n",
       "\t& Date & Float64 & Float64 & Float64 & Float64 & \\\\\n",
       "\t\\hline\n",
       "\t1 & 2022-04-18 & 10.6 & 4.98 & 3.75 & -3.1 & $\\dots$ \\\\\n",
       "\t2 & 2022-04-17 & 7.6 & 3.8 & 3.5 & -0.6 & $\\dots$ \\\\\n",
       "\t3 & 2022-04-16 & 8.3 & 5.02 & 4.85 & 1.4 & $\\dots$ \\\\\n",
       "\t4 & 2022-04-15 & 14.6 & 9.32 & 9.0 & 3.4 & $\\dots$ \\\\\n",
       "\t5 & 2022-04-14 & 11.4 & 8.38 & 8.85 & 6.3 & $\\dots$ \\\\\n",
       "\\end{tabular}\n"
      ],
      "text/plain": [
       "\u001b[1m5×70 DataFrame\u001b[0m\n",
       "\u001b[1m Row \u001b[0m│\u001b[1m date       \u001b[0m\u001b[1m max_temperature \u001b[0m\u001b[1m avg_hourly_temperature \u001b[0m\u001b[1m avg_temperature \u001b[0m\u001b[1m m\u001b[0m ⋯\n",
       "\u001b[1m     \u001b[0m│\u001b[90m Date       \u001b[0m\u001b[90m Float64         \u001b[0m\u001b[90m Float64                \u001b[0m\u001b[90m Float64         \u001b[0m\u001b[90m F\u001b[0m ⋯\n",
       "─────┼──────────────────────────────────────────────────────────────────────────\n",
       "   1 │ 2022-04-18             10.6                    4.98             3.75    ⋯\n",
       "   2 │ 2022-04-17              7.6                    3.8              3.5\n",
       "   3 │ 2022-04-16              8.3                    5.02             4.85\n",
       "   4 │ 2022-04-15             14.6                    9.32             9.0\n",
       "   5 │ 2022-04-14             11.4                    8.38             8.85    ⋯\n",
       "\u001b[36m                                                              66 columns omitted\u001b[0m"
      ]
     },
     "execution_count": 44,
     "metadata": {},
     "output_type": "execute_result"
    }
   ],
   "source": [
    "data_folder = \"Data/\"\n",
    "file_name   = \"weatherstats_montreal_daily.csv\"\n",
    "df = DataFrame(CSV.File(data_folder * file_name))\n",
    "first(df, 5)"
   ]
  },
  {
   "cell_type": "code",
   "execution_count": 76,
   "id": "c20e102d",
   "metadata": {},
   "outputs": [
    {
     "data": {
      "text/plain": [
       "1967-07-17"
      ]
     },
     "execution_count": 76,
     "metadata": {},
     "output_type": "execute_result"
    }
   ],
   "source": [
    "last(df.date)"
   ]
  },
  {
   "cell_type": "code",
   "execution_count": 45,
   "id": "785af97a",
   "metadata": {},
   "outputs": [
    {
     "data": {
      "text/plain": [
       "20000"
      ]
     },
     "execution_count": 45,
     "metadata": {},
     "output_type": "execute_result"
    }
   ],
   "source": [
    "nrow(df)"
   ]
  },
  {
   "cell_type": "code",
   "execution_count": 46,
   "id": "5f6ec5a1",
   "metadata": {},
   "outputs": [
    {
     "data": {
      "text/plain": [
       "70"
      ]
     },
     "execution_count": 46,
     "metadata": {},
     "output_type": "execute_result"
    }
   ],
   "source": [
    "ncol(df)"
   ]
  },
  {
   "cell_type": "markdown",
   "id": "4229ecb2",
   "metadata": {},
   "source": [
    "#### Train Test split"
   ]
  },
  {
   "cell_type": "code",
   "execution_count": 119,
   "id": "056a1c7d",
   "metadata": {},
   "outputs": [
    {
     "data": {
      "text/html": [
       "<p>DataFrameRow (70 columns)</p><div class=\"data-frame\"><table class=\"data-frame\"><thead><tr><th></th><th>date</th><th>max_temperature</th><th>avg_hourly_temperature</th><th>avg_temperature</th><th>min_temperature</th></tr><tr><th></th><th title=\"Date\">Date</th><th title=\"Float64\">Float64</th><th title=\"Float64\">Float64</th><th title=\"Float64\">Float64</th><th title=\"Float64\">Float64</th></tr></thead><tbody><tr><th>2665</th><td>2015-01-01</td><td>-3.0</td><td>-4.9</td><td>-5.3</td><td>-7.6</td></tr></tbody></table></div>"
      ],
      "text/latex": [
       "\\begin{tabular}{r|cccccc}\n",
       "\t& date & max\\_temperature & avg\\_hourly\\_temperature & avg\\_temperature & min\\_temperature & \\\\\n",
       "\t\\hline\n",
       "\t& Date & Float64 & Float64 & Float64 & Float64 & \\\\\n",
       "\t\\hline\n",
       "\t2665 & 2015-01-01 & -3.0 & -4.9 & -5.3 & -7.6 & $\\dots$ \\\\\n",
       "\\end{tabular}\n"
      ],
      "text/plain": [
       "\u001b[1mDataFrameRow\u001b[0m\n",
       "\u001b[1m  Row \u001b[0m│\u001b[1m date       \u001b[0m\u001b[1m max_temperature \u001b[0m\u001b[1m avg_hourly_temperature \u001b[0m\u001b[1m avg_temperature \u001b[0m\u001b[1m \u001b[0m ⋯\n",
       "\u001b[1m      \u001b[0m│\u001b[90m Date       \u001b[0m\u001b[90m Float64         \u001b[0m\u001b[90m Float64                \u001b[0m\u001b[90m Float64         \u001b[0m\u001b[90m \u001b[0m ⋯\n",
       "──────┼─────────────────────────────────────────────────────────────────────────\n",
       " 2665 │ 2015-01-01             -3.0                    -4.9             -5.3   ⋯\n",
       "\u001b[36m                                                              66 columns omitted\u001b[0m"
      ]
     },
     "execution_count": 119,
     "metadata": {},
     "output_type": "execute_result"
    }
   ],
   "source": [
    "date1, date2 = Date(\"1980-01-01\"), Date(\"2015-01-01\")\n",
    "train_df = df[date2 .> df.date .>= date1, :]\n",
    "test_df  = df[df.date .>= Date(\"2015-01-01\"), :]\n",
    "last(test_df)"
   ]
  },
  {
   "cell_type": "code",
   "execution_count": 120,
   "id": "39550ed0",
   "metadata": {},
   "outputs": [
    {
     "data": {
      "text/html": [
       "<div class=\"data-frame\"><p>5 rows × 70 columns (omitted printing of 65 columns)</p><table class=\"data-frame\"><thead><tr><th></th><th>date</th><th>max_temperature</th><th>avg_hourly_temperature</th><th>avg_temperature</th><th>min_temperature</th></tr><tr><th></th><th title=\"Date\">Date</th><th title=\"Float64\">Float64</th><th title=\"Float64\">Float64</th><th title=\"Float64\">Float64</th><th title=\"Float64\">Float64</th></tr></thead><tbody><tr><th>1</th><td>2022-04-18</td><td>10.6</td><td>4.98</td><td>3.75</td><td>-3.1</td></tr><tr><th>2</th><td>2022-04-17</td><td>7.6</td><td>3.8</td><td>3.5</td><td>-0.6</td></tr><tr><th>3</th><td>2022-04-16</td><td>8.3</td><td>5.02</td><td>4.85</td><td>1.4</td></tr><tr><th>4</th><td>2022-04-15</td><td>14.6</td><td>9.32</td><td>9.0</td><td>3.4</td></tr><tr><th>5</th><td>2022-04-14</td><td>11.4</td><td>8.38</td><td>8.85</td><td>6.3</td></tr></tbody></table></div>"
      ],
      "text/latex": [
       "\\begin{tabular}{r|cccccc}\n",
       "\t& date & max\\_temperature & avg\\_hourly\\_temperature & avg\\_temperature & min\\_temperature & \\\\\n",
       "\t\\hline\n",
       "\t& Date & Float64 & Float64 & Float64 & Float64 & \\\\\n",
       "\t\\hline\n",
       "\t1 & 2022-04-18 & 10.6 & 4.98 & 3.75 & -3.1 & $\\dots$ \\\\\n",
       "\t2 & 2022-04-17 & 7.6 & 3.8 & 3.5 & -0.6 & $\\dots$ \\\\\n",
       "\t3 & 2022-04-16 & 8.3 & 5.02 & 4.85 & 1.4 & $\\dots$ \\\\\n",
       "\t4 & 2022-04-15 & 14.6 & 9.32 & 9.0 & 3.4 & $\\dots$ \\\\\n",
       "\t5 & 2022-04-14 & 11.4 & 8.38 & 8.85 & 6.3 & $\\dots$ \\\\\n",
       "\\end{tabular}\n"
      ],
      "text/plain": [
       "\u001b[1m5×70 DataFrame\u001b[0m\n",
       "\u001b[1m Row \u001b[0m│\u001b[1m date       \u001b[0m\u001b[1m max_temperature \u001b[0m\u001b[1m avg_hourly_temperature \u001b[0m\u001b[1m avg_temperature \u001b[0m\u001b[1m m\u001b[0m ⋯\n",
       "\u001b[1m     \u001b[0m│\u001b[90m Date       \u001b[0m\u001b[90m Float64         \u001b[0m\u001b[90m Float64                \u001b[0m\u001b[90m Float64         \u001b[0m\u001b[90m F\u001b[0m ⋯\n",
       "─────┼──────────────────────────────────────────────────────────────────────────\n",
       "   1 │ 2022-04-18             10.6                    4.98             3.75    ⋯\n",
       "   2 │ 2022-04-17              7.6                    3.8              3.5\n",
       "   3 │ 2022-04-16              8.3                    5.02             4.85\n",
       "   4 │ 2022-04-15             14.6                    9.32             9.0\n",
       "   5 │ 2022-04-14             11.4                    8.38             8.85    ⋯\n",
       "\u001b[36m                                                              66 columns omitted\u001b[0m"
      ]
     },
     "execution_count": 120,
     "metadata": {},
     "output_type": "execute_result"
    }
   ],
   "source": [
    "first(test_df, 5)"
   ]
  },
  {
   "cell_type": "code",
   "execution_count": 121,
   "id": "6ac7fe3e",
   "metadata": {},
   "outputs": [
    {
     "data": {
      "text/plain": [
       "2665-element Vector{Float64}:\n",
       "   3.75\n",
       "   3.5\n",
       "   4.85\n",
       "   9.0\n",
       "   8.85\n",
       "   9.15\n",
       "  11.85\n",
       "   5.2\n",
       "   4.8\n",
       "   4.95\n",
       "   4.14\n",
       "   4.45\n",
       "   6.85\n",
       "   ⋮\n",
       "  -9.39\n",
       "  -8.19\n",
       " -11.2\n",
       " -10.35\n",
       " -17.45\n",
       " -17.7\n",
       " -13.85\n",
       " -11.6\n",
       "  -2.8\n",
       " -13.1\n",
       "  -8.79\n",
       "  -5.3"
      ]
     },
     "execution_count": 121,
     "metadata": {},
     "output_type": "execute_result"
    }
   ],
   "source": [
    "## Get the data\n",
    "jours_train = [i for i in 1:length(train_df.avg_temperature)]\n",
    "temp_train  = train_df.avg_temperature\n",
    "jours_test  = [last(jours_train) + i for i in 1:length(test_df.avg_temperature)]\n",
    "temp_test   = test_df.avg_temperature"
   ]
  },
  {
   "cell_type": "code",
   "execution_count": 122,
   "id": "e98cda6e",
   "metadata": {},
   "outputs": [
    {
     "data": {
      "text/plain": [
       "12784"
      ]
     },
     "execution_count": 122,
     "metadata": {},
     "output_type": "execute_result"
    }
   ],
   "source": [
    "last(jours_train)"
   ]
  },
  {
   "cell_type": "code",
   "execution_count": 123,
   "id": "115b4fab",
   "metadata": {},
   "outputs": [
    {
     "data": {
      "text/plain": [
       "12785"
      ]
     },
     "execution_count": 123,
     "metadata": {},
     "output_type": "execute_result"
    }
   ],
   "source": [
    "jours_test[1]"
   ]
  },
  {
   "cell_type": "markdown",
   "id": "f4cadb28",
   "metadata": {},
   "source": [
    "### Création des matrices associées aux modèles\n",
    "\n",
    "$$f_s(x, d) = x_1 + x_2d + x_3 cos(\\cfrac{2 \\pi d}{365.25})+ x_4 sin(\\cfrac{2\\pi d}{365.25}) + x_5 cos(\\cfrac{2\\pi d}{10.7 \\times 365.25})+ x_6 sin(\\cfrac{2\\pi d}{10.7 \\times 365.25}); \\forall (x, d) \\in \\mathbb{R}^6 \\times \\mathbb{R}.$$\n",
    "\n",
    "$$f_h(x, d) = x_1 + x_2d + x_3 cos(\\cfrac{2 \\pi d}{365.25})+ x_4 sin(\\cfrac{2\\pi d}{365.25}) + x_5 cos(\\cfrac{2\\pi d}{10.7 \\times 365.25})+ x_6 sin(\\cfrac{2\\pi d}{10.7 \\times 365.25}) + x_7 cos(\\cfrac{4 \\pi d}{365.25})+ x_8 sin(\\cfrac{4\\pi d}{365.25}); \\forall (x, d) \\in \\mathbb{R}^8 \\times \\mathbb{R}.$$\n",
    "\n",
    "Chaque colonne de la matrice $A_s$ du modèle simple $f_s$ représente un membre de la fonction polynomiale en $x$. On minimise donc :\n",
    "$$\\underset{x \\in \\mathbb{R}^6 }{min}||A_s x - b||_2.$$\n",
    "\n",
    "Pareillement pour $A_h$ et le modèle avec les harmoniques $f_h$."
   ]
  },
  {
   "cell_type": "code",
   "execution_count": 124,
   "id": "e48f1d0c",
   "metadata": {},
   "outputs": [
    {
     "data": {
      "text/plain": [
       "2665×8 Matrix{Float64}:\n",
       " 1.0  12785.0   0.999769  0.0215014  …   0.991018  -0.964232  -0.265059\n",
       " 1.0  12786.0   0.999251  0.0386958      0.990801  -0.963375  -0.268158\n",
       " 1.0  12787.0   0.998438  0.0558788      0.990583  -0.962508  -0.271255\n",
       " 1.0  12788.0   0.997329  0.0730452      0.990361  -0.96163   -0.274348\n",
       " 1.0  12789.0   0.995925  0.09019        0.990137  -0.960743  -0.277439\n",
       " 1.0  12790.0   0.994226  0.107308   …   0.989911  -0.959846  -0.280526\n",
       " 1.0  12791.0   0.992233  0.124395       0.989682  -0.958939  -0.283611\n",
       " 1.0  12792.0   0.989946  0.141444       0.98945   -0.958022  -0.286693\n",
       " 1.0  12793.0   0.987367  0.158452       0.989216  -0.957096  -0.289772\n",
       " 1.0  12794.0   0.984495  0.175413       0.988979  -0.956159  -0.292848\n",
       " 1.0  12795.0   0.981332  0.192322   …   0.98874   -0.955212  -0.295921\n",
       " 1.0  12796.0   0.977879  0.209174       0.988498  -0.954256  -0.298991\n",
       " 1.0  12797.0   0.974136  0.225964       0.988253  -0.95329   -0.302058\n",
       " ⋮                                   ⋱   ⋮                    \n",
       " 1.0  15438.0  -0.106239  0.994341      -0.307933   0.810354  -0.58594\n",
       " 1.0  15439.0  -0.123328  0.992366      -0.306403   0.812234  -0.583331\n",
       " 1.0  15440.0  -0.14038   0.990098   …  -0.304872   0.814106  -0.580717\n",
       " 1.0  15441.0  -0.15739   0.987537      -0.303341   0.815969  -0.578096\n",
       " 1.0  15442.0  -0.174354  0.984683      -0.301808   0.817823  -0.575469\n",
       " 1.0  15443.0  -0.191266  0.981538      -0.300275   0.819669  -0.572837\n",
       " 1.0  15444.0  -0.208122  0.978103      -0.298741   0.821507  -0.570198\n",
       " 1.0  15445.0  -0.224916  0.974378   …  -0.297207   0.823336  -0.567554\n",
       " 1.0  15446.0  -0.241644  0.970365      -0.295671   0.825157  -0.564904\n",
       " 1.0  15447.0  -0.2583    0.966065      -0.294135   0.826969  -0.562247\n",
       " 1.0  15448.0  -0.274879  0.961479      -0.292598   0.828773  -0.559585\n",
       " 1.0  15449.0  -0.291378  0.956608      -0.29106    0.830568  -0.556918"
      ]
     },
     "execution_count": 124,
     "metadata": {},
     "output_type": "execute_result"
    }
   ],
   "source": [
    "A_S = [ones(length(jours_train)) jours_train cos.(2*pi*jours_train/365.25) sin.(2*pi*jours_train/365.25) cos.(2*pi*jours_train/(10.7*365.25)) sin.(2*pi*jours_train/(10.7*365.25))]\n",
    "A_H = [ones(length(jours_train)) jours_train cos.(2*pi*jours_train/365.25) sin.(2*pi*jours_train/365.25) cos.(2*pi*jours_train/(10.7*365.25)) sin.(2*pi*jours_train/(10.7*365.25)) cos.(4*pi*jours_train/(10.7*365.25)) sin.(4*pi*jours_train/(10.7*365.25))]\n",
    "\n",
    "A_S_test = [ones(length(jours_test)) jours_test cos.(2*pi*jours_test/365.25) sin.(2*pi*jours_test/365.25) cos.(2*pi*jours_test/(10.7*365.25)) sin.(2*pi*jours_test/(10.7*365.25))]\n",
    "A_H_test = [ones(length(jours_test)) jours_test cos.(2*pi*jours_test/365.25) sin.(2*pi*jours_test/365.25) cos.(2*pi*jours_test/(10.7*365.25)) sin.(2*pi*jours_test/(10.7*365.25)) cos.(4*pi*jours_test/(10.7*365.25)) sin.(4*pi*jours_test/(10.7*365.25))]"
   ]
  },
  {
   "cell_type": "markdown",
   "id": "3f190c6a",
   "metadata": {},
   "source": [
    "#### Solving Simple Model"
   ]
  },
  {
   "cell_type": "code",
   "execution_count": 126,
   "id": "e4000eb7",
   "metadata": {
    "scrolled": true
   },
   "outputs": [
    {
     "data": {
      "text/plain": [
       "([7.694420297244191, -0.00013017148872741918, -14.372800779370326, 5.11928170148461, -0.34788026875995526, 0.08328872250866243], Simple stats\n",
       " niter: 7\n",
       " solved: true\n",
       " inconsistent: false\n",
       " residuals: []\n",
       " Aresiduals: []\n",
       " κ₂(A): []\n",
       " status: solution good enough given atol and rtol\n",
       ")"
      ]
     },
     "execution_count": 126,
     "metadata": {},
     "output_type": "execute_result"
    }
   ],
   "source": [
    "(x_s, stats) = Krylov.cgls(A_S, temp_train)"
   ]
  },
  {
   "cell_type": "markdown",
   "id": "5fde09ca",
   "metadata": {},
   "source": [
    "##### RSS $||Ax -b||_2^2$"
   ]
  },
  {
   "cell_type": "code",
   "execution_count": 127,
   "id": "ebd9262e",
   "metadata": {},
   "outputs": [
    {
     "data": {
      "text/plain": [
       "283799.8024248049"
      ]
     },
     "execution_count": 127,
     "metadata": {},
     "output_type": "execute_result"
    }
   ],
   "source": [
    "RSS_S = norm(A_S*x_s - temp_train, 2)^2"
   ]
  },
  {
   "cell_type": "code",
   "execution_count": 128,
   "id": "4da81a08",
   "metadata": {},
   "outputs": [
    {
     "data": {
      "text/plain": [
       "852558.4496739487"
      ]
     },
     "execution_count": 128,
     "metadata": {},
     "output_type": "execute_result"
    }
   ],
   "source": [
    "RSS_S_test = norm(A_S_test*x_s - temp_test, 2)^2"
   ]
  },
  {
   "cell_type": "markdown",
   "id": "fd081627",
   "metadata": {},
   "source": [
    "#### Solving Harmonic Model"
   ]
  },
  {
   "cell_type": "code",
   "execution_count": 129,
   "id": "5b5b6030",
   "metadata": {},
   "outputs": [
    {
     "data": {
      "text/plain": [
       "([7.711175391467356, -0.0001308510731771211, -14.373860814898563, 5.121230325877138, -0.32665406917023226, 0.09610876750517391, -0.07883346130212612, -0.30669001297164], Simple stats\n",
       " niter: 7\n",
       " solved: true\n",
       " inconsistent: false\n",
       " residuals: []\n",
       " Aresiduals: []\n",
       " κ₂(A): []\n",
       " status: solution good enough given atol and rtol\n",
       ")"
      ]
     },
     "execution_count": 129,
     "metadata": {},
     "output_type": "execute_result"
    }
   ],
   "source": [
    "(x_h, stats) = Krylov.cgls(A_H, temp_train)"
   ]
  },
  {
   "cell_type": "markdown",
   "id": "59b3833f",
   "metadata": {},
   "source": [
    "##### RSS $||Ax -b||_2^2$"
   ]
  },
  {
   "cell_type": "code",
   "execution_count": 130,
   "id": "41ef3a61",
   "metadata": {},
   "outputs": [
    {
     "data": {
      "text/plain": [
       "283168.38309367583"
      ]
     },
     "execution_count": 130,
     "metadata": {},
     "output_type": "execute_result"
    }
   ],
   "source": [
    "RSS_H = norm(A_H*x_h - temp_train,2 )^2"
   ]
  },
  {
   "cell_type": "code",
   "execution_count": 131,
   "id": "4057a269",
   "metadata": {},
   "outputs": [
    {
     "data": {
      "text/plain": [
       "851820.7765889195"
      ]
     },
     "execution_count": 131,
     "metadata": {},
     "output_type": "execute_result"
    }
   ],
   "source": [
    "RSS_H_test = norm(A_H_test*x_h - temp_test,2 )^2"
   ]
  },
  {
   "cell_type": "markdown",
   "id": "b2606a10",
   "metadata": {},
   "source": [
    "#### Comparaison du modèle Simple et du modèle Harmonique"
   ]
  },
  {
   "cell_type": "code",
   "execution_count": 132,
   "id": "b3192d17",
   "metadata": {},
   "outputs": [
    {
     "data": {
      "text/plain": [
       "true"
      ]
     },
     "execution_count": 132,
     "metadata": {},
     "output_type": "execute_result"
    }
   ],
   "source": [
    "RSS_H < RSS_S"
   ]
  },
  {
   "cell_type": "code",
   "execution_count": 133,
   "id": "38e66f15",
   "metadata": {},
   "outputs": [
    {
     "data": {
      "text/plain": [
       "true"
      ]
     },
     "execution_count": 133,
     "metadata": {},
     "output_type": "execute_result"
    }
   ],
   "source": [
    "RSS_H_test < RSS_S_test"
   ]
  },
  {
   "cell_type": "markdown",
   "id": "2d2d595f",
   "metadata": {},
   "source": [
    "Le modèle harmonique est plus performant sur les données **test** et **train**."
   ]
  },
  {
   "cell_type": "markdown",
   "id": "91744a7d",
   "metadata": {},
   "source": [
    "### Plotting Results"
   ]
  },
  {
   "cell_type": "code",
   "execution_count": 144,
   "id": "38d7c0ba",
   "metadata": {
    "scrolled": true
   },
   "outputs": [
    {
     "data": {
      "text/plain": [
       "15449-element Vector{Date}:\n",
       " 1980-01-01\n",
       " 1980-01-02\n",
       " 1980-01-03\n",
       " 1980-01-04\n",
       " 1980-01-05\n",
       " 1980-01-06\n",
       " 1980-01-07\n",
       " 1980-01-08\n",
       " 1980-01-09\n",
       " 1980-01-10\n",
       " 1980-01-11\n",
       " 1980-01-12\n",
       " 1980-01-13\n",
       " ⋮\n",
       " 2022-04-07\n",
       " 2022-04-08\n",
       " 2022-04-09\n",
       " 2022-04-10\n",
       " 2022-04-11\n",
       " 2022-04-12\n",
       " 2022-04-13\n",
       " 2022-04-14\n",
       " 2022-04-15\n",
       " 2022-04-16\n",
       " 2022-04-17\n",
       " 2022-04-18"
      ]
     },
     "execution_count": 144,
     "metadata": {},
     "output_type": "execute_result"
    }
   ],
   "source": [
    "pred_S = vcat(A_S*x_s, A_S_test*x_s)\n",
    "pred_H = vcat(A_H*x_h, A_H_test*x_h)\n",
    "dates  = reverse(vcat(test_df.date, train_df.date))"
   ]
  },
  {
   "cell_type": "code",
   "execution_count": 146,
   "id": "c4a8c099",
   "metadata": {},
   "outputs": [],
   "source": [
    "using Plots\n",
    "gr()\n",
    "scatter(dates, temp, label=\"Température de Montréal\", markersize=1, markercolor=\"blue\")\n",
    "p = plot!(dates, [pred_S pred_H], title=\"Prédiction des Modèles pour Montréal\", label=[\"Modèle Simple\" \"Modèle avec Harmoniques\"], linecolor=[\"red\" \"cyan\"], legend=:bottomright)\n",
    "xlabel!(\"Time t\")\n",
    "plot!(size=(1000,400))\n",
    "savefig(\"Results/Two_Models.png\")"
   ]
  },
  {
   "cell_type": "markdown",
   "id": "b1cdd492",
   "metadata": {},
   "source": [
    "## Modèle en norme L1"
   ]
  },
  {
   "cell_type": "markdown",
   "id": "3dab70ba",
   "metadata": {},
   "source": [
    "L'article initial argumentait qu'un modèle en norme L1, en utilisant la somme des valeurs absolus des erreurs plutôt que la somme de leurs carrés, performerait mieux dans cette situation. Comme les valeurs absolus font qu'on ne peut pas résoudre directement ce problème par optimisation linéaire, nous allons utiliser la même astuce que celle de l'article de rajouter des contraintes pour pouvoir écrire le problème d'une manière soluble par optimisation linéaire."
   ]
  },
  {
   "cell_type": "code",
   "execution_count": 31,
   "id": "a5eaedf8",
   "metadata": {},
   "outputs": [
    {
     "data": {
      "text/plain": [
       "3-element Vector{Float64}:\n",
       " Inf\n",
       " Inf\n",
       " Inf"
      ]
     },
     "execution_count": 31,
     "metadata": {},
     "output_type": "execute_result"
    }
   ],
   "source": [
    "## Exemple de modèle quadratique de QuadraticsModels\n",
    "Q = [6. 2. 1.\n",
    "    2. 5. 2.\n",
    "    1. 2. 4.]\n",
    "c = [-8.; -3; -3]\n",
    "A = [1. 0. 1.\n",
    "    0. 2. 1.]\n",
    "b = [0.; 3]\n",
    "l = [0.;0;0]\n",
    "u = [Inf; Inf; Inf]"
   ]
  },
  {
   "cell_type": "code",
   "execution_count": null,
   "id": "fb02cd96",
   "metadata": {},
   "outputs": [],
   "source": [
    "QM = QuadraticModel(c, SparseMatrixCOO(tril(Q)), A=SparseMatrixCOO(A), lcon=b, ucon=b,lvar=l, uvar=u, c0=0., name=\"QM\")"
   ]
  },
  {
   "cell_type": "code",
   "execution_count": 35,
   "id": "264e8e60",
   "metadata": {},
   "outputs": [
    {
     "data": {
      "text/plain": [
       "3×3 SparseMatrixCOO{Float64, Int64} with 6 stored entries:\n",
       "     \u001b[38;5;8m┌─────┐\u001b[0m    \n",
       "   \u001b[38;5;8m1\u001b[0m \u001b[38;5;8m│\u001b[0m⠀\u001b[38;5;1m⠄\u001b[0m⠀⠀⠀\u001b[38;5;8m│\u001b[0m \u001b[38;5;1m> 0\u001b[0m\n",
       "   \u001b[38;5;8m3\u001b[0m \u001b[38;5;8m│\u001b[0m⠀\u001b[38;5;1m⠅\u001b[0m\u001b[38;5;1m⠨\u001b[0m\u001b[38;5;1m⠠\u001b[0m⠀\u001b[38;5;8m│\u001b[0m \u001b[38;5;4m< 0\u001b[0m\n",
       "     \u001b[38;5;8m└─────┘\u001b[0m    \n",
       "     ⠀\u001b[38;5;8m1\u001b[0m⠀\u001b[38;5;8m\u001b[0m⠀⠀\u001b[38;5;8m3\u001b[0m⠀    \n",
       "     6 nonzeros    "
      ]
     },
     "execution_count": 35,
     "metadata": {},
     "output_type": "execute_result"
    }
   ],
   "source": [
    "SparseMatrixCOO(tril(Q))"
   ]
  },
  {
   "cell_type": "code",
   "execution_count": null,
   "id": "848af229",
   "metadata": {},
   "outputs": [],
   "source": []
  },
  {
   "cell_type": "code",
   "execution_count": null,
   "id": "c3202a12",
   "metadata": {},
   "outputs": [],
   "source": []
  },
  {
   "cell_type": "code",
   "execution_count": null,
   "id": "02ddf9e2",
   "metadata": {},
   "outputs": [],
   "source": []
  }
 ],
 "metadata": {
  "kernelspec": {
   "display_name": "Julia 1.7.1",
   "language": "julia",
   "name": "julia-1.7"
  },
  "language_info": {
   "file_extension": ".jl",
   "mimetype": "application/julia",
   "name": "julia",
   "version": "1.7.1"
  }
 },
 "nbformat": 4,
 "nbformat_minor": 5
}
