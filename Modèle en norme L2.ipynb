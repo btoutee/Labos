{
 "cells": [
  {
   "cell_type": "code",
   "execution_count": 32,
   "id": "89d2cb94",
   "metadata": {},
   "outputs": [
    {
     "name": "stderr",
     "output_type": "stream",
     "text": [
      "\u001b[32m\u001b[1m  Activating\u001b[22m\u001b[39m project at `D:\\Documents\\School Projects\\MTH8408\\Projet`\n"
     ]
    }
   ],
   "source": [
    "using Pkg; Pkg.activate(\".\")"
   ]
  },
  {
   "cell_type": "code",
   "execution_count": 33,
   "id": "77d54a7b",
   "metadata": {},
   "outputs": [],
   "source": [
    "Pkg.instantiate()"
   ]
  },
  {
   "cell_type": "code",
   "execution_count": 34,
   "id": "5443b1b7",
   "metadata": {},
   "outputs": [
    {
     "name": "stderr",
     "output_type": "stream",
     "text": [
      "\u001b[32m\u001b[1m   Resolving\u001b[22m\u001b[39m package versions...\n",
      "\u001b[32m\u001b[1m  No Changes\u001b[22m\u001b[39m to `D:\\Documents\\School Projects\\MTH8408\\Projet\\Project.toml`\n",
      "\u001b[32m\u001b[1m  No Changes\u001b[22m\u001b[39m to `D:\\Documents\\School Projects\\MTH8408\\Projet\\Manifest.toml`\n",
      "\u001b[32m\u001b[1m   Resolving\u001b[22m\u001b[39m package versions...\n",
      "\u001b[32m\u001b[1m  No Changes\u001b[22m\u001b[39m to `D:\\Documents\\School Projects\\MTH8408\\Projet\\Project.toml`\n",
      "\u001b[32m\u001b[1m  No Changes\u001b[22m\u001b[39m to `D:\\Documents\\School Projects\\MTH8408\\Projet\\Manifest.toml`\n",
      "\u001b[32m\u001b[1m   Resolving\u001b[22m\u001b[39m package versions...\n",
      "\u001b[32m\u001b[1m  No Changes\u001b[22m\u001b[39m to `D:\\Documents\\School Projects\\MTH8408\\Projet\\Project.toml`\n",
      "\u001b[32m\u001b[1m  No Changes\u001b[22m\u001b[39m to `D:\\Documents\\School Projects\\MTH8408\\Projet\\Manifest.toml`\n",
      "\u001b[32m\u001b[1m   Resolving\u001b[22m\u001b[39m package versions...\n",
      "\u001b[32m\u001b[1m  No Changes\u001b[22m\u001b[39m to `D:\\Documents\\School Projects\\MTH8408\\Projet\\Project.toml`\n",
      "\u001b[32m\u001b[1m  No Changes\u001b[22m\u001b[39m to `D:\\Documents\\School Projects\\MTH8408\\Projet\\Manifest.toml`\n",
      "\u001b[32m\u001b[1m   Resolving\u001b[22m\u001b[39m package versions...\n",
      "\u001b[32m\u001b[1m  No Changes\u001b[22m\u001b[39m to `D:\\Documents\\School Projects\\MTH8408\\Projet\\Project.toml`\n",
      "\u001b[32m\u001b[1m  No Changes\u001b[22m\u001b[39m to `D:\\Documents\\School Projects\\MTH8408\\Projet\\Manifest.toml`\n"
     ]
    }
   ],
   "source": [
    "Pkg.add(\"CSV\"); Pkg.add(\"DataFrames\"); Pkg.add(\"LsqFit\"); Pkg.add(\"Plots\"); Pkg.add(\"Krylov\");"
   ]
  },
  {
   "cell_type": "code",
   "execution_count": 35,
   "id": "8d1f5ca3",
   "metadata": {},
   "outputs": [],
   "source": [
    "using DataFrames, LsqFit, CSV, Statistics, QuadraticModels, LinearAlgebra, SparseMatricesCOO, Krylov, Dates"
   ]
  },
  {
   "cell_type": "markdown",
   "id": "c673139a",
   "metadata": {},
   "source": [
    "## Exploration des données"
   ]
  },
  {
   "cell_type": "code",
   "execution_count": 36,
   "id": "be40a9de",
   "metadata": {
    "scrolled": true
   },
   "outputs": [
    {
     "data": {
      "text/html": [
       "<div class=\"data-frame\"><p>5 rows × 4 columns</p><table class=\"data-frame\"><thead><tr><th></th><th>STATION</th><th>NAME</th><th>DATE</th><th>TAVG</th></tr><tr><th></th><th title=\"String15\">String15</th><th title=\"String15\">String15</th><th title=\"Date\">Date</th><th title=\"Int64\">Int64</th></tr></thead><tbody><tr><th>1</th><td>SG000061641</td><td>DAKAR YOFF, SG</td><td>1973-01-02</td><td>67</td></tr><tr><th>2</th><td>SG000061641</td><td>DAKAR YOFF, SG</td><td>1973-01-03</td><td>69</td></tr><tr><th>3</th><td>SG000061641</td><td>DAKAR YOFF, SG</td><td>1973-01-04</td><td>68</td></tr><tr><th>4</th><td>SG000061641</td><td>DAKAR YOFF, SG</td><td>1973-01-06</td><td>70</td></tr><tr><th>5</th><td>SG000061641</td><td>DAKAR YOFF, SG</td><td>1973-01-07</td><td>71</td></tr></tbody></table></div>"
      ],
      "text/latex": [
       "\\begin{tabular}{r|cccc}\n",
       "\t& STATION & NAME & DATE & TAVG\\\\\n",
       "\t\\hline\n",
       "\t& String15 & String15 & Date & Int64\\\\\n",
       "\t\\hline\n",
       "\t1 & SG000061641 & DAKAR YOFF, SG & 1973-01-02 & 67 \\\\\n",
       "\t2 & SG000061641 & DAKAR YOFF, SG & 1973-01-03 & 69 \\\\\n",
       "\t3 & SG000061641 & DAKAR YOFF, SG & 1973-01-04 & 68 \\\\\n",
       "\t4 & SG000061641 & DAKAR YOFF, SG & 1973-01-06 & 70 \\\\\n",
       "\t5 & SG000061641 & DAKAR YOFF, SG & 1973-01-07 & 71 \\\\\n",
       "\\end{tabular}\n"
      ],
      "text/plain": [
       "\u001b[1m5×4 DataFrame\u001b[0m\n",
       "\u001b[1m Row \u001b[0m│\u001b[1m STATION     \u001b[0m\u001b[1m NAME           \u001b[0m\u001b[1m DATE       \u001b[0m\u001b[1m TAVG  \u001b[0m\n",
       "\u001b[1m     \u001b[0m│\u001b[90m String15    \u001b[0m\u001b[90m String15       \u001b[0m\u001b[90m Date       \u001b[0m\u001b[90m Int64 \u001b[0m\n",
       "─────┼────────────────────────────────────────────────\n",
       "   1 │ SG000061641  DAKAR YOFF, SG  1973-01-02     67\n",
       "   2 │ SG000061641  DAKAR YOFF, SG  1973-01-03     69\n",
       "   3 │ SG000061641  DAKAR YOFF, SG  1973-01-04     68\n",
       "   4 │ SG000061641  DAKAR YOFF, SG  1973-01-06     70\n",
       "   5 │ SG000061641  DAKAR YOFF, SG  1973-01-07     71"
      ]
     },
     "execution_count": 36,
     "metadata": {},
     "output_type": "execute_result"
    }
   ],
   "source": [
    "data_folder = \"Data/\"\n",
    "file_name   = \"2947732.csv\" #\"weatherstats_montreal_daily.csv\" ou \"2947732.csv\"\n",
    "ville       = \"Dakar\" #\"Montréal\" ou \"Dakar\"\n",
    "df = DataFrame(CSV.File(data_folder * file_name))\n",
    "first(df, 5)"
   ]
  },
  {
   "cell_type": "code",
   "execution_count": 37,
   "id": "3bb87a9f",
   "metadata": {},
   "outputs": [
    {
     "data": {
      "text/plain": [
       "to_C (generic function with 1 method)"
      ]
     },
     "execution_count": 37,
     "metadata": {},
     "output_type": "execute_result"
    }
   ],
   "source": [
    "to_C(x) = (x-32) *5 /9"
   ]
  },
  {
   "cell_type": "code",
   "execution_count": 38,
   "id": "d237687b",
   "metadata": {},
   "outputs": [
    {
     "data": {
      "text/plain": [
       "2022-04-15"
      ]
     },
     "execution_count": 38,
     "metadata": {},
     "output_type": "execute_result"
    }
   ],
   "source": [
    "if(ville == \"Dakar\")\n",
    "    rename!(df,:DATE => :date)\n",
    "    rename!(df,:TAVG => :avg_temperature)\n",
    "    df.avg_temperature = to_C.(df.avg_temperature)\n",
    "elseif (ville == \"Montréal\")\n",
    "    df = reverse(df)\n",
    "end\n",
    "last(df.date)"
   ]
  },
  {
   "cell_type": "code",
   "execution_count": 39,
   "id": "785af97a",
   "metadata": {},
   "outputs": [
    {
     "data": {
      "text/plain": [
       "17816"
      ]
     },
     "execution_count": 39,
     "metadata": {},
     "output_type": "execute_result"
    }
   ],
   "source": [
    "nrow(df)"
   ]
  },
  {
   "cell_type": "code",
   "execution_count": 40,
   "id": "5f6ec5a1",
   "metadata": {},
   "outputs": [
    {
     "data": {
      "text/plain": [
       "4"
      ]
     },
     "execution_count": 40,
     "metadata": {},
     "output_type": "execute_result"
    }
   ],
   "source": [
    "ncol(df)"
   ]
  },
  {
   "cell_type": "markdown",
   "id": "15508107",
   "metadata": {},
   "source": [
    "#### Train Test split"
   ]
  },
  {
   "cell_type": "code",
   "execution_count": 41,
   "id": "060f8f01",
   "metadata": {},
   "outputs": [
    {
     "data": {
      "text/html": [
       "<p>DataFrameRow (4 columns)</p><div class=\"data-frame\"><table class=\"data-frame\"><thead><tr><th></th><th>STATION</th><th>NAME</th><th>date</th><th>avg_temperature</th></tr><tr><th></th><th title=\"String15\">String15</th><th title=\"String15\">String15</th><th title=\"Date\">Date</th><th title=\"Float64\">Float64</th></tr></thead><tbody><tr><th>2657</th><td>SG000061641</td><td>DAKAR YOFF, SG</td><td>2022-04-15</td><td>21.6667</td></tr></tbody></table></div>"
      ],
      "text/latex": [
       "\\begin{tabular}{r|cccc}\n",
       "\t& STATION & NAME & date & avg\\_temperature\\\\\n",
       "\t\\hline\n",
       "\t& String15 & String15 & Date & Float64\\\\\n",
       "\t\\hline\n",
       "\t2657 & SG000061641 & DAKAR YOFF, SG & 2022-04-15 & 21.6667 \\\\\n",
       "\\end{tabular}\n"
      ],
      "text/plain": [
       "\u001b[1mDataFrameRow\u001b[0m\n",
       "\u001b[1m  Row \u001b[0m│\u001b[1m STATION     \u001b[0m\u001b[1m NAME           \u001b[0m\u001b[1m date       \u001b[0m\u001b[1m avg_temperature \u001b[0m\n",
       "\u001b[1m      \u001b[0m│\u001b[90m String15    \u001b[0m\u001b[90m String15       \u001b[0m\u001b[90m Date       \u001b[0m\u001b[90m Float64         \u001b[0m\n",
       "──────┼──────────────────────────────────────────────────────────\n",
       " 2657 │ SG000061641  DAKAR YOFF, SG  2022-04-15          21.6667"
      ]
     },
     "execution_count": 41,
     "metadata": {},
     "output_type": "execute_result"
    }
   ],
   "source": [
    "date1, date2 = Date(\"1980-01-01\"), Date(\"2015-01-01\")\n",
    "train_df = df[date2 .> df.date .>= date1, :]\n",
    "test_df  = df[df.date .>= Date(\"2015-01-01\"), :]\n",
    "last(test_df)"
   ]
  },
  {
   "cell_type": "code",
   "execution_count": 42,
   "id": "8958d7cc",
   "metadata": {
    "scrolled": true
   },
   "outputs": [
    {
     "data": {
      "text/html": [
       "<div class=\"data-frame\"><p>5 rows × 4 columns</p><table class=\"data-frame\"><thead><tr><th></th><th>STATION</th><th>NAME</th><th>date</th><th>avg_temperature</th></tr><tr><th></th><th title=\"String15\">String15</th><th title=\"String15\">String15</th><th title=\"Date\">Date</th><th title=\"Float64\">Float64</th></tr></thead><tbody><tr><th>1</th><td>SG000061641</td><td>DAKAR YOFF, SG</td><td>1980-01-01</td><td>23.3333</td></tr><tr><th>2</th><td>SG000061641</td><td>DAKAR YOFF, SG</td><td>1980-01-02</td><td>22.7778</td></tr><tr><th>3</th><td>SG000061641</td><td>DAKAR YOFF, SG</td><td>1980-01-03</td><td>22.2222</td></tr><tr><th>4</th><td>SG000061641</td><td>DAKAR YOFF, SG</td><td>1980-01-04</td><td>22.2222</td></tr><tr><th>5</th><td>SG000061641</td><td>DAKAR YOFF, SG</td><td>1980-01-05</td><td>21.6667</td></tr></tbody></table></div>"
      ],
      "text/latex": [
       "\\begin{tabular}{r|cccc}\n",
       "\t& STATION & NAME & date & avg\\_temperature\\\\\n",
       "\t\\hline\n",
       "\t& String15 & String15 & Date & Float64\\\\\n",
       "\t\\hline\n",
       "\t1 & SG000061641 & DAKAR YOFF, SG & 1980-01-01 & 23.3333 \\\\\n",
       "\t2 & SG000061641 & DAKAR YOFF, SG & 1980-01-02 & 22.7778 \\\\\n",
       "\t3 & SG000061641 & DAKAR YOFF, SG & 1980-01-03 & 22.2222 \\\\\n",
       "\t4 & SG000061641 & DAKAR YOFF, SG & 1980-01-04 & 22.2222 \\\\\n",
       "\t5 & SG000061641 & DAKAR YOFF, SG & 1980-01-05 & 21.6667 \\\\\n",
       "\\end{tabular}\n"
      ],
      "text/plain": [
       "\u001b[1m5×4 DataFrame\u001b[0m\n",
       "\u001b[1m Row \u001b[0m│\u001b[1m STATION     \u001b[0m\u001b[1m NAME           \u001b[0m\u001b[1m date       \u001b[0m\u001b[1m avg_temperature \u001b[0m\n",
       "\u001b[1m     \u001b[0m│\u001b[90m String15    \u001b[0m\u001b[90m String15       \u001b[0m\u001b[90m Date       \u001b[0m\u001b[90m Float64         \u001b[0m\n",
       "─────┼──────────────────────────────────────────────────────────\n",
       "   1 │ SG000061641  DAKAR YOFF, SG  1980-01-01          23.3333\n",
       "   2 │ SG000061641  DAKAR YOFF, SG  1980-01-02          22.7778\n",
       "   3 │ SG000061641  DAKAR YOFF, SG  1980-01-03          22.2222\n",
       "   4 │ SG000061641  DAKAR YOFF, SG  1980-01-04          22.2222\n",
       "   5 │ SG000061641  DAKAR YOFF, SG  1980-01-05          21.6667"
      ]
     },
     "execution_count": 42,
     "metadata": {},
     "output_type": "execute_result"
    }
   ],
   "source": [
    "first(train_df, 5)"
   ]
  },
  {
   "cell_type": "code",
   "execution_count": 43,
   "id": "68b97e17",
   "metadata": {},
   "outputs": [
    {
     "data": {
      "text/html": [
       "<div class=\"data-frame\"><p>5 rows × 4 columns</p><table class=\"data-frame\"><thead><tr><th></th><th>STATION</th><th>NAME</th><th>date</th><th>avg_temperature</th></tr><tr><th></th><th title=\"String15\">String15</th><th title=\"String15\">String15</th><th title=\"Date\">Date</th><th title=\"Float64\">Float64</th></tr></thead><tbody><tr><th>1</th><td>SG000061641</td><td>DAKAR YOFF, SG</td><td>2015-01-01</td><td>22.2222</td></tr><tr><th>2</th><td>SG000061641</td><td>DAKAR YOFF, SG</td><td>2015-01-02</td><td>22.2222</td></tr><tr><th>3</th><td>SG000061641</td><td>DAKAR YOFF, SG</td><td>2015-01-03</td><td>23.3333</td></tr><tr><th>4</th><td>SG000061641</td><td>DAKAR YOFF, SG</td><td>2015-01-04</td><td>23.8889</td></tr><tr><th>5</th><td>SG000061641</td><td>DAKAR YOFF, SG</td><td>2015-01-05</td><td>22.7778</td></tr></tbody></table></div>"
      ],
      "text/latex": [
       "\\begin{tabular}{r|cccc}\n",
       "\t& STATION & NAME & date & avg\\_temperature\\\\\n",
       "\t\\hline\n",
       "\t& String15 & String15 & Date & Float64\\\\\n",
       "\t\\hline\n",
       "\t1 & SG000061641 & DAKAR YOFF, SG & 2015-01-01 & 22.2222 \\\\\n",
       "\t2 & SG000061641 & DAKAR YOFF, SG & 2015-01-02 & 22.2222 \\\\\n",
       "\t3 & SG000061641 & DAKAR YOFF, SG & 2015-01-03 & 23.3333 \\\\\n",
       "\t4 & SG000061641 & DAKAR YOFF, SG & 2015-01-04 & 23.8889 \\\\\n",
       "\t5 & SG000061641 & DAKAR YOFF, SG & 2015-01-05 & 22.7778 \\\\\n",
       "\\end{tabular}\n"
      ],
      "text/plain": [
       "\u001b[1m5×4 DataFrame\u001b[0m\n",
       "\u001b[1m Row \u001b[0m│\u001b[1m STATION     \u001b[0m\u001b[1m NAME           \u001b[0m\u001b[1m date       \u001b[0m\u001b[1m avg_temperature \u001b[0m\n",
       "\u001b[1m     \u001b[0m│\u001b[90m String15    \u001b[0m\u001b[90m String15       \u001b[0m\u001b[90m Date       \u001b[0m\u001b[90m Float64         \u001b[0m\n",
       "─────┼──────────────────────────────────────────────────────────\n",
       "   1 │ SG000061641  DAKAR YOFF, SG  2015-01-01          22.2222\n",
       "   2 │ SG000061641  DAKAR YOFF, SG  2015-01-02          22.2222\n",
       "   3 │ SG000061641  DAKAR YOFF, SG  2015-01-03          23.3333\n",
       "   4 │ SG000061641  DAKAR YOFF, SG  2015-01-04          23.8889\n",
       "   5 │ SG000061641  DAKAR YOFF, SG  2015-01-05          22.7778"
      ]
     },
     "execution_count": 43,
     "metadata": {},
     "output_type": "execute_result"
    }
   ],
   "source": [
    "first(test_df, 5)"
   ]
  },
  {
   "cell_type": "code",
   "execution_count": 44,
   "id": "6ac7fe3e",
   "metadata": {},
   "outputs": [
    {
     "data": {
      "text/plain": [
       "2657-element Vector{Float64}:\n",
       " 22.22222222222222\n",
       " 22.22222222222222\n",
       " 23.333333333333332\n",
       " 23.88888888888889\n",
       " 22.77777777777778\n",
       " 22.22222222222222\n",
       " 21.666666666666668\n",
       " 21.11111111111111\n",
       " 21.11111111111111\n",
       " 21.11111111111111\n",
       " 21.666666666666668\n",
       " 21.11111111111111\n",
       " 20.555555555555557\n",
       "  ⋮\n",
       " 20.555555555555557\n",
       " 21.11111111111111\n",
       " 21.666666666666668\n",
       " 22.77777777777778\n",
       " 23.88888888888889\n",
       " 22.77777777777778\n",
       " 21.666666666666668\n",
       " 20.555555555555557\n",
       " 20.555555555555557\n",
       " 21.11111111111111\n",
       " 21.666666666666668\n",
       " 21.666666666666668"
      ]
     },
     "execution_count": 44,
     "metadata": {},
     "output_type": "execute_result"
    }
   ],
   "source": [
    "## Get the data\n",
    "jours_train = [i for i in 1:length(train_df.avg_temperature)]\n",
    "temp_train  = train_df.avg_temperature\n",
    "jours_test  = [last(jours_train) + i for i in 1:length(test_df.avg_temperature)]\n",
    "temp_test   = test_df.avg_temperature"
   ]
  },
  {
   "cell_type": "code",
   "execution_count": 45,
   "id": "0ad149a3",
   "metadata": {},
   "outputs": [
    {
     "data": {
      "text/plain": [
       "12766"
      ]
     },
     "execution_count": 45,
     "metadata": {},
     "output_type": "execute_result"
    }
   ],
   "source": [
    "last(jours_train)"
   ]
  },
  {
   "cell_type": "code",
   "execution_count": 46,
   "id": "e7ededfa",
   "metadata": {},
   "outputs": [
    {
     "data": {
      "text/plain": [
       "12767"
      ]
     },
     "execution_count": 46,
     "metadata": {},
     "output_type": "execute_result"
    }
   ],
   "source": [
    "jours_test[1]"
   ]
  },
  {
   "cell_type": "markdown",
   "id": "74a2e4c6",
   "metadata": {},
   "source": [
    "### Création des matrices associées aux modèles\n",
    "\n",
    "$$f_s(x, d) = x_1 + x_2d + x_3 cos(\\cfrac{2 \\pi d}{365.25})+ x_4 sin(\\cfrac{2\\pi d}{365.25}) + x_5 cos(\\cfrac{2\\pi d}{10.7 \\times 365.25})+ x_6 sin(\\cfrac{2\\pi d}{10.7 \\times 365.25}); \\forall (x, d) \\in \\mathbb{R}^6 \\times \\mathbb{R}.$$\n",
    "\n",
    "$$f_h(x, d) = x_1 + x_2d + x_3 cos(\\cfrac{2 \\pi d}{365.25})+ x_4 sin(\\cfrac{2\\pi d}{365.25}) + x_5 cos(\\cfrac{2\\pi d}{10.7 \\times 365.25})+ x_6 sin(\\cfrac{2\\pi d}{10.7 \\times 365.25}) + x_7 cos(\\cfrac{4 \\pi d}{365.25})+ x_8 sin(\\cfrac{4\\pi d}{365.25}); \\forall (x, d) \\in \\mathbb{R}^8 \\times \\mathbb{R}.$$\n",
    "\n",
    "Chaque colonne de la matrice $A_s$ du modèle simple $f_s$ représente un membre de la fonction polynomiale en $x$. On minimise donc :\n",
    "$$\\underset{x \\in \\mathbb{R}^6 }{min}||A_s x - b||_2.$$\n",
    "\n",
    "Pareillement pour $A_h$ et le modèle avec les harmoniques $f_h$."
   ]
  },
  {
   "cell_type": "code",
   "execution_count": 47,
   "id": "459c574d",
   "metadata": {},
   "outputs": [
    {
     "data": {
      "text/plain": [
       "2657×8 Matrix{Float64}:\n",
       " 1.0  12767.0  0.958774  -0.28417    …   0.994472  -0.97795   -0.208839\n",
       " 1.0  12768.0  0.96352   -0.267636       0.994302  -0.977273  -0.211983\n",
       " 1.0  12769.0  0.967981  -0.251022       0.994129  -0.976587  -0.215124\n",
       " 1.0  12770.0  0.972156  -0.234334       0.993954  -0.97589   -0.218263\n",
       " 1.0  12771.0  0.976043  -0.217577       0.993776  -0.975183  -0.2214\n",
       " 1.0  12772.0  0.979641  -0.200755   …   0.993596  -0.974466  -0.224534\n",
       " 1.0  12773.0  0.98295   -0.183874       0.993413  -0.973739  -0.227666\n",
       " 1.0  12774.0  0.985967  -0.166938       0.993228  -0.973002  -0.230796\n",
       " 1.0  12775.0  0.988693  -0.149953       0.99304   -0.972255  -0.233924\n",
       " 1.0  12776.0  0.991126  -0.132924       0.992849  -0.971498  -0.237049\n",
       " 1.0  12777.0  0.993266  -0.115856   …   0.992656  -0.970731  -0.240171\n",
       " 1.0  12778.0  0.995112  -0.0987527      0.99246   -0.969953  -0.243291\n",
       " 1.0  12779.0  0.996663  -0.0816206      0.992262  -0.969166  -0.246409\n",
       " ⋮                                   ⋱   ⋮                    \n",
       " 1.0  15412.0  0.334263   0.94248    …  -0.347422   0.758596  -0.651561\n",
       " 1.0  15413.0  0.318001   0.94809       -0.345914   0.760687  -0.649118\n",
       " 1.0  15414.0  0.301646   0.95342       -0.344405   0.762771  -0.646669\n",
       " 1.0  15415.0  0.285201   0.958468      -0.342895   0.764846  -0.644213\n",
       " 1.0  15416.0  0.268671   0.963232      -0.341384   0.766914  -0.64175\n",
       " 1.0  15417.0  0.252062   0.967711   …  -0.339873   0.768973  -0.639281\n",
       " 1.0  15418.0  0.235379   0.971904      -0.33836    0.771025  -0.636805\n",
       " 1.0  15419.0  0.218626   0.975809      -0.336847   0.773068  -0.634323\n",
       " 1.0  15420.0  0.201808   0.979425      -0.335333   0.775104  -0.631834\n",
       " 1.0  15421.0  0.184931   0.982752      -0.333818   0.777131  -0.629338\n",
       " 1.0  15422.0  0.167998   0.985787   …  -0.332302   0.779151  -0.626836\n",
       " 1.0  15423.0  0.151016   0.988531      -0.330785   0.781162  -0.624328"
      ]
     },
     "execution_count": 47,
     "metadata": {},
     "output_type": "execute_result"
    }
   ],
   "source": [
    "A_S = [ones(length(jours_train)) jours_train cos.(2*pi*jours_train/365.25) sin.(2*pi*jours_train/365.25) cos.(2*pi*jours_train/(10.7*365.25)) sin.(2*pi*jours_train/(10.7*365.25))]\n",
    "A_H = [ones(length(jours_train)) jours_train cos.(2*pi*jours_train/365.25) sin.(2*pi*jours_train/365.25) cos.(2*pi*jours_train/(10.7*365.25)) sin.(2*pi*jours_train/(10.7*365.25)) cos.(4*pi*jours_train/(10.7*365.25)) sin.(4*pi*jours_train/(10.7*365.25))]\n",
    "\n",
    "A_S_test = [ones(length(jours_test)) jours_test cos.(2*pi*jours_test/365.25) sin.(2*pi*jours_test/365.25) cos.(2*pi*jours_test/(10.7*365.25)) sin.(2*pi*jours_test/(10.7*365.25))]\n",
    "A_H_test = [ones(length(jours_test)) jours_test cos.(2*pi*jours_test/365.25) sin.(2*pi*jours_test/365.25) cos.(2*pi*jours_test/(10.7*365.25)) sin.(2*pi*jours_test/(10.7*365.25)) cos.(4*pi*jours_test/(10.7*365.25)) sin.(4*pi*jours_test/(10.7*365.25))]"
   ]
  },
  {
   "cell_type": "markdown",
   "id": "7807c34b",
   "metadata": {},
   "source": [
    "#### Solving Simple Model"
   ]
  },
  {
   "cell_type": "code",
   "execution_count": 48,
   "id": "4c21c54a",
   "metadata": {
    "scrolled": true
   },
   "outputs": [
    {
     "data": {
      "text/plain": [
       "([23.8113539114354, 8.586517218558154e-5, -2.2807755309041413, -3.0239449953105195, -0.025811975903185586, -0.0022508610843897736], Simple stats\n",
       " niter: 7\n",
       " solved: true\n",
       " inconsistent: false\n",
       " residuals: []\n",
       " Aresiduals: []\n",
       " κ₂(A): []\n",
       " status: solution good enough given atol and rtol\n",
       ")"
      ]
     },
     "execution_count": 48,
     "metadata": {},
     "output_type": "execute_result"
    }
   ],
   "source": [
    "(x_s, stats) = Krylov.cgls(A_S, temp_train)"
   ]
  },
  {
   "cell_type": "markdown",
   "id": "7f7f0577",
   "metadata": {},
   "source": [
    "##### RSS $||Ax -b||_2^2$"
   ]
  },
  {
   "cell_type": "code",
   "execution_count": 49,
   "id": "c0f9b5f0",
   "metadata": {},
   "outputs": [
    {
     "data": {
      "text/plain": [
       "23813.142810470457"
      ]
     },
     "execution_count": 49,
     "metadata": {},
     "output_type": "execute_result"
    }
   ],
   "source": [
    "RSS_S = norm(A_S*x_s - temp_train, 2)^2"
   ]
  },
  {
   "cell_type": "code",
   "execution_count": 50,
   "id": "6c8287ac",
   "metadata": {},
   "outputs": [
    {
     "data": {
      "text/plain": [
       "5607.653724192067"
      ]
     },
     "execution_count": 50,
     "metadata": {},
     "output_type": "execute_result"
    }
   ],
   "source": [
    "RSS_S_test = norm(A_S_test*x_s - temp_test, 2)^2"
   ]
  },
  {
   "cell_type": "code",
   "execution_count": 51,
   "id": "43728e49",
   "metadata": {},
   "outputs": [
    {
     "name": "stdout",
     "output_type": "stream",
     "text": [
      "1.8653566356314004 et pour l'ensemble test 2.1105207844155314"
     ]
    }
   ],
   "source": [
    "print(RSS_S/length(temp_train), \" et pour l'ensemble test \", RSS_S_test/length(temp_test))"
   ]
  },
  {
   "cell_type": "markdown",
   "id": "f8b75946",
   "metadata": {},
   "source": [
    "#### Solving Harmonic Model"
   ]
  },
  {
   "cell_type": "code",
   "execution_count": 52,
   "id": "e524ff25",
   "metadata": {},
   "outputs": [
    {
     "data": {
      "text/plain": [
       "([23.812286377951963, 8.555933613713956e-5, -2.280174709455148, -3.02279253573349, -0.02491388605867672, -0.0060306472450724815, -0.0630992753666203, 0.018361366048328526], Simple stats\n",
       " niter: 7\n",
       " solved: true\n",
       " inconsistent: false\n",
       " residuals: []\n",
       " Aresiduals: []\n",
       " κ₂(A): []\n",
       " status: solution good enough given atol and rtol\n",
       ")"
      ]
     },
     "execution_count": 52,
     "metadata": {},
     "output_type": "execute_result"
    }
   ],
   "source": [
    "(x_h, stats) = Krylov.cgls(A_H, temp_train)"
   ]
  },
  {
   "cell_type": "markdown",
   "id": "ada3a356",
   "metadata": {},
   "source": [
    "##### RSS $||Ax -b||_2^2$"
   ]
  },
  {
   "cell_type": "code",
   "execution_count": 53,
   "id": "097306e4",
   "metadata": {},
   "outputs": [
    {
     "data": {
      "text/plain": [
       "23785.92004358601"
      ]
     },
     "execution_count": 53,
     "metadata": {},
     "output_type": "execute_result"
    }
   ],
   "source": [
    "RSS_H = norm(A_H*x_h - temp_train,2 )^2"
   ]
  },
  {
   "cell_type": "code",
   "execution_count": 54,
   "id": "03e75536",
   "metadata": {},
   "outputs": [
    {
     "data": {
      "text/plain": [
       "5607.211142108986"
      ]
     },
     "execution_count": 54,
     "metadata": {},
     "output_type": "execute_result"
    }
   ],
   "source": [
    "RSS_H_test = norm(A_H_test*x_h - temp_test,2 )^2"
   ]
  },
  {
   "cell_type": "code",
   "execution_count": 55,
   "id": "52cf3067",
   "metadata": {},
   "outputs": [
    {
     "name": "stdout",
     "output_type": "stream",
     "text": [
      "1.8632241926669286 et pour l'ensemble test 2.110354212310495"
     ]
    }
   ],
   "source": [
    "print(RSS_H/length(temp_train), \" et pour l'ensemble test \", RSS_H_test/length(temp_test))"
   ]
  },
  {
   "cell_type": "markdown",
   "id": "92654004",
   "metadata": {},
   "source": [
    "#### Comparaison du modèle Simple et du modèle Harmonique"
   ]
  },
  {
   "cell_type": "code",
   "execution_count": 56,
   "id": "3981ad2e",
   "metadata": {},
   "outputs": [
    {
     "data": {
      "text/plain": [
       "true"
      ]
     },
     "execution_count": 56,
     "metadata": {},
     "output_type": "execute_result"
    }
   ],
   "source": [
    "RSS_H < RSS_S"
   ]
  },
  {
   "cell_type": "code",
   "execution_count": 57,
   "id": "c99cc266",
   "metadata": {},
   "outputs": [
    {
     "data": {
      "text/plain": [
       "true"
      ]
     },
     "execution_count": 57,
     "metadata": {},
     "output_type": "execute_result"
    }
   ],
   "source": [
    "RSS_H_test < RSS_S_test"
   ]
  },
  {
   "cell_type": "markdown",
   "id": "66c2dd83",
   "metadata": {},
   "source": [
    "Le modèle harmonique est plus performant sur les données **test** et **train**."
   ]
  },
  {
   "cell_type": "markdown",
   "id": "34412172",
   "metadata": {},
   "source": [
    "### Plotting Results"
   ]
  },
  {
   "cell_type": "code",
   "execution_count": 58,
   "id": "60397d71",
   "metadata": {
    "scrolled": true
   },
   "outputs": [
    {
     "data": {
      "text/plain": [
       "15423-element Vector{Float64}:\n",
       " 23.333333333333332\n",
       " 22.77777777777778\n",
       " 22.22222222222222\n",
       " 22.22222222222222\n",
       " 21.666666666666668\n",
       " 21.666666666666668\n",
       " 21.11111111111111\n",
       " 21.11111111111111\n",
       " 20.0\n",
       " 20.555555555555557\n",
       " 21.11111111111111\n",
       " 22.22222222222222\n",
       " 21.666666666666668\n",
       "  ⋮\n",
       " 20.555555555555557\n",
       " 21.11111111111111\n",
       " 21.666666666666668\n",
       " 22.77777777777778\n",
       " 23.88888888888889\n",
       " 22.77777777777778\n",
       " 21.666666666666668\n",
       " 20.555555555555557\n",
       " 20.555555555555557\n",
       " 21.11111111111111\n",
       " 21.666666666666668\n",
       " 21.666666666666668"
      ]
     },
     "execution_count": 58,
     "metadata": {},
     "output_type": "execute_result"
    }
   ],
   "source": [
    "pred_S = vcat(A_S*x_s, A_S_test*x_s)\n",
    "pred_H = vcat(A_H*x_h, A_H_test*x_h)\n",
    "dates  = vcat(train_df.date, test_df.date)\n",
    "temp   = vcat(temp_train, temp_test)"
   ]
  },
  {
   "cell_type": "code",
   "execution_count": 59,
   "id": "168ac64d",
   "metadata": {},
   "outputs": [],
   "source": [
    "using Plots\n",
    "gr()\n",
    "scatter(dates, temp, label=\"Température de \" * ville, markersize=1, markercolor=\"blue\")\n",
    "p = plot!(dates, [pred_S pred_H], title=\"Prédiction des Modèles pour \"*ville, label=[\"Modèle Simple\" \"Modèle avec Harmoniques\"], linecolor=[\"red\" \"cyan\"], legend=:bottomright)\n",
    "xlabel!(\"Time t\")\n",
    "ylabel!(\"Temperature C\")\n",
    "plot!(size=(1000,400))\n",
    "savefig(\"Results/Two_Models_\"* ville *\".png\")"
   ]
  }
 ],
 "metadata": {
  "kernelspec": {
   "display_name": "Julia 1.7.1",
   "language": "julia",
   "name": "julia-1.7"
  },
  "language_info": {
   "file_extension": ".jl",
   "mimetype": "application/julia",
   "name": "julia",
   "version": "1.7.1"
  }
 },
 "nbformat": 4,
 "nbformat_minor": 5
}
