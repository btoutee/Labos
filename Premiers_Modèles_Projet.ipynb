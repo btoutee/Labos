{
 "cells": [
  {
   "cell_type": "code",
   "execution_count": 3,
   "id": "99ccb211",
   "metadata": {},
   "outputs": [
    {
     "name": "stderr",
     "output_type": "stream",
     "text": [
      "\u001b[32m\u001b[1m  Activating\u001b[22m\u001b[39m project at `D:\\Documents\\School Projects\\MTH8408\\Projet`\n"
     ]
    }
   ],
   "source": [
    "using Pkg; Pkg.activate(\".\")"
   ]
  },
  {
   "cell_type": "code",
   "execution_count": 4,
   "id": "cd597de2",
   "metadata": {},
   "outputs": [
    {
     "name": "stderr",
     "output_type": "stream",
     "text": [
      "\u001b[32m\u001b[1m   Installed\u001b[22m\u001b[39m NaNMath ───────────── v1.0.0\n",
      "\u001b[32m\u001b[1m   Installed\u001b[22m\u001b[39m SetRounding ───────── v0.2.1\n",
      "\u001b[32m\u001b[1m   Installed\u001b[22m\u001b[39m Preferences ───────── v1.2.4\n",
      "\u001b[32m\u001b[1m   Installed\u001b[22m\u001b[39m RoundingEmulator ──── v0.2.1\n",
      "\u001b[32m\u001b[1m   Installed\u001b[22m\u001b[39m FastRounding ──────── v0.2.0\n",
      "\u001b[32m\u001b[1m   Installed\u001b[22m\u001b[39m RecipesPipeline ───── v0.5.1\n",
      "\u001b[32m\u001b[1m   Installed\u001b[22m\u001b[39m StaticArrays ──────── v1.4.0\n",
      "\u001b[32m\u001b[1m   Installed\u001b[22m\u001b[39m Plots ─────────────── v1.25.11\n",
      "\u001b[32m\u001b[1m   Installed\u001b[22m\u001b[39m CRlibm_jll ────────── v1.0.1+0\n",
      "\u001b[32m\u001b[1m   Installed\u001b[22m\u001b[39m ErrorfreeArithmetic ─ v0.5.2\n",
      "\u001b[32m\u001b[1m   Installed\u001b[22m\u001b[39m Latexify ──────────── v0.15.12\n",
      "\u001b[32m\u001b[1m   Installed\u001b[22m\u001b[39m IntervalArithmetic ── v0.20.3\n",
      "\u001b[32m\u001b[1m   Installed\u001b[22m\u001b[39m CRlibm ────────────── v1.0.1\n",
      "\u001b[32m\u001b[1mPrecompiling\u001b[22m\u001b[39m project...\n",
      "\u001b[32m  ✓ \u001b[39m\u001b[90mSetRounding\u001b[39m\n",
      "\u001b[32m  ✓ \u001b[39m\u001b[90mNaNMath\u001b[39m\n",
      "\u001b[33m  ✓ \u001b[39m\u001b[90mPreferences\u001b[39m\n",
      "\u001b[32m  ✓ \u001b[39m\u001b[90mErrorfreeArithmetic\u001b[39m\n",
      "\u001b[32m  ✓ \u001b[39m\u001b[90mRoundingEmulator\u001b[39m\n",
      "\u001b[32m  ✓ \u001b[39m\u001b[90mFastRounding\u001b[39m\n",
      "\u001b[33m  ✓ \u001b[39m\u001b[90mJLLWrappers\u001b[39m\n",
      "\u001b[32m  ✓ \u001b[39m\u001b[90mLatexify\u001b[39m\n",
      "\u001b[32m  ✓ \u001b[39m\u001b[90mCRlibm_jll\u001b[39m\n",
      "\u001b[32m  ✓ \u001b[39m\u001b[90mOpenSSL_jll\u001b[39m\n",
      "\u001b[32m  ✓ \u001b[39m\u001b[90mOgg_jll\u001b[39m\n",
      "\u001b[32m  ✓ \u001b[39m\u001b[90mOpus_jll\u001b[39m\n",
      "\u001b[32m  ✓ \u001b[39m\u001b[90mEarCut_jll\u001b[39m\n",
      "\u001b[32m  ✓ \u001b[39m\u001b[90mJpegTurbo_jll\u001b[39m\n",
      "\u001b[32m  ✓ \u001b[39m\u001b[90mXorg_libXau_jll\u001b[39m\n",
      "\u001b[32m  ✓ \u001b[39m\u001b[90mXorg_libXdmcp_jll\u001b[39m\n",
      "\u001b[32m  ✓ \u001b[39m\u001b[90mXorg_xtrans_jll\u001b[39m\n",
      "\u001b[32m  ✓ \u001b[39m\u001b[90mlibpng_jll\u001b[39m\n",
      "\u001b[32m  ✓ \u001b[39m\u001b[90mlibfdk_aac_jll\u001b[39m\n",
      "\u001b[32m  ✓ \u001b[39m\u001b[90mx265_jll\u001b[39m\n",
      "\u001b[32m  ✓ \u001b[39m\u001b[90mx264_jll\u001b[39m\n",
      "\u001b[32m  ✓ \u001b[39m\u001b[90mLibmount_jll\u001b[39m\n",
      "\u001b[32m  ✓ \u001b[39m\u001b[90mRecipesPipeline\u001b[39m\n",
      "\u001b[32m  ✓ \u001b[39m\u001b[90mGraphite2_jll\u001b[39m\n",
      "\u001b[32m  ✓ \u001b[39m\u001b[90mZstd_jll\u001b[39m\n",
      "\u001b[32m  ✓ \u001b[39m\u001b[90mLibiconv_jll\u001b[39m\n",
      "\u001b[32m  ✓ \u001b[39m\u001b[90mLibffi_jll\u001b[39m\n",
      "\u001b[32m  ✓ \u001b[39m\u001b[90mBzip2_jll\u001b[39m\n",
      "\u001b[32m  ✓ \u001b[39m\u001b[90mPCRE_jll\u001b[39m\n",
      "\u001b[32m  ✓ \u001b[39m\u001b[90mExpat_jll\u001b[39m\n",
      "\u001b[32m  ✓ \u001b[39m\u001b[90mWayland_protocols_jll\u001b[39m\n",
      "\u001b[33m  ✓ \u001b[39m\u001b[90mlibsodium_jll\u001b[39m\n",
      "\u001b[32m  ✓ \u001b[39m\u001b[90mLibgpg_error_jll\u001b[39m\n",
      "\u001b[32m  ✓ \u001b[39m\u001b[90mLZO_jll\u001b[39m\n",
      "\u001b[32m  ✓ \u001b[39m\u001b[90mXorg_libpthread_stubs_jll\u001b[39m\n",
      "\u001b[32m  ✓ \u001b[39m\u001b[90mLAME_jll\u001b[39m\n",
      "\u001b[32m  ✓ \u001b[39m\u001b[90mPixman_jll\u001b[39m\n",
      "\u001b[32m  ✓ \u001b[39m\u001b[90mFriBidi_jll\u001b[39m\n",
      "\u001b[32m  ✓ \u001b[39m\u001b[90mLibuuid_jll\u001b[39m\n",
      "\u001b[32m  ✓ \u001b[39m\u001b[90mCRlibm\u001b[39m\n",
      "\u001b[32m  ✓ \u001b[39m\u001b[90mlibvorbis_jll\u001b[39m\n",
      "\u001b[32m  ✓ \u001b[39m\u001b[90mLibtiff_jll\u001b[39m\n",
      "\u001b[32m  ✓ \u001b[39m\u001b[90mXML2_jll\u001b[39m\n",
      "\u001b[32m  ✓ \u001b[39m\u001b[90mFreeType2_jll\u001b[39m\n",
      "\u001b[32m  ✓ \u001b[39m\u001b[90mStaticArrays\u001b[39m\n",
      "\u001b[33m  ✓ \u001b[39m\u001b[90mZeroMQ_jll\u001b[39m\n",
      "\u001b[32m  ✓ \u001b[39m\u001b[90mLibgcrypt_jll\u001b[39m\n",
      "\u001b[32m  ✓ \u001b[39m\u001b[90mWayland_jll\u001b[39m\n",
      "\u001b[32m  ✓ \u001b[39m\u001b[90mFontconfig_jll\u001b[39m\n",
      "\u001b[32m  ✓ \u001b[39m\u001b[90mGettext_jll\u001b[39m\n",
      "\u001b[32m  ✓ \u001b[39m\u001b[90mXSLT_jll\u001b[39m\n",
      "\u001b[33m  ✓ \u001b[39m\u001b[90mZMQ\u001b[39m\n",
      "\u001b[32m  ✓ \u001b[39m\u001b[90mContour\u001b[39m\n",
      "\u001b[32m  ✓ \u001b[39m\u001b[90mGlib_jll\u001b[39m\n",
      "\u001b[32m  ✓ \u001b[39m\u001b[90mStructArrays\u001b[39m\n",
      "\u001b[32m  ✓ \u001b[39m\u001b[90mXorg_libxcb_jll\u001b[39m\n",
      "\u001b[32m  ✓ \u001b[39m\u001b[90mXorg_libX11_jll\u001b[39m\n",
      "\u001b[32m  ✓ \u001b[39m\u001b[90mXorg_xcb_util_jll\u001b[39m\n",
      "\u001b[33m  ✓ \u001b[39mIJulia\n",
      "\u001b[32m  ✓ \u001b[39mIntervalArithmetic\n",
      "\u001b[32m  ✓ \u001b[39m\u001b[90mXorg_libXext_jll\u001b[39m\n",
      "\u001b[32m  ✓ \u001b[39m\u001b[90mXorg_libXfixes_jll\u001b[39m\n",
      "\u001b[32m  ✓ \u001b[39m\u001b[90mXorg_libxkbfile_jll\u001b[39m\n",
      "\u001b[32m  ✓ \u001b[39m\u001b[90mXorg_xcb_util_image_jll\u001b[39m\n",
      "\u001b[32m  ✓ \u001b[39m\u001b[90mXorg_libXrender_jll\u001b[39m\n",
      "\u001b[32m  ✓ \u001b[39m\u001b[90mXorg_xcb_util_renderutil_jll\u001b[39m\n",
      "\u001b[32m  ✓ \u001b[39m\u001b[90mXorg_xcb_util_keysyms_jll\u001b[39m\n",
      "\u001b[32m  ✓ \u001b[39m\u001b[90mXorg_xcb_util_wm_jll\u001b[39m\n",
      "\u001b[32m  ✓ \u001b[39m\u001b[90mXorg_xkbcomp_jll\u001b[39m\n",
      "\u001b[32m  ✓ \u001b[39m\u001b[90mXorg_libXinerama_jll\u001b[39m\n",
      "\u001b[32m  ✓ \u001b[39m\u001b[90mLibglvnd_jll\u001b[39m\n",
      "\u001b[32m  ✓ \u001b[39m\u001b[90mXorg_libXi_jll\u001b[39m\n",
      "\u001b[32m  ✓ \u001b[39m\u001b[90mXorg_libXrandr_jll\u001b[39m\n",
      "\u001b[32m  ✓ \u001b[39m\u001b[90mCairo_jll\u001b[39m\n",
      "\u001b[32m  ✓ \u001b[39m\u001b[90mXorg_libXcursor_jll\u001b[39m\n",
      "\u001b[32m  ✓ \u001b[39m\u001b[90mXorg_xkeyboard_config_jll\u001b[39m\n",
      "\u001b[32m  ✓ \u001b[39m\u001b[90mHarfBuzz_jll\u001b[39m\n",
      "\u001b[32m  ✓ \u001b[39m\u001b[90mGLFW_jll\u001b[39m\n",
      "\u001b[32m  ✓ \u001b[39m\u001b[90mxkbcommon_jll\u001b[39m\n",
      "\u001b[32m  ✓ \u001b[39m\u001b[90mlibass_jll\u001b[39m\n",
      "\u001b[32m  ✓ \u001b[39m\u001b[90mQt5Base_jll\u001b[39m\n",
      "\u001b[32m  ✓ \u001b[39m\u001b[90mFFMPEG_jll\u001b[39m\n",
      "\u001b[32m  ✓ \u001b[39m\u001b[90mGeometryBasics\u001b[39m\n",
      "\u001b[32m  ✓ \u001b[39m\u001b[90mFFMPEG\u001b[39m\n",
      "\u001b[32m  ✓ \u001b[39m\u001b[90mGR_jll\u001b[39m\n",
      "\u001b[32m  ✓ \u001b[39m\u001b[90mGR\u001b[39m\n",
      "\u001b[32m  ✓ \u001b[39mPlots\n",
      "  87 dependencies successfully precompiled in 37 seconds (62 already precompiled)\n",
      "  \u001b[33m6\u001b[39m dependencies precompiled but different versions are currently loaded. Restart julia to access the new versions\n"
     ]
    }
   ],
   "source": [
    "Pkg.instantiate()"
   ]
  },
  {
   "cell_type": "code",
   "execution_count": 112,
   "id": "3c750a93",
   "metadata": {},
   "outputs": [
    {
     "name": "stderr",
     "output_type": "stream",
     "text": [
      "\u001b[32m\u001b[1m   Resolving\u001b[22m\u001b[39m package versions...\n",
      "\u001b[32m\u001b[1m  No Changes\u001b[22m\u001b[39m to `D:\\Documents\\School Projects\\MTH8408\\Projet\\Project.toml`\n",
      "\u001b[32m\u001b[1m  No Changes\u001b[22m\u001b[39m to `D:\\Documents\\School Projects\\MTH8408\\Projet\\Manifest.toml`\n",
      "\u001b[32m\u001b[1m   Resolving\u001b[22m\u001b[39m package versions...\n",
      "\u001b[32m\u001b[1m  No Changes\u001b[22m\u001b[39m to `D:\\Documents\\School Projects\\MTH8408\\Projet\\Project.toml`\n",
      "\u001b[32m\u001b[1m  No Changes\u001b[22m\u001b[39m to `D:\\Documents\\School Projects\\MTH8408\\Projet\\Manifest.toml`\n",
      "\u001b[32m\u001b[1m   Resolving\u001b[22m\u001b[39m package versions...\n",
      "\u001b[32m\u001b[1m  No Changes\u001b[22m\u001b[39m to `D:\\Documents\\School Projects\\MTH8408\\Projet\\Project.toml`\n",
      "\u001b[32m\u001b[1m  No Changes\u001b[22m\u001b[39m to `D:\\Documents\\School Projects\\MTH8408\\Projet\\Manifest.toml`\n",
      "\u001b[32m\u001b[1m   Resolving\u001b[22m\u001b[39m package versions...\n",
      "\u001b[32m\u001b[1m  No Changes\u001b[22m\u001b[39m to `D:\\Documents\\School Projects\\MTH8408\\Projet\\Project.toml`\n",
      "\u001b[32m\u001b[1m  No Changes\u001b[22m\u001b[39m to `D:\\Documents\\School Projects\\MTH8408\\Projet\\Manifest.toml`\n"
     ]
    }
   ],
   "source": [
    "Pkg.add(\"CSV\"); Pkg.add(\"DataFrames\"); Pkg.add(\"LsqFit\"); Pkg.add(\"Plots\")"
   ]
  },
  {
   "cell_type": "code",
   "execution_count": 102,
   "id": "87487ab1",
   "metadata": {},
   "outputs": [],
   "source": [
    "using DataFrames, LsqFit, CSV, Statistics"
   ]
  },
  {
   "cell_type": "markdown",
   "id": "c673139a",
   "metadata": {},
   "source": [
    "## Exploration des données"
   ]
  },
  {
   "cell_type": "code",
   "execution_count": 14,
   "id": "4521354b",
   "metadata": {
    "scrolled": true
   },
   "outputs": [
    {
     "data": {
      "text/html": [
       "<div class=\"data-frame\"><p>10,000 rows × 70 columns (omitted printing of 65 columns)</p><table class=\"data-frame\"><thead><tr><th></th><th>date</th><th>max_temperature</th><th>avg_hourly_temperature</th><th>avg_temperature</th><th>min_temperature</th></tr><tr><th></th><th title=\"Dates.Date\">Date</th><th title=\"Float64\">Float64</th><th title=\"Float64\">Float64</th><th title=\"Float64\">Float64</th><th title=\"Float64\">Float64</th></tr></thead><tbody><tr><th>1</th><td>2022-03-31</td><td>10.1</td><td>4.85</td><td>5.3</td><td>0.5</td></tr><tr><th>2</th><td>2022-03-30</td><td>3.0</td><td>-1.26</td><td>-2.35</td><td>-7.7</td></tr><tr><th>3</th><td>2022-03-29</td><td>-0.6</td><td>-4.58</td><td>-4.0</td><td>-7.4</td></tr><tr><th>4</th><td>2022-03-28</td><td>-6.9</td><td>-9.75</td><td>-9.55</td><td>-12.2</td></tr><tr><th>5</th><td>2022-03-27</td><td>2.5</td><td>-1.65</td><td>-3.5</td><td>-9.5</td></tr><tr><th>6</th><td>2022-03-26</td><td>7.1</td><td>4.04</td><td>4.25</td><td>1.4</td></tr><tr><th>7</th><td>2022-03-25</td><td>9.0</td><td>4.46</td><td>5.4</td><td>1.8</td></tr><tr><th>8</th><td>2022-03-24</td><td>8.2</td><td>4.37</td><td>4.55</td><td>0.9</td></tr><tr><th>9</th><td>2022-03-23</td><td>4.7</td><td>0.55</td><td>-0.25</td><td>-5.2</td></tr><tr><th>10</th><td>2022-03-22</td><td>4.5</td><td>0.42</td><td>0.44</td><td>-3.6</td></tr><tr><th>11</th><td>2022-03-21</td><td>6.5</td><td>2.32</td><td>2.7</td><td>-1.1</td></tr><tr><th>12</th><td>2022-03-20</td><td>5.4</td><td>3.33</td><td>2.7</td><td>0.0</td></tr><tr><th>13</th><td>2022-03-19</td><td>5.1</td><td>2.66</td><td>3.3</td><td>1.5</td></tr><tr><th>14</th><td>2022-03-18</td><td>9.2</td><td>6.14</td><td>5.4</td><td>1.6</td></tr><tr><th>15</th><td>2022-03-17</td><td>15.8</td><td>8.48</td><td>8.15</td><td>0.5</td></tr><tr><th>16</th><td>2022-03-16</td><td>6.8</td><td>1.94</td><td>0.89</td><td>-5.0</td></tr><tr><th>17</th><td>2022-03-15</td><td>2.3</td><td>0.56</td><td>-0.95</td><td>-4.2</td></tr><tr><th>18</th><td>2022-03-14</td><td>4.8</td><td>0.32</td><td>0.1</td><td>-4.6</td></tr><tr><th>19</th><td>2022-03-13</td><td>-3.5</td><td>-6.7</td><td>-6.95</td><td>-10.4</td></tr><tr><th>20</th><td>2022-03-12</td><td>-0.4</td><td>-3.14</td><td>-3.75</td><td>-7.1</td></tr><tr><th>21</th><td>2022-03-11</td><td>0.8</td><td>-0.97</td><td>-0.99</td><td>-2.8</td></tr><tr><th>22</th><td>2022-03-10</td><td>2.2</td><td>0.12</td><td>-0.54</td><td>-3.3</td></tr><tr><th>23</th><td>2022-03-09</td><td>3.2</td><td>-0.04</td><td>-0.54</td><td>-4.3</td></tr><tr><th>24</th><td>2022-03-08</td><td>-1.6</td><td>-3.35</td><td>-3.4</td><td>-5.2</td></tr><tr><th>25</th><td>2022-03-07</td><td>4.5</td><td>1.35</td><td>1.45</td><td>-1.6</td></tr><tr><th>26</th><td>2022-03-06</td><td>11.2</td><td>2.74</td><td>4.14</td><td>-2.9</td></tr><tr><th>27</th><td>2022-03-05</td><td>-0.6</td><td>-5.61</td><td>-8.35</td><td>-16.1</td></tr><tr><th>28</th><td>2022-03-04</td><td>-4.0</td><td>-10.07</td><td>-11.6</td><td>-19.2</td></tr><tr><th>29</th><td>2022-03-03</td><td>-6.2</td><td>-10.42</td><td>-11.9</td><td>-17.6</td></tr><tr><th>30</th><td>2022-03-02</td><td>-3.5</td><td>-7.7</td><td>-8.65</td><td>-13.8</td></tr><tr><th>&vellip;</th><td>&vellip;</td><td>&vellip;</td><td>&vellip;</td><td>&vellip;</td><td>&vellip;</td></tr></tbody></table></div>"
      ],
      "text/latex": [
       "\\begin{tabular}{r|cccccc}\n",
       "\t& date & max\\_temperature & avg\\_hourly\\_temperature & avg\\_temperature & min\\_temperature & \\\\\n",
       "\t\\hline\n",
       "\t& Date & Float64 & Float64 & Float64 & Float64 & \\\\\n",
       "\t\\hline\n",
       "\t1 & 2022-03-31 & 10.1 & 4.85 & 5.3 & 0.5 & $\\dots$ \\\\\n",
       "\t2 & 2022-03-30 & 3.0 & -1.26 & -2.35 & -7.7 & $\\dots$ \\\\\n",
       "\t3 & 2022-03-29 & -0.6 & -4.58 & -4.0 & -7.4 & $\\dots$ \\\\\n",
       "\t4 & 2022-03-28 & -6.9 & -9.75 & -9.55 & -12.2 & $\\dots$ \\\\\n",
       "\t5 & 2022-03-27 & 2.5 & -1.65 & -3.5 & -9.5 & $\\dots$ \\\\\n",
       "\t6 & 2022-03-26 & 7.1 & 4.04 & 4.25 & 1.4 & $\\dots$ \\\\\n",
       "\t7 & 2022-03-25 & 9.0 & 4.46 & 5.4 & 1.8 & $\\dots$ \\\\\n",
       "\t8 & 2022-03-24 & 8.2 & 4.37 & 4.55 & 0.9 & $\\dots$ \\\\\n",
       "\t9 & 2022-03-23 & 4.7 & 0.55 & -0.25 & -5.2 & $\\dots$ \\\\\n",
       "\t10 & 2022-03-22 & 4.5 & 0.42 & 0.44 & -3.6 & $\\dots$ \\\\\n",
       "\t11 & 2022-03-21 & 6.5 & 2.32 & 2.7 & -1.1 & $\\dots$ \\\\\n",
       "\t12 & 2022-03-20 & 5.4 & 3.33 & 2.7 & 0.0 & $\\dots$ \\\\\n",
       "\t13 & 2022-03-19 & 5.1 & 2.66 & 3.3 & 1.5 & $\\dots$ \\\\\n",
       "\t14 & 2022-03-18 & 9.2 & 6.14 & 5.4 & 1.6 & $\\dots$ \\\\\n",
       "\t15 & 2022-03-17 & 15.8 & 8.48 & 8.15 & 0.5 & $\\dots$ \\\\\n",
       "\t16 & 2022-03-16 & 6.8 & 1.94 & 0.89 & -5.0 & $\\dots$ \\\\\n",
       "\t17 & 2022-03-15 & 2.3 & 0.56 & -0.95 & -4.2 & $\\dots$ \\\\\n",
       "\t18 & 2022-03-14 & 4.8 & 0.32 & 0.1 & -4.6 & $\\dots$ \\\\\n",
       "\t19 & 2022-03-13 & -3.5 & -6.7 & -6.95 & -10.4 & $\\dots$ \\\\\n",
       "\t20 & 2022-03-12 & -0.4 & -3.14 & -3.75 & -7.1 & $\\dots$ \\\\\n",
       "\t21 & 2022-03-11 & 0.8 & -0.97 & -0.99 & -2.8 & $\\dots$ \\\\\n",
       "\t22 & 2022-03-10 & 2.2 & 0.12 & -0.54 & -3.3 & $\\dots$ \\\\\n",
       "\t23 & 2022-03-09 & 3.2 & -0.04 & -0.54 & -4.3 & $\\dots$ \\\\\n",
       "\t24 & 2022-03-08 & -1.6 & -3.35 & -3.4 & -5.2 & $\\dots$ \\\\\n",
       "\t25 & 2022-03-07 & 4.5 & 1.35 & 1.45 & -1.6 & $\\dots$ \\\\\n",
       "\t26 & 2022-03-06 & 11.2 & 2.74 & 4.14 & -2.9 & $\\dots$ \\\\\n",
       "\t27 & 2022-03-05 & -0.6 & -5.61 & -8.35 & -16.1 & $\\dots$ \\\\\n",
       "\t28 & 2022-03-04 & -4.0 & -10.07 & -11.6 & -19.2 & $\\dots$ \\\\\n",
       "\t29 & 2022-03-03 & -6.2 & -10.42 & -11.9 & -17.6 & $\\dots$ \\\\\n",
       "\t30 & 2022-03-02 & -3.5 & -7.7 & -8.65 & -13.8 & $\\dots$ \\\\\n",
       "\t$\\dots$ & $\\dots$ & $\\dots$ & $\\dots$ & $\\dots$ & $\\dots$ &  \\\\\n",
       "\\end{tabular}\n"
      ],
      "text/plain": [
       "\u001b[1m10000×70 DataFrame\u001b[0m\n",
       "\u001b[1m   Row \u001b[0m│\u001b[1m date       \u001b[0m\u001b[1m max_temperature \u001b[0m\u001b[1m avg_hourly_temperature \u001b[0m\u001b[1m avg_temperature \u001b[0m\u001b[1m\u001b[0m ⋯\n",
       "\u001b[1m       \u001b[0m│\u001b[90m Date       \u001b[0m\u001b[90m Float64         \u001b[0m\u001b[90m Float64                \u001b[0m\u001b[90m Float64         \u001b[0m\u001b[90m\u001b[0m ⋯\n",
       "───────┼────────────────────────────────────────────────────────────────────────\n",
       "     1 │ 2022-03-31             10.1                    4.85             5.3   ⋯\n",
       "     2 │ 2022-03-30              3.0                   -1.26            -2.35\n",
       "     3 │ 2022-03-29             -0.6                   -4.58            -4.0\n",
       "     4 │ 2022-03-28             -6.9                   -9.75            -9.55\n",
       "     5 │ 2022-03-27              2.5                   -1.65            -3.5   ⋯\n",
       "     6 │ 2022-03-26              7.1                    4.04             4.25\n",
       "     7 │ 2022-03-25              9.0                    4.46             5.4\n",
       "     8 │ 2022-03-24              8.2                    4.37             4.55\n",
       "     9 │ 2022-03-23              4.7                    0.55            -0.25  ⋯\n",
       "    10 │ 2022-03-22              4.5                    0.42             0.44\n",
       "    11 │ 2022-03-21              6.5                    2.32             2.7\n",
       "   ⋮   │     ⋮              ⋮                   ⋮                    ⋮         ⋱\n",
       "  9991 │ 1994-11-23              0.0                   -4.71            -3.9\n",
       "  9992 │ 1994-11-22             10.2                    4.17             4.14  ⋯\n",
       "  9993 │ 1994-11-21             11.2                    6.8              6.55\n",
       "  9994 │ 1994-11-20              6.7                    2.89             1.55\n",
       "  9995 │ 1994-11-19             12.0                    8.33             7.45\n",
       "  9996 │ 1994-11-18             15.3                    9.57             8.15  ⋯\n",
       "  9997 │ 1994-11-17             10.3                    3.87             3.45\n",
       "  9998 │ 1994-11-16              8.8                    3.2              3.35\n",
       "  9999 │ 1994-11-15             14.3                    8.63             7.35\n",
       " 10000 │ 1994-11-14             14.5                    9.94             9.0   ⋯\n",
       "\u001b[36m                                                66 columns and 9979 rows omitted\u001b[0m"
      ]
     },
     "execution_count": 14,
     "metadata": {},
     "output_type": "execute_result"
    }
   ],
   "source": [
    "data_folder = \"Data/\"\n",
    "file_name   = \"weatherstats_montreal_daily.csv\"\n",
    "df = DataFrame(CSV.File(data_folder * file_name))\n",
    "first(df, 5)"
   ]
  },
  {
   "cell_type": "code",
   "execution_count": 31,
   "id": "dbbc95cd",
   "metadata": {},
   "outputs": [
    {
     "data": {
      "text/plain": [
       "false"
      ]
     },
     "execution_count": 31,
     "metadata": {},
     "output_type": "execute_result"
    }
   ],
   "source": [
    "\"pop\" in names(df)"
   ]
  },
  {
   "cell_type": "code",
   "execution_count": 25,
   "id": "82f90619",
   "metadata": {},
   "outputs": [
    {
     "data": {
      "text/plain": [
       "10000"
      ]
     },
     "execution_count": 25,
     "metadata": {},
     "output_type": "execute_result"
    }
   ],
   "source": [
    "nrow(df)"
   ]
  },
  {
   "cell_type": "code",
   "execution_count": 30,
   "id": "9fed3615",
   "metadata": {},
   "outputs": [
    {
     "data": {
      "text/plain": [
       "70"
      ]
     },
     "execution_count": 30,
     "metadata": {},
     "output_type": "execute_result"
    }
   ],
   "source": [
    "ncol(df)"
   ]
  },
  {
   "cell_type": "code",
   "execution_count": 42,
   "id": "8598b987",
   "metadata": {},
   "outputs": [
    {
     "data": {
      "text/plain": [
       "10000-element Vector{Int64}:\n",
       "     1\n",
       "     2\n",
       "     3\n",
       "     4\n",
       "     5\n",
       "     6\n",
       "     7\n",
       "     8\n",
       "     9\n",
       "    10\n",
       "    11\n",
       "    12\n",
       "    13\n",
       "     ⋮\n",
       "  9989\n",
       "  9990\n",
       "  9991\n",
       "  9992\n",
       "  9993\n",
       "  9994\n",
       "  9995\n",
       "  9996\n",
       "  9997\n",
       "  9998\n",
       "  9999\n",
       " 10000"
      ]
     },
     "execution_count": 42,
     "metadata": {},
     "output_type": "execute_result"
    }
   ],
   "source": [
    "## Get the data\n",
    "temp  = df.avg_temperature\n",
    "jours = [i for i in 1:length(df.avg_temperature)]"
   ]
  },
  {
   "cell_type": "markdown",
   "id": "3a5d91f8",
   "metadata": {},
   "source": [
    "## Régression non linéaire "
   ]
  },
  {
   "cell_type": "code",
   "execution_count": 86,
   "id": "e685a3b1",
   "metadata": {},
   "outputs": [
    {
     "data": {
      "text/plain": [
       "modele_simple (generic function with 1 method)"
      ]
     },
     "execution_count": 86,
     "metadata": {},
     "output_type": "execute_result"
    }
   ],
   "source": [
    "## Premier modèle classique du papier\n",
    "# t: array of independent variable\n",
    "# p: array of model parameters\n",
    "modele_simple(t, p) = p[1] .+ p[2]*t .+ p[3]*cos.(2*pi*t/365.25) .+ p[4]*sin.(2*pi*t/365.25) .+  p[5]*cos.(2*pi*t/(10.7*365.25)) .+  p[6]*sin.(2*pi*t/(10.7*365.25))"
   ]
  },
  {
   "cell_type": "code",
   "execution_count": 90,
   "id": "53475675",
   "metadata": {},
   "outputs": [
    {
     "data": {
      "text/plain": [
       "modele_harmonique (generic function with 1 method)"
      ]
     },
     "execution_count": 90,
     "metadata": {},
     "output_type": "execute_result"
    }
   ],
   "source": [
    "modele_harmonique(t, p) = p[1] .+ p[2]*t .+ p[3]*cos.(2*pi*t/365.25) .+ p[4]*sin.(2*pi*t/365.25) .+  p[5]*cos.(2*pi*t/(10.7*365.25)) .+  p[6]*sin.(2*pi*t/(10.7*365.25)) .+  p[7]*cos.(4*pi*t/(365.25)) .+  p[8]*sin.(4*pi*t/(365.25))"
   ]
  },
  {
   "cell_type": "code",
   "execution_count": 94,
   "id": "d280fa06",
   "metadata": {},
   "outputs": [
    {
     "data": {
      "text/plain": [
       "LsqFit.LsqFitResult{Vector{Float64}, Vector{Float64}, Matrix{Float64}, Vector{Float64}}([7.692148549433008, -6.568308514822362e-5, -5.668829648232002, -14.250878022537323, 0.2921050884184193, 0.11832982248027779], [-3.2287506359544653, 4.178823772816427, 5.588218989598888, 10.89950624903156, 4.612756225645327, -3.3719609870505503, -4.75457589731039, -4.135019635715937, 0.4367760244439086, -0.4791213530164085  …  2.741103340097009, -5.071473638767533, -7.251785369401198, -2.019899843837166, -7.685885704074355, -8.149812221764016, -3.211749277709931, -2.8717673411919047, -6.6299374491116, -8.036331184970356], [0.9999999999934013 0.9999999999502168 … 0.9999987076412624 0.0016077024860833202; 0.9999999999934013 2.0000000000471077 … 0.9999948305677253 0.0032154007919543773; … ; 0.9999999999934013 9998.999999999956 … -0.9332426053096522 -0.35924676698286817; 0.9999999999934013 9999.99999999998 … -0.9326638372475743 -0.36074667913889624], true, Float64[])"
      ]
     },
     "execution_count": 94,
     "metadata": {},
     "output_type": "execute_result"
    }
   ],
   "source": [
    "p0_S  = [2.6, 3.5, -20.0, -8.31, -0.197, 0.211]\n",
    "fit_S = curve_fit(modele_simple, jours, temp, p0_S)"
   ]
  },
  {
   "cell_type": "code",
   "execution_count": 92,
   "id": "28c2159b",
   "metadata": {},
   "outputs": [
    {
     "data": {
      "text/plain": [
       "LsqFit.LsqFitResult{Vector{Float64}, Vector{Float64}, Matrix{Float64}, Vector{Float64}}([7.698429441857615, -6.624289856695777e-5, -5.663344240343394, -14.244929294301345, 0.2940904948960037, 0.1169074239590533, 0.4532455029627756, -0.7365648689539086], [-2.7872593879229015, 4.594301254927101, 5.977205776151072, 11.261556847931963, 4.947457108093483, -3.064990898670132, -4.475684779969398, -3.8845223552482913, 0.6585982843857942, -0.2862212839163565  …  3.3336076927908738, -4.4577602962956036, -6.617589095862655, -1.3659710600981316, -7.012998305265072, -7.458762661568367, -2.5033556259187706, -2.146868315635854, -5.889391423118777, -7.281015171523746], [0.9999999999934757 0.9999999999502168 … 0.9994082115903262 0.03439806059828307; 0.9999999999934757 2.0000000000471077 … 0.9976335468795511 0.06875540849591907; … ; 0.9999999999934757 9998.999999999956 … 0.00967621241304924 -0.9999531843596766; 0.9999999999934757 10000.0000000002 … 0.04406693633545649 -0.9990285807367247], true, Float64[])"
      ]
     },
     "execution_count": 92,
     "metadata": {},
     "output_type": "execute_result"
    }
   ],
   "source": [
    "p0_H  = [2.6, 3.5, -20.0, -8.31, -0.197, 0.211, 1.0, 2.0]\n",
    "fit_H = curve_fit(modele_harmonique, jours, temp, p0_H)"
   ]
  },
  {
   "cell_type": "markdown",
   "id": "5d53fa8e",
   "metadata": {},
   "source": [
    "### Affichage des paramètres trouvés"
   ]
  },
  {
   "cell_type": "code",
   "execution_count": 95,
   "id": "3344a987",
   "metadata": {},
   "outputs": [
    {
     "data": {
      "text/plain": [
       "6-element Vector{Float64}:\n",
       "   7.692148549433008\n",
       "  -6.568308514822362e-5\n",
       "  -5.668829648232002\n",
       " -14.250878022537323\n",
       "   0.2921050884184193\n",
       "   0.11832982248027779"
      ]
     },
     "execution_count": 95,
     "metadata": {},
     "output_type": "execute_result"
    }
   ],
   "source": [
    "fit_S.param"
   ]
  },
  {
   "cell_type": "code",
   "execution_count": 96,
   "id": "ca886a71",
   "metadata": {},
   "outputs": [
    {
     "data": {
      "text/plain": [
       "8-element Vector{Float64}:\n",
       "   7.698429441857615\n",
       "  -6.624289856695777e-5\n",
       "  -5.663344240343394\n",
       " -14.244929294301345\n",
       "   0.2940904948960037\n",
       "   0.1169074239590533\n",
       "   0.4532455029627756\n",
       "  -0.7365648689539086"
      ]
     },
     "execution_count": 96,
     "metadata": {},
     "output_type": "execute_result"
    }
   ],
   "source": [
    "fit_H.param"
   ]
  },
  {
   "cell_type": "code",
   "execution_count": 104,
   "id": "0c608f67",
   "metadata": {},
   "outputs": [
    {
     "data": {
      "text/plain": [
       "213308.66581277817"
      ]
     },
     "execution_count": 104,
     "metadata": {},
     "output_type": "execute_result"
    }
   ],
   "source": [
    "sum(fit_S.resid.^2)"
   ]
  },
  {
   "cell_type": "code",
   "execution_count": 105,
   "id": "ed78eaee",
   "metadata": {},
   "outputs": [
    {
     "data": {
      "text/plain": [
       "209578.65082257235"
      ]
     },
     "execution_count": 105,
     "metadata": {},
     "output_type": "execute_result"
    }
   ],
   "source": [
    "sum(fit_H.resid.^2)"
   ]
  },
  {
   "cell_type": "markdown",
   "id": "9d4b557a",
   "metadata": {},
   "source": [
    "### Estimate goodness of fit"
   ]
  },
  {
   "cell_type": "code",
   "execution_count": 107,
   "id": "26709130",
   "metadata": {},
   "outputs": [
    {
     "data": {
      "text/plain": [
       "6×6 Matrix{Float64}:\n",
       "  0.00866214   -1.29183e-6    2.85544e-5  …  -0.00037037  -0.000630293\n",
       " -1.29183e-6    2.58341e-10  -9.35249e-9      9.43813e-8   1.76955e-8\n",
       "  2.85544e-5   -9.35249e-9    0.0042822       2.87306e-5   1.77622e-5\n",
       " -6.48364e-5    3.66064e-9   -1.1475e-5      -1.78494e-5   2.82712e-5\n",
       " -0.00037037    9.43813e-8    2.87306e-5      0.00422105  -5.32003e-5\n",
       " -0.000630293   1.76955e-8    1.77622e-5  …  -5.32003e-5   0.00449482"
      ]
     },
     "execution_count": 107,
     "metadata": {},
     "output_type": "execute_result"
    }
   ],
   "source": [
    "# se = standard_error(fit_S)\n",
    "cov = estimate_covar(fit_S)"
   ]
  },
  {
   "cell_type": "code",
   "execution_count": 108,
   "id": "0568cb69",
   "metadata": {},
   "outputs": [
    {
     "data": {
      "text/plain": [
       "8×8 Matrix{Float64}:\n",
       "  0.00851305   -1.26962e-6    2.87084e-5  …  -2.11797e-5  -4.88232e-5\n",
       " -1.26962e-6    2.53899e-10  -9.30871e-9      6.81852e-9   7.37583e-9\n",
       "  2.87084e-5   -9.30871e-9    0.00420878     -2.31501e-5  -4.54935e-5\n",
       " -6.37979e-5    3.6435e-9    -1.13853e-5      3.90959e-5  -9.95886e-6\n",
       " -0.000363602   9.26779e-8    2.8589e-5      -1.90172e-5  -2.29909e-5\n",
       " -0.000619365   1.73762e-8    1.74917e-5  …  -1.02235e-5   1.84439e-6\n",
       " -2.11797e-5    6.81852e-9   -2.31501e-5      0.0041968   -1.17372e-5\n",
       " -4.88232e-5    7.37583e-9   -4.54935e-5     -1.17372e-5   0.00419495"
      ]
     },
     "execution_count": 108,
     "metadata": {},
     "output_type": "execute_result"
    }
   ],
   "source": [
    "cov = estimate_covar(fit_H)"
   ]
  },
  {
   "cell_type": "markdown",
   "id": "d78fe17a",
   "metadata": {},
   "source": [
    "## Plots"
   ]
  },
  {
   "cell_type": "code",
   "execution_count": 110,
   "id": "7e137b14",
   "metadata": {},
   "outputs": [
    {
     "data": {
      "text/plain": [
       "10000-element Vector{Float64}:\n",
       "  2.5127406120770983\n",
       "  2.2443012549271018\n",
       "  1.9772057761510717\n",
       "  1.7115568479319636\n",
       "  1.4474571080934828\n",
       "  1.185009101329868\n",
       "  0.9243152200306026\n",
       "  0.6654776447517085\n",
       "  0.40859828438579415\n",
       "  0.15377871608364352\n",
       " -0.09887987501953235\n",
       " -0.34927675621950943\n",
       " -0.5973117077462468\n",
       "  ⋮\n",
       " -1.0586684488535494\n",
       " -0.8133925854786691\n",
       " -0.566392307209126\n",
       " -0.3177602962956041\n",
       " -0.06758909586265538\n",
       "  0.18402893990186842\n",
       "  0.437001694734928\n",
       "  0.6912373384316329\n",
       "  0.9466443740812297\n",
       "  1.2031316843641462\n",
       "  1.4606085768812223\n",
       "  1.7189848284762532"
      ]
     },
     "execution_count": 110,
     "metadata": {},
     "output_type": "execute_result"
    }
   ],
   "source": [
    "pred_S = modele_simple(jours, fit_S.param)\n",
    "pred_H = modele_harmonique(jours, fit_H.param)"
   ]
  },
  {
   "cell_type": "code",
   "execution_count": 134,
   "id": "2f080605",
   "metadata": {},
   "outputs": [],
   "source": [
    "using Plots\n",
    "\n",
    "gr()\n",
    "scatter(df.date, temp, label=\"Température de Montréal\", markersize=1, markercolor=\"blue\")\n",
    "p = plot!(df.date, [pred_S pred_H], title=\"Prédiction des Modèles pour Montréal\", label=[\"Modèle Simple\" \"Modèle avec Harmoniques\"], linecolor=[\"red\" \"cyan\"])\n",
    "xlabel!(\"Time t\")\n",
    "plot!(size=(1000,400))\n",
    "savefig(\"Results/Two_Models.png\")"
   ]
  }
 ],
 "metadata": {
  "kernelspec": {
   "display_name": "Julia 1.7.1",
   "language": "julia",
   "name": "julia-1.7"
  },
  "language_info": {
   "file_extension": ".jl",
   "mimetype": "application/julia",
   "name": "julia",
   "version": "1.7.1"
  }
 },
 "nbformat": 4,
 "nbformat_minor": 5
}
